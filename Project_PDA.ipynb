{
 "cells": [
  {
   "cell_type": "markdown",
   "metadata": {
    "id": "yttPyRnErRy2"
   },
   "source": [
    "# Project PDA - Drug Consumption"
   ]
  },
  {
   "cell_type": "markdown",
   "metadata": {
    "id": "6KR0PQSGadoD"
   },
   "source": [
    "Hello!\n",
    "\n",
    "Here is the notebook for the project or Python for Data Analysis.\n",
    "For this project we have to analyse, visualize and create a model aroud a given dataset.\n",
    "The dataset we will be working with is \"Drug Consumption\" from 2016 with 1885 respondants and 12 attributes.\n",
    "\n",
    "You can find our dataset here: https://archive.ics.uci.edu/dataset/373/drug+consumption+quantified"
   ]
  },
  {
   "cell_type": "markdown",
   "metadata": {
    "id": "i9gIkRZFrYZE"
   },
   "source": [
    "## Imports"
   ]
  },
  {
   "cell_type": "markdown",
   "metadata": {
    "id": "MU1zRe81b6dS"
   },
   "source": [
    "We import the libraries we will need for the rest of this notebook :\n",
    "\n",
    "* Pandas to help us manipulate datasets\n",
    "* Matplolib to help us creating plots to visualize the data"
   ]
  },
  {
   "cell_type": "code",
   "execution_count": 1,
   "metadata": {
    "id": "jYsSXGaFrJDS"
   },
   "outputs": [],
   "source": [
    "import numpy as np\n",
    "import pandas as pd\n",
    "import matplotlib.pyplot as plt\n",
    "import seaborn as sns"
   ]
  },
  {
   "cell_type": "markdown",
   "metadata": {
    "id": "a_TbfGBl6SQv"
   },
   "source": [
    "We start by importing all the scikit-learn library and all the models we will need for creating ou own machine learning algorithm models."
   ]
  },
  {
   "cell_type": "code",
   "execution_count": 2,
   "metadata": {
    "id": "sKBEAQ0d6RLI"
   },
   "outputs": [],
   "source": [
    "from sklearn.preprocessing import OrdinalEncoder, StandardScaler, Binarizer\n",
    "from sklearn.metrics import mean_squared_error, mean_absolute_error\n",
    "from sklearn.model_selection import train_test_split, GridSearchCV\n",
    "from sklearn.pipeline import make_pipeline\n",
    "from sklearn.neighbors import KNeighborsRegressor\n",
    "from sklearn.ensemble import RandomForestRegressor\n",
    "from sklearn.naive_bayes import GaussianNB"
   ]
  },
  {
   "cell_type": "markdown",
   "metadata": {
    "id": "xTZLr0-ksM1m"
   },
   "source": [
    "## Load the Dataset and rearranging the data"
   ]
  },
  {
   "cell_type": "markdown",
   "metadata": {
    "id": "T7HuLcuqcCBS"
   },
   "source": [
    "For this part we are going to pre-process the dataset by encoding, normalizing, and impute all of it."
   ]
  },
  {
   "cell_type": "markdown",
   "metadata": {
    "id": "P_vdITHEsaqf"
   },
   "source": [
    "### Load the Dataset"
   ]
  },
  {
   "cell_type": "markdown",
   "metadata": {
    "id": "1e9sXLjXcFO1"
   },
   "source": [
    "The first step is to read the dataset into a dataframe thanks to Pandas library. We are reaching it with a direct link to Racel's Github account."
   ]
  },
  {
   "cell_type": "code",
   "execution_count": 3,
   "metadata": {
    "colab": {
     "base_uri": "https://localhost:8080/",
     "height": 256
    },
    "id": "I0B1oAp3sKto",
    "outputId": "a8a891b9-640b-4bf7-c805-4929822b788b"
   },
   "outputs": [
    {
     "data": {
      "text/html": [
       "<div>\n",
       "<style scoped>\n",
       "    .dataframe tbody tr th:only-of-type {\n",
       "        vertical-align: middle;\n",
       "    }\n",
       "\n",
       "    .dataframe tbody tr th {\n",
       "        vertical-align: top;\n",
       "    }\n",
       "\n",
       "    .dataframe thead th {\n",
       "        text-align: right;\n",
       "    }\n",
       "</style>\n",
       "<table border=\"1\" class=\"dataframe\">\n",
       "  <thead>\n",
       "    <tr style=\"text-align: right;\">\n",
       "      <th></th>\n",
       "      <th>0</th>\n",
       "      <th>1</th>\n",
       "      <th>2</th>\n",
       "      <th>3</th>\n",
       "      <th>4</th>\n",
       "      <th>5</th>\n",
       "      <th>6</th>\n",
       "      <th>7</th>\n",
       "      <th>8</th>\n",
       "      <th>9</th>\n",
       "      <th>...</th>\n",
       "      <th>22</th>\n",
       "      <th>23</th>\n",
       "      <th>24</th>\n",
       "      <th>25</th>\n",
       "      <th>26</th>\n",
       "      <th>27</th>\n",
       "      <th>28</th>\n",
       "      <th>29</th>\n",
       "      <th>30</th>\n",
       "      <th>31</th>\n",
       "    </tr>\n",
       "  </thead>\n",
       "  <tbody>\n",
       "    <tr>\n",
       "      <th>0</th>\n",
       "      <td>1</td>\n",
       "      <td>0.49788</td>\n",
       "      <td>0.48246</td>\n",
       "      <td>-0.05921</td>\n",
       "      <td>0.96082</td>\n",
       "      <td>0.12600</td>\n",
       "      <td>0.31287</td>\n",
       "      <td>-0.57545</td>\n",
       "      <td>-0.58331</td>\n",
       "      <td>-0.91699</td>\n",
       "      <td>...</td>\n",
       "      <td>CL0</td>\n",
       "      <td>CL0</td>\n",
       "      <td>CL0</td>\n",
       "      <td>CL0</td>\n",
       "      <td>CL0</td>\n",
       "      <td>CL0</td>\n",
       "      <td>CL0</td>\n",
       "      <td>CL2</td>\n",
       "      <td>CL0</td>\n",
       "      <td>CL0</td>\n",
       "    </tr>\n",
       "    <tr>\n",
       "      <th>1</th>\n",
       "      <td>2</td>\n",
       "      <td>-0.07854</td>\n",
       "      <td>-0.48246</td>\n",
       "      <td>1.98437</td>\n",
       "      <td>0.96082</td>\n",
       "      <td>-0.31685</td>\n",
       "      <td>-0.67825</td>\n",
       "      <td>1.93886</td>\n",
       "      <td>1.43533</td>\n",
       "      <td>0.76096</td>\n",
       "      <td>...</td>\n",
       "      <td>CL4</td>\n",
       "      <td>CL0</td>\n",
       "      <td>CL2</td>\n",
       "      <td>CL0</td>\n",
       "      <td>CL2</td>\n",
       "      <td>CL3</td>\n",
       "      <td>CL0</td>\n",
       "      <td>CL4</td>\n",
       "      <td>CL0</td>\n",
       "      <td>CL0</td>\n",
       "    </tr>\n",
       "    <tr>\n",
       "      <th>2</th>\n",
       "      <td>3</td>\n",
       "      <td>0.49788</td>\n",
       "      <td>-0.48246</td>\n",
       "      <td>-0.05921</td>\n",
       "      <td>0.96082</td>\n",
       "      <td>-0.31685</td>\n",
       "      <td>-0.46725</td>\n",
       "      <td>0.80523</td>\n",
       "      <td>-0.84732</td>\n",
       "      <td>-1.62090</td>\n",
       "      <td>...</td>\n",
       "      <td>CL0</td>\n",
       "      <td>CL0</td>\n",
       "      <td>CL0</td>\n",
       "      <td>CL0</td>\n",
       "      <td>CL0</td>\n",
       "      <td>CL0</td>\n",
       "      <td>CL1</td>\n",
       "      <td>CL0</td>\n",
       "      <td>CL0</td>\n",
       "      <td>CL0</td>\n",
       "    </tr>\n",
       "    <tr>\n",
       "      <th>3</th>\n",
       "      <td>4</td>\n",
       "      <td>-0.95197</td>\n",
       "      <td>0.48246</td>\n",
       "      <td>1.16365</td>\n",
       "      <td>0.96082</td>\n",
       "      <td>-0.31685</td>\n",
       "      <td>-0.14882</td>\n",
       "      <td>-0.80615</td>\n",
       "      <td>-0.01928</td>\n",
       "      <td>0.59042</td>\n",
       "      <td>...</td>\n",
       "      <td>CL0</td>\n",
       "      <td>CL0</td>\n",
       "      <td>CL2</td>\n",
       "      <td>CL0</td>\n",
       "      <td>CL0</td>\n",
       "      <td>CL0</td>\n",
       "      <td>CL0</td>\n",
       "      <td>CL2</td>\n",
       "      <td>CL0</td>\n",
       "      <td>CL0</td>\n",
       "    </tr>\n",
       "    <tr>\n",
       "      <th>4</th>\n",
       "      <td>5</td>\n",
       "      <td>0.49788</td>\n",
       "      <td>0.48246</td>\n",
       "      <td>1.98437</td>\n",
       "      <td>0.96082</td>\n",
       "      <td>-0.31685</td>\n",
       "      <td>0.73545</td>\n",
       "      <td>-1.63340</td>\n",
       "      <td>-0.45174</td>\n",
       "      <td>-0.30172</td>\n",
       "      <td>...</td>\n",
       "      <td>CL1</td>\n",
       "      <td>CL0</td>\n",
       "      <td>CL0</td>\n",
       "      <td>CL1</td>\n",
       "      <td>CL0</td>\n",
       "      <td>CL0</td>\n",
       "      <td>CL2</td>\n",
       "      <td>CL2</td>\n",
       "      <td>CL0</td>\n",
       "      <td>CL0</td>\n",
       "    </tr>\n",
       "  </tbody>\n",
       "</table>\n",
       "<p>5 rows × 32 columns</p>\n",
       "</div>"
      ],
      "text/plain": [
       "   0        1        2        3        4        5        6        7        8   \\\n",
       "0   1  0.49788  0.48246 -0.05921  0.96082  0.12600  0.31287 -0.57545 -0.58331   \n",
       "1   2 -0.07854 -0.48246  1.98437  0.96082 -0.31685 -0.67825  1.93886  1.43533   \n",
       "2   3  0.49788 -0.48246 -0.05921  0.96082 -0.31685 -0.46725  0.80523 -0.84732   \n",
       "3   4 -0.95197  0.48246  1.16365  0.96082 -0.31685 -0.14882 -0.80615 -0.01928   \n",
       "4   5  0.49788  0.48246  1.98437  0.96082 -0.31685  0.73545 -1.63340 -0.45174   \n",
       "\n",
       "        9   ...   22   23   24   25   26   27   28   29   30   31  \n",
       "0 -0.91699  ...  CL0  CL0  CL0  CL0  CL0  CL0  CL0  CL2  CL0  CL0  \n",
       "1  0.76096  ...  CL4  CL0  CL2  CL0  CL2  CL3  CL0  CL4  CL0  CL0  \n",
       "2 -1.62090  ...  CL0  CL0  CL0  CL0  CL0  CL0  CL1  CL0  CL0  CL0  \n",
       "3  0.59042  ...  CL0  CL0  CL2  CL0  CL0  CL0  CL0  CL2  CL0  CL0  \n",
       "4 -0.30172  ...  CL1  CL0  CL0  CL1  CL0  CL0  CL2  CL2  CL0  CL0  \n",
       "\n",
       "[5 rows x 32 columns]"
      ]
     },
     "execution_count": 3,
     "metadata": {},
     "output_type": "execute_result"
    }
   ],
   "source": [
    "df = pd.read_csv(\"drug_consumption.csv\", header=None)\n",
    "df.head(5)"
   ]
  },
  {
   "cell_type": "markdown",
   "metadata": {
    "id": "mXCVHPGtcIxC"
   },
   "source": [
    "We can have a first look at the loaded dataframe. We can observe the lack of columns names. We add them manually and set an index name 'ID'."
   ]
  },
  {
   "cell_type": "code",
   "execution_count": 4,
   "metadata": {
    "colab": {
     "base_uri": "https://localhost:8080/",
     "height": 287
    },
    "id": "r0HFrCxOs5UT",
    "outputId": "22e90276-3aaa-4f37-fc12-9c983837ba61"
   },
   "outputs": [
    {
     "data": {
      "text/html": [
       "<div>\n",
       "<style scoped>\n",
       "    .dataframe tbody tr th:only-of-type {\n",
       "        vertical-align: middle;\n",
       "    }\n",
       "\n",
       "    .dataframe tbody tr th {\n",
       "        vertical-align: top;\n",
       "    }\n",
       "\n",
       "    .dataframe thead th {\n",
       "        text-align: right;\n",
       "    }\n",
       "</style>\n",
       "<table border=\"1\" class=\"dataframe\">\n",
       "  <thead>\n",
       "    <tr style=\"text-align: right;\">\n",
       "      <th></th>\n",
       "      <th>Age</th>\n",
       "      <th>Gender</th>\n",
       "      <th>Education</th>\n",
       "      <th>Country</th>\n",
       "      <th>Ethnicity</th>\n",
       "      <th>Nscore</th>\n",
       "      <th>Escore</th>\n",
       "      <th>Oscore</th>\n",
       "      <th>Ascore</th>\n",
       "      <th>Cscore</th>\n",
       "      <th>...</th>\n",
       "      <th>Ecstasy</th>\n",
       "      <th>Heroin</th>\n",
       "      <th>Ketamine</th>\n",
       "      <th>Legalh</th>\n",
       "      <th>LSD</th>\n",
       "      <th>Meth</th>\n",
       "      <th>Mushrooms</th>\n",
       "      <th>Nicotine</th>\n",
       "      <th>Semer</th>\n",
       "      <th>VSA</th>\n",
       "    </tr>\n",
       "    <tr>\n",
       "      <th>ID</th>\n",
       "      <th></th>\n",
       "      <th></th>\n",
       "      <th></th>\n",
       "      <th></th>\n",
       "      <th></th>\n",
       "      <th></th>\n",
       "      <th></th>\n",
       "      <th></th>\n",
       "      <th></th>\n",
       "      <th></th>\n",
       "      <th></th>\n",
       "      <th></th>\n",
       "      <th></th>\n",
       "      <th></th>\n",
       "      <th></th>\n",
       "      <th></th>\n",
       "      <th></th>\n",
       "      <th></th>\n",
       "      <th></th>\n",
       "      <th></th>\n",
       "      <th></th>\n",
       "    </tr>\n",
       "  </thead>\n",
       "  <tbody>\n",
       "    <tr>\n",
       "      <th>1</th>\n",
       "      <td>0.49788</td>\n",
       "      <td>0.48246</td>\n",
       "      <td>-0.05921</td>\n",
       "      <td>0.96082</td>\n",
       "      <td>0.12600</td>\n",
       "      <td>0.31287</td>\n",
       "      <td>-0.57545</td>\n",
       "      <td>-0.58331</td>\n",
       "      <td>-0.91699</td>\n",
       "      <td>-0.00665</td>\n",
       "      <td>...</td>\n",
       "      <td>CL0</td>\n",
       "      <td>CL0</td>\n",
       "      <td>CL0</td>\n",
       "      <td>CL0</td>\n",
       "      <td>CL0</td>\n",
       "      <td>CL0</td>\n",
       "      <td>CL0</td>\n",
       "      <td>CL2</td>\n",
       "      <td>CL0</td>\n",
       "      <td>CL0</td>\n",
       "    </tr>\n",
       "    <tr>\n",
       "      <th>2</th>\n",
       "      <td>-0.07854</td>\n",
       "      <td>-0.48246</td>\n",
       "      <td>1.98437</td>\n",
       "      <td>0.96082</td>\n",
       "      <td>-0.31685</td>\n",
       "      <td>-0.67825</td>\n",
       "      <td>1.93886</td>\n",
       "      <td>1.43533</td>\n",
       "      <td>0.76096</td>\n",
       "      <td>-0.14277</td>\n",
       "      <td>...</td>\n",
       "      <td>CL4</td>\n",
       "      <td>CL0</td>\n",
       "      <td>CL2</td>\n",
       "      <td>CL0</td>\n",
       "      <td>CL2</td>\n",
       "      <td>CL3</td>\n",
       "      <td>CL0</td>\n",
       "      <td>CL4</td>\n",
       "      <td>CL0</td>\n",
       "      <td>CL0</td>\n",
       "    </tr>\n",
       "    <tr>\n",
       "      <th>3</th>\n",
       "      <td>0.49788</td>\n",
       "      <td>-0.48246</td>\n",
       "      <td>-0.05921</td>\n",
       "      <td>0.96082</td>\n",
       "      <td>-0.31685</td>\n",
       "      <td>-0.46725</td>\n",
       "      <td>0.80523</td>\n",
       "      <td>-0.84732</td>\n",
       "      <td>-1.62090</td>\n",
       "      <td>-1.01450</td>\n",
       "      <td>...</td>\n",
       "      <td>CL0</td>\n",
       "      <td>CL0</td>\n",
       "      <td>CL0</td>\n",
       "      <td>CL0</td>\n",
       "      <td>CL0</td>\n",
       "      <td>CL0</td>\n",
       "      <td>CL1</td>\n",
       "      <td>CL0</td>\n",
       "      <td>CL0</td>\n",
       "      <td>CL0</td>\n",
       "    </tr>\n",
       "    <tr>\n",
       "      <th>4</th>\n",
       "      <td>-0.95197</td>\n",
       "      <td>0.48246</td>\n",
       "      <td>1.16365</td>\n",
       "      <td>0.96082</td>\n",
       "      <td>-0.31685</td>\n",
       "      <td>-0.14882</td>\n",
       "      <td>-0.80615</td>\n",
       "      <td>-0.01928</td>\n",
       "      <td>0.59042</td>\n",
       "      <td>0.58489</td>\n",
       "      <td>...</td>\n",
       "      <td>CL0</td>\n",
       "      <td>CL0</td>\n",
       "      <td>CL2</td>\n",
       "      <td>CL0</td>\n",
       "      <td>CL0</td>\n",
       "      <td>CL0</td>\n",
       "      <td>CL0</td>\n",
       "      <td>CL2</td>\n",
       "      <td>CL0</td>\n",
       "      <td>CL0</td>\n",
       "    </tr>\n",
       "    <tr>\n",
       "      <th>5</th>\n",
       "      <td>0.49788</td>\n",
       "      <td>0.48246</td>\n",
       "      <td>1.98437</td>\n",
       "      <td>0.96082</td>\n",
       "      <td>-0.31685</td>\n",
       "      <td>0.73545</td>\n",
       "      <td>-1.63340</td>\n",
       "      <td>-0.45174</td>\n",
       "      <td>-0.30172</td>\n",
       "      <td>1.30612</td>\n",
       "      <td>...</td>\n",
       "      <td>CL1</td>\n",
       "      <td>CL0</td>\n",
       "      <td>CL0</td>\n",
       "      <td>CL1</td>\n",
       "      <td>CL0</td>\n",
       "      <td>CL0</td>\n",
       "      <td>CL2</td>\n",
       "      <td>CL2</td>\n",
       "      <td>CL0</td>\n",
       "      <td>CL0</td>\n",
       "    </tr>\n",
       "  </tbody>\n",
       "</table>\n",
       "<p>5 rows × 31 columns</p>\n",
       "</div>"
      ],
      "text/plain": [
       "        Age   Gender  Education  Country  Ethnicity   Nscore   Escore  \\\n",
       "ID                                                                      \n",
       "1   0.49788  0.48246   -0.05921  0.96082    0.12600  0.31287 -0.57545   \n",
       "2  -0.07854 -0.48246    1.98437  0.96082   -0.31685 -0.67825  1.93886   \n",
       "3   0.49788 -0.48246   -0.05921  0.96082   -0.31685 -0.46725  0.80523   \n",
       "4  -0.95197  0.48246    1.16365  0.96082   -0.31685 -0.14882 -0.80615   \n",
       "5   0.49788  0.48246    1.98437  0.96082   -0.31685  0.73545 -1.63340   \n",
       "\n",
       "     Oscore   Ascore   Cscore  ...  Ecstasy  Heroin Ketamine Legalh  LSD Meth  \\\n",
       "ID                             ...                                              \n",
       "1  -0.58331 -0.91699 -0.00665  ...      CL0     CL0      CL0    CL0  CL0  CL0   \n",
       "2   1.43533  0.76096 -0.14277  ...      CL4     CL0      CL2    CL0  CL2  CL3   \n",
       "3  -0.84732 -1.62090 -1.01450  ...      CL0     CL0      CL0    CL0  CL0  CL0   \n",
       "4  -0.01928  0.59042  0.58489  ...      CL0     CL0      CL2    CL0  CL0  CL0   \n",
       "5  -0.45174 -0.30172  1.30612  ...      CL1     CL0      CL0    CL1  CL0  CL0   \n",
       "\n",
       "   Mushrooms Nicotine Semer  VSA  \n",
       "ID                                \n",
       "1        CL0      CL2   CL0  CL0  \n",
       "2        CL0      CL4   CL0  CL0  \n",
       "3        CL1      CL0   CL0  CL0  \n",
       "4        CL0      CL2   CL0  CL0  \n",
       "5        CL2      CL2   CL0  CL0  \n",
       "\n",
       "[5 rows x 31 columns]"
      ]
     },
     "execution_count": 4,
     "metadata": {},
     "output_type": "execute_result"
    }
   ],
   "source": [
    "# Provide the accurate column names in a list\n",
    "columns = [\n",
    "    \"ID\",\n",
    "    \"Age\",\n",
    "    \"Gender\",\n",
    "    \"Education\",\n",
    "    \"Country\",\n",
    "    \"Ethnicity\",\n",
    "    \"Nscore\",\n",
    "    \"Escore\",\n",
    "    \"Oscore\",\n",
    "    \"Ascore\",\n",
    "    \"Cscore\",\n",
    "    \"Impulsive\",\n",
    "    \"SS\",\n",
    "    \"Alcohol\",\n",
    "    \"Amphet\",\n",
    "    \"Amyl\",\n",
    "    \"Benzos\",\n",
    "    \"Caff\",\n",
    "    \"Cannabis\",\n",
    "    \"Choc\",\n",
    "    \"Coke\",\n",
    "    \"Crack\",\n",
    "    \"Ecstasy\",\n",
    "    \"Heroin\",\n",
    "    \"Ketamine\",\n",
    "    \"Legalh\",\n",
    "    \"LSD\",\n",
    "    \"Meth\",\n",
    "    \"Mushrooms\",\n",
    "    \"Nicotine\",\n",
    "    \"Semer\",\n",
    "    \"VSA\"\n",
    "]\n",
    "\n",
    "# Assign them to the df\n",
    "df.columns = columns\n",
    "\n",
    "# Set the index to the ID\n",
    "df.set_index('ID', inplace=True)\n",
    "\n",
    "# Display the df with the new columns and index\n",
    "df.head(5)"
   ]
  },
  {
   "cell_type": "markdown",
   "metadata": {
    "id": "QsSb6x1w4cVp"
   },
   "source": [
    "### Remove Overclaimers"
   ]
  },
  {
   "cell_type": "markdown",
   "metadata": {
    "id": "KbotuqDu4leR"
   },
   "source": [
    "Semer (Semeron) is interesting because it's a fake drug used only to check whether people are lying on the poll. So we can determine which people are lying."
   ]
  },
  {
   "cell_type": "code",
   "execution_count": 5,
   "metadata": {
    "colab": {
     "base_uri": "https://localhost:8080/"
    },
    "id": "MR7VCISv4gGW",
    "outputId": "23f32aff-3615-4d9a-a538-4f86182d22d5"
   },
   "outputs": [
    {
     "data": {
      "text/plain": [
       "True    1885\n",
       "Name: Semer, dtype: int64"
      ]
     },
     "execution_count": 5,
     "metadata": {},
     "output_type": "execute_result"
    }
   ],
   "source": [
    "# Display the Overclaimers\n",
    "(df['Semer'] != 'Never Used').value_counts()"
   ]
  },
  {
   "cell_type": "code",
   "execution_count": 6,
   "metadata": {
    "id": "7ByrxfMOOkFR"
   },
   "outputs": [],
   "source": [
    "df = df[df['Semer'] != 'Never Used']\n",
    "df.drop('Semer', axis=1, inplace=True)"
   ]
  },
  {
   "cell_type": "markdown",
   "metadata": {
    "id": "zMZorYq840Fv"
   },
   "source": [
    "No overclaimers so no need to treat this"
   ]
  },
  {
   "cell_type": "markdown",
   "metadata": {
    "id": "zQ6Y8HgmL8pB"
   },
   "source": [
    "### Adding Columns"
   ]
  },
  {
   "cell_type": "markdown",
   "metadata": {
    "id": "fIhqV-6ukG0n"
   },
   "source": [
    "Let's add here some colums and parameters to help us analyze and visualize the data better."
   ]
  },
  {
   "cell_type": "code",
   "execution_count": 7,
   "metadata": {
    "colab": {
     "base_uri": "https://localhost:8080/"
    },
    "id": "zSyu4Yl740Vg",
    "outputId": "67e29f39-e0ff-40fd-e4e9-a7cb74c30d79"
   },
   "outputs": [
    {
     "data": {
      "text/plain": [
       "Index(['Alcohol', 'Amphet', 'Amyl', 'Benzos', 'Caff', 'Cannabis', 'Choc',\n",
       "       'Coke', 'Crack', 'Ecstasy', 'Heroin', 'Ketamine', 'Legalh', 'LSD',\n",
       "       'Meth', 'Mushrooms', 'Nicotine', 'VSA'],\n",
       "      dtype='object')"
      ]
     },
     "execution_count": 7,
     "metadata": {},
     "output_type": "execute_result"
    }
   ],
   "source": [
    "# Create a list of columns with all the drugs in it\n",
    "drug_names = df.columns[list(df.columns).index('Alcohol'):]\n",
    "drug_names"
   ]
  },
  {
   "cell_type": "code",
   "execution_count": 8,
   "metadata": {
    "id": "yMaY54ZzDXDU"
   },
   "outputs": [],
   "source": [
    "def has_used_at_least_once(element):\n",
    "  '''\n",
    "  Determines if a person has used a drug at least once.\n",
    "  Returns:\n",
    "  - bool: True if the person has used the drug at least once, False otherwise.\n",
    "  '''\n",
    "  possible_values = ['Never Used', 'CL0']\n",
    "  return (element not in possible_values)"
   ]
  },
  {
   "cell_type": "code",
   "execution_count": 9,
   "metadata": {
    "colab": {
     "base_uri": "https://localhost:8080/",
     "height": 475
    },
    "id": "8IX2AMm37Fmf",
    "outputId": "6a9bc6bd-cf32-40f3-bf03-789a18247f2a"
   },
   "outputs": [
    {
     "data": {
      "text/html": [
       "<div>\n",
       "<style scoped>\n",
       "    .dataframe tbody tr th:only-of-type {\n",
       "        vertical-align: middle;\n",
       "    }\n",
       "\n",
       "    .dataframe tbody tr th {\n",
       "        vertical-align: top;\n",
       "    }\n",
       "\n",
       "    .dataframe thead th {\n",
       "        text-align: right;\n",
       "    }\n",
       "</style>\n",
       "<table border=\"1\" class=\"dataframe\">\n",
       "  <thead>\n",
       "    <tr style=\"text-align: right;\">\n",
       "      <th></th>\n",
       "      <th>Alcohol</th>\n",
       "      <th>Amphet</th>\n",
       "      <th>Amyl</th>\n",
       "      <th>Benzos</th>\n",
       "      <th>Caff</th>\n",
       "      <th>Cannabis</th>\n",
       "      <th>Choc</th>\n",
       "      <th>Coke</th>\n",
       "      <th>Crack</th>\n",
       "      <th>Ecstasy</th>\n",
       "      <th>Heroin</th>\n",
       "      <th>Ketamine</th>\n",
       "      <th>Legalh</th>\n",
       "      <th>LSD</th>\n",
       "      <th>Meth</th>\n",
       "      <th>Mushrooms</th>\n",
       "      <th>Nicotine</th>\n",
       "      <th>VSA</th>\n",
       "    </tr>\n",
       "    <tr>\n",
       "      <th>ID</th>\n",
       "      <th></th>\n",
       "      <th></th>\n",
       "      <th></th>\n",
       "      <th></th>\n",
       "      <th></th>\n",
       "      <th></th>\n",
       "      <th></th>\n",
       "      <th></th>\n",
       "      <th></th>\n",
       "      <th></th>\n",
       "      <th></th>\n",
       "      <th></th>\n",
       "      <th></th>\n",
       "      <th></th>\n",
       "      <th></th>\n",
       "      <th></th>\n",
       "      <th></th>\n",
       "      <th></th>\n",
       "    </tr>\n",
       "  </thead>\n",
       "  <tbody>\n",
       "    <tr>\n",
       "      <th>1</th>\n",
       "      <td>True</td>\n",
       "      <td>True</td>\n",
       "      <td>False</td>\n",
       "      <td>True</td>\n",
       "      <td>True</td>\n",
       "      <td>False</td>\n",
       "      <td>True</td>\n",
       "      <td>False</td>\n",
       "      <td>False</td>\n",
       "      <td>False</td>\n",
       "      <td>False</td>\n",
       "      <td>False</td>\n",
       "      <td>False</td>\n",
       "      <td>False</td>\n",
       "      <td>False</td>\n",
       "      <td>False</td>\n",
       "      <td>True</td>\n",
       "      <td>False</td>\n",
       "    </tr>\n",
       "    <tr>\n",
       "      <th>2</th>\n",
       "      <td>True</td>\n",
       "      <td>True</td>\n",
       "      <td>True</td>\n",
       "      <td>False</td>\n",
       "      <td>True</td>\n",
       "      <td>True</td>\n",
       "      <td>True</td>\n",
       "      <td>True</td>\n",
       "      <td>False</td>\n",
       "      <td>True</td>\n",
       "      <td>False</td>\n",
       "      <td>True</td>\n",
       "      <td>False</td>\n",
       "      <td>True</td>\n",
       "      <td>True</td>\n",
       "      <td>False</td>\n",
       "      <td>True</td>\n",
       "      <td>False</td>\n",
       "    </tr>\n",
       "    <tr>\n",
       "      <th>3</th>\n",
       "      <td>True</td>\n",
       "      <td>False</td>\n",
       "      <td>False</td>\n",
       "      <td>False</td>\n",
       "      <td>True</td>\n",
       "      <td>True</td>\n",
       "      <td>True</td>\n",
       "      <td>False</td>\n",
       "      <td>False</td>\n",
       "      <td>False</td>\n",
       "      <td>False</td>\n",
       "      <td>False</td>\n",
       "      <td>False</td>\n",
       "      <td>False</td>\n",
       "      <td>False</td>\n",
       "      <td>True</td>\n",
       "      <td>False</td>\n",
       "      <td>False</td>\n",
       "    </tr>\n",
       "    <tr>\n",
       "      <th>4</th>\n",
       "      <td>True</td>\n",
       "      <td>False</td>\n",
       "      <td>False</td>\n",
       "      <td>True</td>\n",
       "      <td>True</td>\n",
       "      <td>True</td>\n",
       "      <td>True</td>\n",
       "      <td>True</td>\n",
       "      <td>False</td>\n",
       "      <td>False</td>\n",
       "      <td>False</td>\n",
       "      <td>True</td>\n",
       "      <td>False</td>\n",
       "      <td>False</td>\n",
       "      <td>False</td>\n",
       "      <td>False</td>\n",
       "      <td>True</td>\n",
       "      <td>False</td>\n",
       "    </tr>\n",
       "    <tr>\n",
       "      <th>5</th>\n",
       "      <td>True</td>\n",
       "      <td>True</td>\n",
       "      <td>True</td>\n",
       "      <td>False</td>\n",
       "      <td>True</td>\n",
       "      <td>True</td>\n",
       "      <td>True</td>\n",
       "      <td>False</td>\n",
       "      <td>False</td>\n",
       "      <td>True</td>\n",
       "      <td>False</td>\n",
       "      <td>False</td>\n",
       "      <td>True</td>\n",
       "      <td>False</td>\n",
       "      <td>False</td>\n",
       "      <td>True</td>\n",
       "      <td>True</td>\n",
       "      <td>False</td>\n",
       "    </tr>\n",
       "    <tr>\n",
       "      <th>...</th>\n",
       "      <td>...</td>\n",
       "      <td>...</td>\n",
       "      <td>...</td>\n",
       "      <td>...</td>\n",
       "      <td>...</td>\n",
       "      <td>...</td>\n",
       "      <td>...</td>\n",
       "      <td>...</td>\n",
       "      <td>...</td>\n",
       "      <td>...</td>\n",
       "      <td>...</td>\n",
       "      <td>...</td>\n",
       "      <td>...</td>\n",
       "      <td>...</td>\n",
       "      <td>...</td>\n",
       "      <td>...</td>\n",
       "      <td>...</td>\n",
       "      <td>...</td>\n",
       "    </tr>\n",
       "    <tr>\n",
       "      <th>1884</th>\n",
       "      <td>True</td>\n",
       "      <td>False</td>\n",
       "      <td>False</td>\n",
       "      <td>False</td>\n",
       "      <td>True</td>\n",
       "      <td>True</td>\n",
       "      <td>True</td>\n",
       "      <td>False</td>\n",
       "      <td>False</td>\n",
       "      <td>False</td>\n",
       "      <td>False</td>\n",
       "      <td>False</td>\n",
       "      <td>True</td>\n",
       "      <td>True</td>\n",
       "      <td>False</td>\n",
       "      <td>False</td>\n",
       "      <td>False</td>\n",
       "      <td>True</td>\n",
       "    </tr>\n",
       "    <tr>\n",
       "      <th>1885</th>\n",
       "      <td>True</td>\n",
       "      <td>False</td>\n",
       "      <td>False</td>\n",
       "      <td>False</td>\n",
       "      <td>True</td>\n",
       "      <td>True</td>\n",
       "      <td>True</td>\n",
       "      <td>False</td>\n",
       "      <td>False</td>\n",
       "      <td>True</td>\n",
       "      <td>False</td>\n",
       "      <td>False</td>\n",
       "      <td>True</td>\n",
       "      <td>True</td>\n",
       "      <td>True</td>\n",
       "      <td>True</td>\n",
       "      <td>True</td>\n",
       "      <td>False</td>\n",
       "    </tr>\n",
       "    <tr>\n",
       "      <th>1886</th>\n",
       "      <td>True</td>\n",
       "      <td>True</td>\n",
       "      <td>True</td>\n",
       "      <td>True</td>\n",
       "      <td>True</td>\n",
       "      <td>True</td>\n",
       "      <td>True</td>\n",
       "      <td>True</td>\n",
       "      <td>False</td>\n",
       "      <td>True</td>\n",
       "      <td>False</td>\n",
       "      <td>True</td>\n",
       "      <td>False</td>\n",
       "      <td>True</td>\n",
       "      <td>False</td>\n",
       "      <td>True</td>\n",
       "      <td>True</td>\n",
       "      <td>False</td>\n",
       "    </tr>\n",
       "    <tr>\n",
       "      <th>1887</th>\n",
       "      <td>True</td>\n",
       "      <td>False</td>\n",
       "      <td>False</td>\n",
       "      <td>False</td>\n",
       "      <td>True</td>\n",
       "      <td>True</td>\n",
       "      <td>True</td>\n",
       "      <td>False</td>\n",
       "      <td>False</td>\n",
       "      <td>True</td>\n",
       "      <td>False</td>\n",
       "      <td>False</td>\n",
       "      <td>True</td>\n",
       "      <td>True</td>\n",
       "      <td>False</td>\n",
       "      <td>True</td>\n",
       "      <td>True</td>\n",
       "      <td>False</td>\n",
       "    </tr>\n",
       "    <tr>\n",
       "      <th>1888</th>\n",
       "      <td>True</td>\n",
       "      <td>True</td>\n",
       "      <td>False</td>\n",
       "      <td>True</td>\n",
       "      <td>True</td>\n",
       "      <td>True</td>\n",
       "      <td>True</td>\n",
       "      <td>True</td>\n",
       "      <td>False</td>\n",
       "      <td>True</td>\n",
       "      <td>False</td>\n",
       "      <td>False</td>\n",
       "      <td>True</td>\n",
       "      <td>True</td>\n",
       "      <td>False</td>\n",
       "      <td>True</td>\n",
       "      <td>True</td>\n",
       "      <td>True</td>\n",
       "    </tr>\n",
       "  </tbody>\n",
       "</table>\n",
       "<p>1885 rows × 18 columns</p>\n",
       "</div>"
      ],
      "text/plain": [
       "      Alcohol  Amphet   Amyl  Benzos  Caff  Cannabis  Choc   Coke  Crack  \\\n",
       "ID                                                                         \n",
       "1        True    True  False    True  True     False  True  False  False   \n",
       "2        True    True   True   False  True      True  True   True  False   \n",
       "3        True   False  False   False  True      True  True  False  False   \n",
       "4        True   False  False    True  True      True  True   True  False   \n",
       "5        True    True   True   False  True      True  True  False  False   \n",
       "...       ...     ...    ...     ...   ...       ...   ...    ...    ...   \n",
       "1884     True   False  False   False  True      True  True  False  False   \n",
       "1885     True   False  False   False  True      True  True  False  False   \n",
       "1886     True    True   True    True  True      True  True   True  False   \n",
       "1887     True   False  False   False  True      True  True  False  False   \n",
       "1888     True    True  False    True  True      True  True   True  False   \n",
       "\n",
       "      Ecstasy  Heroin  Ketamine  Legalh    LSD   Meth  Mushrooms  Nicotine  \\\n",
       "ID                                                                           \n",
       "1       False   False     False   False  False  False      False      True   \n",
       "2        True   False      True   False   True   True      False      True   \n",
       "3       False   False     False   False  False  False       True     False   \n",
       "4       False   False      True   False  False  False      False      True   \n",
       "5        True   False     False    True  False  False       True      True   \n",
       "...       ...     ...       ...     ...    ...    ...        ...       ...   \n",
       "1884    False   False     False    True   True  False      False     False   \n",
       "1885     True   False     False    True   True   True       True      True   \n",
       "1886     True   False      True   False   True  False       True      True   \n",
       "1887     True   False     False    True   True  False       True      True   \n",
       "1888     True   False     False    True   True  False       True      True   \n",
       "\n",
       "        VSA  \n",
       "ID           \n",
       "1     False  \n",
       "2     False  \n",
       "3     False  \n",
       "4     False  \n",
       "5     False  \n",
       "...     ...  \n",
       "1884   True  \n",
       "1885  False  \n",
       "1886  False  \n",
       "1887  False  \n",
       "1888   True  \n",
       "\n",
       "[1885 rows x 18 columns]"
      ]
     },
     "execution_count": 9,
     "metadata": {},
     "output_type": "execute_result"
    }
   ],
   "source": [
    "df[drug_names].applymap(has_used_at_least_once)"
   ]
  },
  {
   "cell_type": "markdown",
   "metadata": {
    "id": "tcBq0eQg9WFu"
   },
   "source": [
    "#### Adding Drugs Tested & Tested More Than Once column"
   ]
  },
  {
   "cell_type": "code",
   "execution_count": 10,
   "metadata": {
    "colab": {
     "base_uri": "https://localhost:8080/"
    },
    "id": "fHFenvzx8ddE",
    "outputId": "696412dc-f230-47a0-bd44-3cd306b62cd2"
   },
   "outputs": [
    {
     "data": {
      "text/plain": [
       "ID\n",
       "1        6\n",
       "2       12\n",
       "3        5\n",
       "4        8\n",
       "5       10\n",
       "        ..\n",
       "1884     7\n",
       "1885    10\n",
       "1886    13\n",
       "1887     9\n",
       "1888    13\n",
       "Name: Drugs Tested, Length: 1885, dtype: int64"
      ]
     },
     "execution_count": 10,
     "metadata": {},
     "output_type": "execute_result"
    }
   ],
   "source": [
    "# Create a column with the number of drugs tested for each person\n",
    "df['Drugs Tested'] = df[drug_names].applymap(has_used_at_least_once).sum(axis=1)\n",
    "df['Drugs Tested']"
   ]
  },
  {
   "cell_type": "code",
   "execution_count": 11,
   "metadata": {
    "colab": {
     "base_uri": "https://localhost:8080/"
    },
    "id": "e9c0BB6OudT9",
    "outputId": "3364daa0-773e-4b4d-cfde-ae764bf16849"
   },
   "outputs": [
    {
     "name": "stdout",
     "output_type": "stream",
     "text": [
      "The mean number of drugs used in the dataset is: 8.97\n"
     ]
    }
   ],
   "source": [
    "# Calculate the mean number of drugs used\n",
    "mean_num_drugs_used = df['Drugs Tested'].mean()\n",
    "\n",
    "print(f\"The mean number of drugs used in the dataset is: {mean_num_drugs_used:.2f}\")"
   ]
  },
  {
   "cell_type": "code",
   "execution_count": 12,
   "metadata": {
    "colab": {
     "base_uri": "https://localhost:8080/"
    },
    "id": "9Gb01tB1-ijH",
    "outputId": "38d3e4a1-fdb7-4fb1-fa53-cab5bdb0f3f6"
   },
   "outputs": [
    {
     "data": {
      "text/plain": [
       "1    1884\n",
       "0       1\n",
       "Name: TMTO, dtype: int64"
      ]
     },
     "execution_count": 12,
     "metadata": {},
     "output_type": "execute_result"
    }
   ],
   "source": [
    "# Create a column for the \"Tested More Than Once\" people\n",
    "df['TMTO'] = (df['Drugs Tested'] >= 1).astype(int)\n",
    "df['TMTO'].value_counts()"
   ]
  },
  {
   "cell_type": "markdown",
   "metadata": {
    "id": "uhfQ2p9QQrZt"
   },
   "source": [
    "So about everyone in this dataset has tested at least one drug"
   ]
  },
  {
   "cell_type": "code",
   "execution_count": 13,
   "metadata": {
    "colab": {
     "base_uri": "https://localhost:8080/",
     "height": 179
    },
    "id": "9zLLB-fuQw3s",
    "outputId": "113abc16-7c5d-44d5-929e-e7432711233c"
   },
   "outputs": [
    {
     "data": {
      "text/html": [
       "<div>\n",
       "<style scoped>\n",
       "    .dataframe tbody tr th:only-of-type {\n",
       "        vertical-align: middle;\n",
       "    }\n",
       "\n",
       "    .dataframe tbody tr th {\n",
       "        vertical-align: top;\n",
       "    }\n",
       "\n",
       "    .dataframe thead th {\n",
       "        text-align: right;\n",
       "    }\n",
       "</style>\n",
       "<table border=\"1\" class=\"dataframe\">\n",
       "  <thead>\n",
       "    <tr style=\"text-align: right;\">\n",
       "      <th></th>\n",
       "      <th>Age</th>\n",
       "      <th>Gender</th>\n",
       "      <th>Education</th>\n",
       "      <th>Country</th>\n",
       "      <th>Ethnicity</th>\n",
       "      <th>Nscore</th>\n",
       "      <th>Escore</th>\n",
       "      <th>Oscore</th>\n",
       "      <th>Ascore</th>\n",
       "      <th>Cscore</th>\n",
       "      <th>...</th>\n",
       "      <th>Heroin</th>\n",
       "      <th>Ketamine</th>\n",
       "      <th>Legalh</th>\n",
       "      <th>LSD</th>\n",
       "      <th>Meth</th>\n",
       "      <th>Mushrooms</th>\n",
       "      <th>Nicotine</th>\n",
       "      <th>VSA</th>\n",
       "      <th>Drugs Tested</th>\n",
       "      <th>TMTO</th>\n",
       "    </tr>\n",
       "    <tr>\n",
       "      <th>ID</th>\n",
       "      <th></th>\n",
       "      <th></th>\n",
       "      <th></th>\n",
       "      <th></th>\n",
       "      <th></th>\n",
       "      <th></th>\n",
       "      <th></th>\n",
       "      <th></th>\n",
       "      <th></th>\n",
       "      <th></th>\n",
       "      <th></th>\n",
       "      <th></th>\n",
       "      <th></th>\n",
       "      <th></th>\n",
       "      <th></th>\n",
       "      <th></th>\n",
       "      <th></th>\n",
       "      <th></th>\n",
       "      <th></th>\n",
       "      <th></th>\n",
       "      <th></th>\n",
       "    </tr>\n",
       "  </thead>\n",
       "  <tbody>\n",
       "    <tr>\n",
       "      <th>1281</th>\n",
       "      <td>-0.95197</td>\n",
       "      <td>-0.48246</td>\n",
       "      <td>0.45468</td>\n",
       "      <td>0.96082</td>\n",
       "      <td>-0.50212</td>\n",
       "      <td>0.82562</td>\n",
       "      <td>0.63779</td>\n",
       "      <td>-0.84732</td>\n",
       "      <td>-2.21844</td>\n",
       "      <td>0.93949</td>\n",
       "      <td>...</td>\n",
       "      <td>CL0</td>\n",
       "      <td>CL0</td>\n",
       "      <td>CL0</td>\n",
       "      <td>CL0</td>\n",
       "      <td>CL0</td>\n",
       "      <td>CL0</td>\n",
       "      <td>CL0</td>\n",
       "      <td>CL0</td>\n",
       "      <td>0</td>\n",
       "      <td>0</td>\n",
       "    </tr>\n",
       "  </tbody>\n",
       "</table>\n",
       "<p>1 rows × 32 columns</p>\n",
       "</div>"
      ],
      "text/plain": [
       "          Age   Gender  Education  Country  Ethnicity   Nscore   Escore  \\\n",
       "ID                                                                        \n",
       "1281 -0.95197 -0.48246    0.45468  0.96082   -0.50212  0.82562  0.63779   \n",
       "\n",
       "       Oscore   Ascore   Cscore  ...  Heroin  Ketamine Legalh  LSD Meth  \\\n",
       "ID                               ...                                      \n",
       "1281 -0.84732 -2.21844  0.93949  ...     CL0       CL0    CL0  CL0  CL0   \n",
       "\n",
       "     Mushrooms Nicotine  VSA Drugs Tested TMTO  \n",
       "ID                                              \n",
       "1281       CL0      CL0  CL0            0    0  \n",
       "\n",
       "[1 rows x 32 columns]"
      ]
     },
     "execution_count": 13,
     "metadata": {},
     "output_type": "execute_result"
    }
   ],
   "source": [
    "# Display the person who hasn't used drugs\n",
    "df[df['TMTO'] == 0]"
   ]
  },
  {
   "cell_type": "markdown",
   "metadata": {
    "id": "5PNqHzD5TLjz"
   },
   "source": [
    "This means that this dataset doesn't contain data about people who never used drugs. So we cannot predict if someone will have a tendency to use drug according to his/her personnality score, only the amount of drugs and the frequency of people already using drugs. So we might as well delete this entry."
   ]
  },
  {
   "cell_type": "markdown",
   "metadata": {
    "id": "247RUgU6xwpI"
   },
   "source": [
    "#### Adding legal and illegal drugs columns"
   ]
  },
  {
   "cell_type": "markdown",
   "metadata": {
    "id": "LYu6hY5bVt-r"
   },
   "source": [
    "We can also add columns about the number of legal and illegal drugs each of these persons took"
   ]
  },
  {
   "cell_type": "code",
   "execution_count": 14,
   "metadata": {
    "id": "4dWgDKmUXERp"
   },
   "outputs": [],
   "source": [
    "legal = ['Alcohol','Choc','Caff', 'Nicotine']\n",
    "illegal = ['Amphet', 'Amyl', 'Benzos', 'Cannabis', 'Coke', 'Crack', 'Ecstasy', 'Heroin', 'Ketamine', 'Legalh', 'LSD', 'Meth', 'Mushrooms']"
   ]
  },
  {
   "cell_type": "code",
   "execution_count": 15,
   "metadata": {
    "id": "RiADttosXAQF"
   },
   "outputs": [],
   "source": [
    "df['Legal Drugs'] = df[legal].applymap(has_used_at_least_once).sum(axis=1)\n",
    "df['Illegal Drugs'] = df[illegal].applymap(has_used_at_least_once).sum(axis=1)"
   ]
  },
  {
   "cell_type": "markdown",
   "metadata": {
    "id": "nD1tGwW05aWX"
   },
   "source": [
    "### Changing the data for drugs"
   ]
  },
  {
   "cell_type": "code",
   "execution_count": 16,
   "metadata": {
    "colab": {
     "base_uri": "https://localhost:8080/",
     "height": 475
    },
    "id": "irH-m5mN5jDm",
    "outputId": "bbe66b52-a8b7-49c1-a179-bc0a4423a317"
   },
   "outputs": [
    {
     "data": {
      "text/html": [
       "<div>\n",
       "<style scoped>\n",
       "    .dataframe tbody tr th:only-of-type {\n",
       "        vertical-align: middle;\n",
       "    }\n",
       "\n",
       "    .dataframe tbody tr th {\n",
       "        vertical-align: top;\n",
       "    }\n",
       "\n",
       "    .dataframe thead th {\n",
       "        text-align: right;\n",
       "    }\n",
       "</style>\n",
       "<table border=\"1\" class=\"dataframe\">\n",
       "  <thead>\n",
       "    <tr style=\"text-align: right;\">\n",
       "      <th></th>\n",
       "      <th>Alcohol</th>\n",
       "      <th>Amphet</th>\n",
       "      <th>Amyl</th>\n",
       "      <th>Benzos</th>\n",
       "      <th>Caff</th>\n",
       "      <th>Cannabis</th>\n",
       "      <th>Choc</th>\n",
       "      <th>Coke</th>\n",
       "      <th>Crack</th>\n",
       "      <th>Ecstasy</th>\n",
       "      <th>Heroin</th>\n",
       "      <th>Ketamine</th>\n",
       "      <th>Legalh</th>\n",
       "      <th>LSD</th>\n",
       "      <th>Meth</th>\n",
       "      <th>Mushrooms</th>\n",
       "      <th>Nicotine</th>\n",
       "      <th>VSA</th>\n",
       "    </tr>\n",
       "    <tr>\n",
       "      <th>ID</th>\n",
       "      <th></th>\n",
       "      <th></th>\n",
       "      <th></th>\n",
       "      <th></th>\n",
       "      <th></th>\n",
       "      <th></th>\n",
       "      <th></th>\n",
       "      <th></th>\n",
       "      <th></th>\n",
       "      <th></th>\n",
       "      <th></th>\n",
       "      <th></th>\n",
       "      <th></th>\n",
       "      <th></th>\n",
       "      <th></th>\n",
       "      <th></th>\n",
       "      <th></th>\n",
       "      <th></th>\n",
       "    </tr>\n",
       "  </thead>\n",
       "  <tbody>\n",
       "    <tr>\n",
       "      <th>1</th>\n",
       "      <td>CL5</td>\n",
       "      <td>CL2</td>\n",
       "      <td>CL0</td>\n",
       "      <td>CL2</td>\n",
       "      <td>CL6</td>\n",
       "      <td>CL0</td>\n",
       "      <td>CL5</td>\n",
       "      <td>CL0</td>\n",
       "      <td>CL0</td>\n",
       "      <td>CL0</td>\n",
       "      <td>CL0</td>\n",
       "      <td>CL0</td>\n",
       "      <td>CL0</td>\n",
       "      <td>CL0</td>\n",
       "      <td>CL0</td>\n",
       "      <td>CL0</td>\n",
       "      <td>CL2</td>\n",
       "      <td>CL0</td>\n",
       "    </tr>\n",
       "    <tr>\n",
       "      <th>2</th>\n",
       "      <td>CL5</td>\n",
       "      <td>CL2</td>\n",
       "      <td>CL2</td>\n",
       "      <td>CL0</td>\n",
       "      <td>CL6</td>\n",
       "      <td>CL4</td>\n",
       "      <td>CL6</td>\n",
       "      <td>CL3</td>\n",
       "      <td>CL0</td>\n",
       "      <td>CL4</td>\n",
       "      <td>CL0</td>\n",
       "      <td>CL2</td>\n",
       "      <td>CL0</td>\n",
       "      <td>CL2</td>\n",
       "      <td>CL3</td>\n",
       "      <td>CL0</td>\n",
       "      <td>CL4</td>\n",
       "      <td>CL0</td>\n",
       "    </tr>\n",
       "    <tr>\n",
       "      <th>3</th>\n",
       "      <td>CL6</td>\n",
       "      <td>CL0</td>\n",
       "      <td>CL0</td>\n",
       "      <td>CL0</td>\n",
       "      <td>CL6</td>\n",
       "      <td>CL3</td>\n",
       "      <td>CL4</td>\n",
       "      <td>CL0</td>\n",
       "      <td>CL0</td>\n",
       "      <td>CL0</td>\n",
       "      <td>CL0</td>\n",
       "      <td>CL0</td>\n",
       "      <td>CL0</td>\n",
       "      <td>CL0</td>\n",
       "      <td>CL0</td>\n",
       "      <td>CL1</td>\n",
       "      <td>CL0</td>\n",
       "      <td>CL0</td>\n",
       "    </tr>\n",
       "    <tr>\n",
       "      <th>4</th>\n",
       "      <td>CL4</td>\n",
       "      <td>CL0</td>\n",
       "      <td>CL0</td>\n",
       "      <td>CL3</td>\n",
       "      <td>CL5</td>\n",
       "      <td>CL2</td>\n",
       "      <td>CL4</td>\n",
       "      <td>CL2</td>\n",
       "      <td>CL0</td>\n",
       "      <td>CL0</td>\n",
       "      <td>CL0</td>\n",
       "      <td>CL2</td>\n",
       "      <td>CL0</td>\n",
       "      <td>CL0</td>\n",
       "      <td>CL0</td>\n",
       "      <td>CL0</td>\n",
       "      <td>CL2</td>\n",
       "      <td>CL0</td>\n",
       "    </tr>\n",
       "    <tr>\n",
       "      <th>5</th>\n",
       "      <td>CL4</td>\n",
       "      <td>CL1</td>\n",
       "      <td>CL1</td>\n",
       "      <td>CL0</td>\n",
       "      <td>CL6</td>\n",
       "      <td>CL3</td>\n",
       "      <td>CL6</td>\n",
       "      <td>CL0</td>\n",
       "      <td>CL0</td>\n",
       "      <td>CL1</td>\n",
       "      <td>CL0</td>\n",
       "      <td>CL0</td>\n",
       "      <td>CL1</td>\n",
       "      <td>CL0</td>\n",
       "      <td>CL0</td>\n",
       "      <td>CL2</td>\n",
       "      <td>CL2</td>\n",
       "      <td>CL0</td>\n",
       "    </tr>\n",
       "    <tr>\n",
       "      <th>...</th>\n",
       "      <td>...</td>\n",
       "      <td>...</td>\n",
       "      <td>...</td>\n",
       "      <td>...</td>\n",
       "      <td>...</td>\n",
       "      <td>...</td>\n",
       "      <td>...</td>\n",
       "      <td>...</td>\n",
       "      <td>...</td>\n",
       "      <td>...</td>\n",
       "      <td>...</td>\n",
       "      <td>...</td>\n",
       "      <td>...</td>\n",
       "      <td>...</td>\n",
       "      <td>...</td>\n",
       "      <td>...</td>\n",
       "      <td>...</td>\n",
       "      <td>...</td>\n",
       "    </tr>\n",
       "    <tr>\n",
       "      <th>1884</th>\n",
       "      <td>CL5</td>\n",
       "      <td>CL0</td>\n",
       "      <td>CL0</td>\n",
       "      <td>CL0</td>\n",
       "      <td>CL4</td>\n",
       "      <td>CL5</td>\n",
       "      <td>CL4</td>\n",
       "      <td>CL0</td>\n",
       "      <td>CL0</td>\n",
       "      <td>CL0</td>\n",
       "      <td>CL0</td>\n",
       "      <td>CL0</td>\n",
       "      <td>CL3</td>\n",
       "      <td>CL3</td>\n",
       "      <td>CL0</td>\n",
       "      <td>CL0</td>\n",
       "      <td>CL0</td>\n",
       "      <td>CL5</td>\n",
       "    </tr>\n",
       "    <tr>\n",
       "      <th>1885</th>\n",
       "      <td>CL5</td>\n",
       "      <td>CL0</td>\n",
       "      <td>CL0</td>\n",
       "      <td>CL0</td>\n",
       "      <td>CL5</td>\n",
       "      <td>CL3</td>\n",
       "      <td>CL4</td>\n",
       "      <td>CL0</td>\n",
       "      <td>CL0</td>\n",
       "      <td>CL2</td>\n",
       "      <td>CL0</td>\n",
       "      <td>CL0</td>\n",
       "      <td>CL3</td>\n",
       "      <td>CL5</td>\n",
       "      <td>CL4</td>\n",
       "      <td>CL4</td>\n",
       "      <td>CL5</td>\n",
       "      <td>CL0</td>\n",
       "    </tr>\n",
       "    <tr>\n",
       "      <th>1886</th>\n",
       "      <td>CL4</td>\n",
       "      <td>CL6</td>\n",
       "      <td>CL5</td>\n",
       "      <td>CL5</td>\n",
       "      <td>CL6</td>\n",
       "      <td>CL6</td>\n",
       "      <td>CL6</td>\n",
       "      <td>CL4</td>\n",
       "      <td>CL0</td>\n",
       "      <td>CL4</td>\n",
       "      <td>CL0</td>\n",
       "      <td>CL2</td>\n",
       "      <td>CL0</td>\n",
       "      <td>CL2</td>\n",
       "      <td>CL0</td>\n",
       "      <td>CL2</td>\n",
       "      <td>CL6</td>\n",
       "      <td>CL0</td>\n",
       "    </tr>\n",
       "    <tr>\n",
       "      <th>1887</th>\n",
       "      <td>CL5</td>\n",
       "      <td>CL0</td>\n",
       "      <td>CL0</td>\n",
       "      <td>CL0</td>\n",
       "      <td>CL6</td>\n",
       "      <td>CL6</td>\n",
       "      <td>CL5</td>\n",
       "      <td>CL0</td>\n",
       "      <td>CL0</td>\n",
       "      <td>CL3</td>\n",
       "      <td>CL0</td>\n",
       "      <td>CL0</td>\n",
       "      <td>CL3</td>\n",
       "      <td>CL3</td>\n",
       "      <td>CL0</td>\n",
       "      <td>CL3</td>\n",
       "      <td>CL4</td>\n",
       "      <td>CL0</td>\n",
       "    </tr>\n",
       "    <tr>\n",
       "      <th>1888</th>\n",
       "      <td>CL4</td>\n",
       "      <td>CL3</td>\n",
       "      <td>CL0</td>\n",
       "      <td>CL3</td>\n",
       "      <td>CL6</td>\n",
       "      <td>CL3</td>\n",
       "      <td>CL6</td>\n",
       "      <td>CL3</td>\n",
       "      <td>CL0</td>\n",
       "      <td>CL3</td>\n",
       "      <td>CL0</td>\n",
       "      <td>CL0</td>\n",
       "      <td>CL3</td>\n",
       "      <td>CL3</td>\n",
       "      <td>CL0</td>\n",
       "      <td>CL3</td>\n",
       "      <td>CL6</td>\n",
       "      <td>CL2</td>\n",
       "    </tr>\n",
       "  </tbody>\n",
       "</table>\n",
       "<p>1885 rows × 18 columns</p>\n",
       "</div>"
      ],
      "text/plain": [
       "     Alcohol Amphet Amyl Benzos Caff Cannabis Choc Coke Crack Ecstasy Heroin  \\\n",
       "ID                                                                             \n",
       "1        CL5    CL2  CL0    CL2  CL6      CL0  CL5  CL0   CL0     CL0    CL0   \n",
       "2        CL5    CL2  CL2    CL0  CL6      CL4  CL6  CL3   CL0     CL4    CL0   \n",
       "3        CL6    CL0  CL0    CL0  CL6      CL3  CL4  CL0   CL0     CL0    CL0   \n",
       "4        CL4    CL0  CL0    CL3  CL5      CL2  CL4  CL2   CL0     CL0    CL0   \n",
       "5        CL4    CL1  CL1    CL0  CL6      CL3  CL6  CL0   CL0     CL1    CL0   \n",
       "...      ...    ...  ...    ...  ...      ...  ...  ...   ...     ...    ...   \n",
       "1884     CL5    CL0  CL0    CL0  CL4      CL5  CL4  CL0   CL0     CL0    CL0   \n",
       "1885     CL5    CL0  CL0    CL0  CL5      CL3  CL4  CL0   CL0     CL2    CL0   \n",
       "1886     CL4    CL6  CL5    CL5  CL6      CL6  CL6  CL4   CL0     CL4    CL0   \n",
       "1887     CL5    CL0  CL0    CL0  CL6      CL6  CL5  CL0   CL0     CL3    CL0   \n",
       "1888     CL4    CL3  CL0    CL3  CL6      CL3  CL6  CL3   CL0     CL3    CL0   \n",
       "\n",
       "     Ketamine Legalh  LSD Meth Mushrooms Nicotine  VSA  \n",
       "ID                                                      \n",
       "1         CL0    CL0  CL0  CL0       CL0      CL2  CL0  \n",
       "2         CL2    CL0  CL2  CL3       CL0      CL4  CL0  \n",
       "3         CL0    CL0  CL0  CL0       CL1      CL0  CL0  \n",
       "4         CL2    CL0  CL0  CL0       CL0      CL2  CL0  \n",
       "5         CL0    CL1  CL0  CL0       CL2      CL2  CL0  \n",
       "...       ...    ...  ...  ...       ...      ...  ...  \n",
       "1884      CL0    CL3  CL3  CL0       CL0      CL0  CL5  \n",
       "1885      CL0    CL3  CL5  CL4       CL4      CL5  CL0  \n",
       "1886      CL2    CL0  CL2  CL0       CL2      CL6  CL0  \n",
       "1887      CL0    CL3  CL3  CL0       CL3      CL4  CL0  \n",
       "1888      CL0    CL3  CL3  CL0       CL3      CL6  CL2  \n",
       "\n",
       "[1885 rows x 18 columns]"
      ]
     },
     "execution_count": 16,
     "metadata": {},
     "output_type": "execute_result"
    }
   ],
   "source": [
    "df[drug_names]"
   ]
  },
  {
   "cell_type": "markdown",
   "metadata": {
    "id": "G_yJ6pYt5yo4"
   },
   "source": [
    "Theses values aren't real values. Let's change them."
   ]
  },
  {
   "cell_type": "code",
   "execution_count": 17,
   "metadata": {
    "colab": {
     "base_uri": "https://localhost:8080/"
    },
    "id": "Sv9JvLT36BOw",
    "outputId": "eda32778-0d8f-4a72-cd59-f646578aaa18"
   },
   "outputs": [
    {
     "data": {
      "text/plain": [
       "[['CL0', 'CL1', 'CL2', 'CL3', 'CL4', 'CL5', 'CL6'],\n",
       " ['CL0', 'CL1', 'CL2', 'CL3', 'CL4', 'CL5', 'CL6'],\n",
       " ['CL0', 'CL1', 'CL2', 'CL3', 'CL4', 'CL5', 'CL6'],\n",
       " ['CL0', 'CL1', 'CL2', 'CL3', 'CL4', 'CL5', 'CL6'],\n",
       " ['CL0', 'CL1', 'CL2', 'CL3', 'CL4', 'CL5', 'CL6'],\n",
       " ['CL0', 'CL1', 'CL2', 'CL3', 'CL4', 'CL5', 'CL6'],\n",
       " ['CL0', 'CL1', 'CL2', 'CL3', 'CL4', 'CL5', 'CL6'],\n",
       " ['CL0', 'CL1', 'CL2', 'CL3', 'CL4', 'CL5', 'CL6'],\n",
       " ['CL0', 'CL1', 'CL2', 'CL3', 'CL4', 'CL5', 'CL6'],\n",
       " ['CL0', 'CL1', 'CL2', 'CL3', 'CL4', 'CL5', 'CL6'],\n",
       " ['CL0', 'CL1', 'CL2', 'CL3', 'CL4', 'CL5', 'CL6'],\n",
       " ['CL0', 'CL1', 'CL2', 'CL3', 'CL4', 'CL5', 'CL6'],\n",
       " ['CL0', 'CL1', 'CL2', 'CL3', 'CL4', 'CL5', 'CL6'],\n",
       " ['CL0', 'CL1', 'CL2', 'CL3', 'CL4', 'CL5', 'CL6'],\n",
       " ['CL0', 'CL1', 'CL2', 'CL3', 'CL4', 'CL5', 'CL6'],\n",
       " ['CL0', 'CL1', 'CL2', 'CL3', 'CL4', 'CL5', 'CL6'],\n",
       " ['CL0', 'CL1', 'CL2', 'CL3', 'CL4', 'CL5', 'CL6'],\n",
       " ['CL0', 'CL1', 'CL2', 'CL3', 'CL4', 'CL5', 'CL6']]"
      ]
     },
     "execution_count": 17,
     "metadata": {},
     "output_type": "execute_result"
    }
   ],
   "source": [
    "drugs_categories = ['CL'+str(i) for i in range(0,7)]\n",
    "drugs_categories = [ drugs_categories ] * len(drug_names)\n",
    "drugs_categories"
   ]
  },
  {
   "cell_type": "code",
   "execution_count": 18,
   "metadata": {
    "colab": {
     "base_uri": "https://localhost:8080/",
     "height": 95
    },
    "id": "z7QFySFm6Kce",
    "outputId": "3f8842d1-40c6-4136-c387-b96a340d1471"
   },
   "outputs": [
    {
     "data": {
      "text/html": [
       "<style>#sk-container-id-1 {color: black;}#sk-container-id-1 pre{padding: 0;}#sk-container-id-1 div.sk-toggleable {background-color: white;}#sk-container-id-1 label.sk-toggleable__label {cursor: pointer;display: block;width: 100%;margin-bottom: 0;padding: 0.3em;box-sizing: border-box;text-align: center;}#sk-container-id-1 label.sk-toggleable__label-arrow:before {content: \"▸\";float: left;margin-right: 0.25em;color: #696969;}#sk-container-id-1 label.sk-toggleable__label-arrow:hover:before {color: black;}#sk-container-id-1 div.sk-estimator:hover label.sk-toggleable__label-arrow:before {color: black;}#sk-container-id-1 div.sk-toggleable__content {max-height: 0;max-width: 0;overflow: hidden;text-align: left;background-color: #f0f8ff;}#sk-container-id-1 div.sk-toggleable__content pre {margin: 0.2em;color: black;border-radius: 0.25em;background-color: #f0f8ff;}#sk-container-id-1 input.sk-toggleable__control:checked~div.sk-toggleable__content {max-height: 200px;max-width: 100%;overflow: auto;}#sk-container-id-1 input.sk-toggleable__control:checked~label.sk-toggleable__label-arrow:before {content: \"▾\";}#sk-container-id-1 div.sk-estimator input.sk-toggleable__control:checked~label.sk-toggleable__label {background-color: #d4ebff;}#sk-container-id-1 div.sk-label input.sk-toggleable__control:checked~label.sk-toggleable__label {background-color: #d4ebff;}#sk-container-id-1 input.sk-hidden--visually {border: 0;clip: rect(1px 1px 1px 1px);clip: rect(1px, 1px, 1px, 1px);height: 1px;margin: -1px;overflow: hidden;padding: 0;position: absolute;width: 1px;}#sk-container-id-1 div.sk-estimator {font-family: monospace;background-color: #f0f8ff;border: 1px dotted black;border-radius: 0.25em;box-sizing: border-box;margin-bottom: 0.5em;}#sk-container-id-1 div.sk-estimator:hover {background-color: #d4ebff;}#sk-container-id-1 div.sk-parallel-item::after {content: \"\";width: 100%;border-bottom: 1px solid gray;flex-grow: 1;}#sk-container-id-1 div.sk-label:hover label.sk-toggleable__label {background-color: #d4ebff;}#sk-container-id-1 div.sk-serial::before {content: \"\";position: absolute;border-left: 1px solid gray;box-sizing: border-box;top: 0;bottom: 0;left: 50%;z-index: 0;}#sk-container-id-1 div.sk-serial {display: flex;flex-direction: column;align-items: center;background-color: white;padding-right: 0.2em;padding-left: 0.2em;position: relative;}#sk-container-id-1 div.sk-item {position: relative;z-index: 1;}#sk-container-id-1 div.sk-parallel {display: flex;align-items: stretch;justify-content: center;background-color: white;position: relative;}#sk-container-id-1 div.sk-item::before, #sk-container-id-1 div.sk-parallel-item::before {content: \"\";position: absolute;border-left: 1px solid gray;box-sizing: border-box;top: 0;bottom: 0;left: 50%;z-index: -1;}#sk-container-id-1 div.sk-parallel-item {display: flex;flex-direction: column;z-index: 1;position: relative;background-color: white;}#sk-container-id-1 div.sk-parallel-item:first-child::after {align-self: flex-end;width: 50%;}#sk-container-id-1 div.sk-parallel-item:last-child::after {align-self: flex-start;width: 50%;}#sk-container-id-1 div.sk-parallel-item:only-child::after {width: 0;}#sk-container-id-1 div.sk-dashed-wrapped {border: 1px dashed gray;margin: 0 0.4em 0.5em 0.4em;box-sizing: border-box;padding-bottom: 0.4em;background-color: white;}#sk-container-id-1 div.sk-label label {font-family: monospace;font-weight: bold;display: inline-block;line-height: 1.2em;}#sk-container-id-1 div.sk-label-container {text-align: center;}#sk-container-id-1 div.sk-container {/* jupyter's `normalize.less` sets `[hidden] { display: none; }` but bootstrap.min.css set `[hidden] { display: none !important; }` so we also need the `!important` here to be able to override the default hidden behavior on the sphinx rendered scikit-learn.org. See: https://github.com/scikit-learn/scikit-learn/issues/21755 */display: inline-block !important;position: relative;}#sk-container-id-1 div.sk-text-repr-fallback {display: none;}</style><div id=\"sk-container-id-1\" class=\"sk-top-container\"><div class=\"sk-text-repr-fallback\"><pre>OrdinalEncoder()</pre><b>In a Jupyter environment, please rerun this cell to show the HTML representation or trust the notebook. <br />On GitHub, the HTML representation is unable to render, please try loading this page with nbviewer.org.</b></div><div class=\"sk-container\" hidden><div class=\"sk-item\"><div class=\"sk-estimator sk-toggleable\"><input class=\"sk-toggleable__control sk-hidden--visually\" id=\"sk-estimator-id-1\" type=\"checkbox\" checked><label for=\"sk-estimator-id-1\" class=\"sk-toggleable__label sk-toggleable__label-arrow\">OrdinalEncoder</label><div class=\"sk-toggleable__content\"><pre>OrdinalEncoder()</pre></div></div></div></div></div>"
      ],
      "text/plain": [
       "OrdinalEncoder()"
      ]
     },
     "execution_count": 18,
     "metadata": {},
     "output_type": "execute_result"
    }
   ],
   "source": [
    "ord_enc = OrdinalEncoder()\n",
    "ord_enc.fit(df[drug_names])"
   ]
  },
  {
   "cell_type": "code",
   "execution_count": 19,
   "metadata": {
    "id": "PBA1hvXX6hlS"
   },
   "outputs": [],
   "source": [
    "df[drug_names] = ord_enc.transform(df[drug_names])"
   ]
  },
  {
   "cell_type": "code",
   "execution_count": 20,
   "metadata": {
    "colab": {
     "base_uri": "https://localhost:8080/",
     "height": 475
    },
    "id": "bPkZI0ff6j1W",
    "outputId": "c631a0e5-e8ae-4e51-99bc-31ea0f9d6561"
   },
   "outputs": [
    {
     "data": {
      "text/html": [
       "<div>\n",
       "<style scoped>\n",
       "    .dataframe tbody tr th:only-of-type {\n",
       "        vertical-align: middle;\n",
       "    }\n",
       "\n",
       "    .dataframe tbody tr th {\n",
       "        vertical-align: top;\n",
       "    }\n",
       "\n",
       "    .dataframe thead th {\n",
       "        text-align: right;\n",
       "    }\n",
       "</style>\n",
       "<table border=\"1\" class=\"dataframe\">\n",
       "  <thead>\n",
       "    <tr style=\"text-align: right;\">\n",
       "      <th></th>\n",
       "      <th>Alcohol</th>\n",
       "      <th>Amphet</th>\n",
       "      <th>Amyl</th>\n",
       "      <th>Benzos</th>\n",
       "      <th>Caff</th>\n",
       "      <th>Cannabis</th>\n",
       "      <th>Choc</th>\n",
       "      <th>Coke</th>\n",
       "      <th>Crack</th>\n",
       "      <th>Ecstasy</th>\n",
       "      <th>Heroin</th>\n",
       "      <th>Ketamine</th>\n",
       "      <th>Legalh</th>\n",
       "      <th>LSD</th>\n",
       "      <th>Meth</th>\n",
       "      <th>Mushrooms</th>\n",
       "      <th>Nicotine</th>\n",
       "      <th>VSA</th>\n",
       "    </tr>\n",
       "    <tr>\n",
       "      <th>ID</th>\n",
       "      <th></th>\n",
       "      <th></th>\n",
       "      <th></th>\n",
       "      <th></th>\n",
       "      <th></th>\n",
       "      <th></th>\n",
       "      <th></th>\n",
       "      <th></th>\n",
       "      <th></th>\n",
       "      <th></th>\n",
       "      <th></th>\n",
       "      <th></th>\n",
       "      <th></th>\n",
       "      <th></th>\n",
       "      <th></th>\n",
       "      <th></th>\n",
       "      <th></th>\n",
       "      <th></th>\n",
       "    </tr>\n",
       "  </thead>\n",
       "  <tbody>\n",
       "    <tr>\n",
       "      <th>1</th>\n",
       "      <td>5.0</td>\n",
       "      <td>2.0</td>\n",
       "      <td>0.0</td>\n",
       "      <td>2.0</td>\n",
       "      <td>6.0</td>\n",
       "      <td>0.0</td>\n",
       "      <td>5.0</td>\n",
       "      <td>0.0</td>\n",
       "      <td>0.0</td>\n",
       "      <td>0.0</td>\n",
       "      <td>0.0</td>\n",
       "      <td>0.0</td>\n",
       "      <td>0.0</td>\n",
       "      <td>0.0</td>\n",
       "      <td>0.0</td>\n",
       "      <td>0.0</td>\n",
       "      <td>2.0</td>\n",
       "      <td>0.0</td>\n",
       "    </tr>\n",
       "    <tr>\n",
       "      <th>2</th>\n",
       "      <td>5.0</td>\n",
       "      <td>2.0</td>\n",
       "      <td>2.0</td>\n",
       "      <td>0.0</td>\n",
       "      <td>6.0</td>\n",
       "      <td>4.0</td>\n",
       "      <td>6.0</td>\n",
       "      <td>3.0</td>\n",
       "      <td>0.0</td>\n",
       "      <td>4.0</td>\n",
       "      <td>0.0</td>\n",
       "      <td>2.0</td>\n",
       "      <td>0.0</td>\n",
       "      <td>2.0</td>\n",
       "      <td>3.0</td>\n",
       "      <td>0.0</td>\n",
       "      <td>4.0</td>\n",
       "      <td>0.0</td>\n",
       "    </tr>\n",
       "    <tr>\n",
       "      <th>3</th>\n",
       "      <td>6.0</td>\n",
       "      <td>0.0</td>\n",
       "      <td>0.0</td>\n",
       "      <td>0.0</td>\n",
       "      <td>6.0</td>\n",
       "      <td>3.0</td>\n",
       "      <td>4.0</td>\n",
       "      <td>0.0</td>\n",
       "      <td>0.0</td>\n",
       "      <td>0.0</td>\n",
       "      <td>0.0</td>\n",
       "      <td>0.0</td>\n",
       "      <td>0.0</td>\n",
       "      <td>0.0</td>\n",
       "      <td>0.0</td>\n",
       "      <td>1.0</td>\n",
       "      <td>0.0</td>\n",
       "      <td>0.0</td>\n",
       "    </tr>\n",
       "    <tr>\n",
       "      <th>4</th>\n",
       "      <td>4.0</td>\n",
       "      <td>0.0</td>\n",
       "      <td>0.0</td>\n",
       "      <td>3.0</td>\n",
       "      <td>5.0</td>\n",
       "      <td>2.0</td>\n",
       "      <td>4.0</td>\n",
       "      <td>2.0</td>\n",
       "      <td>0.0</td>\n",
       "      <td>0.0</td>\n",
       "      <td>0.0</td>\n",
       "      <td>2.0</td>\n",
       "      <td>0.0</td>\n",
       "      <td>0.0</td>\n",
       "      <td>0.0</td>\n",
       "      <td>0.0</td>\n",
       "      <td>2.0</td>\n",
       "      <td>0.0</td>\n",
       "    </tr>\n",
       "    <tr>\n",
       "      <th>5</th>\n",
       "      <td>4.0</td>\n",
       "      <td>1.0</td>\n",
       "      <td>1.0</td>\n",
       "      <td>0.0</td>\n",
       "      <td>6.0</td>\n",
       "      <td>3.0</td>\n",
       "      <td>6.0</td>\n",
       "      <td>0.0</td>\n",
       "      <td>0.0</td>\n",
       "      <td>1.0</td>\n",
       "      <td>0.0</td>\n",
       "      <td>0.0</td>\n",
       "      <td>1.0</td>\n",
       "      <td>0.0</td>\n",
       "      <td>0.0</td>\n",
       "      <td>2.0</td>\n",
       "      <td>2.0</td>\n",
       "      <td>0.0</td>\n",
       "    </tr>\n",
       "    <tr>\n",
       "      <th>...</th>\n",
       "      <td>...</td>\n",
       "      <td>...</td>\n",
       "      <td>...</td>\n",
       "      <td>...</td>\n",
       "      <td>...</td>\n",
       "      <td>...</td>\n",
       "      <td>...</td>\n",
       "      <td>...</td>\n",
       "      <td>...</td>\n",
       "      <td>...</td>\n",
       "      <td>...</td>\n",
       "      <td>...</td>\n",
       "      <td>...</td>\n",
       "      <td>...</td>\n",
       "      <td>...</td>\n",
       "      <td>...</td>\n",
       "      <td>...</td>\n",
       "      <td>...</td>\n",
       "    </tr>\n",
       "    <tr>\n",
       "      <th>1884</th>\n",
       "      <td>5.0</td>\n",
       "      <td>0.0</td>\n",
       "      <td>0.0</td>\n",
       "      <td>0.0</td>\n",
       "      <td>4.0</td>\n",
       "      <td>5.0</td>\n",
       "      <td>4.0</td>\n",
       "      <td>0.0</td>\n",
       "      <td>0.0</td>\n",
       "      <td>0.0</td>\n",
       "      <td>0.0</td>\n",
       "      <td>0.0</td>\n",
       "      <td>3.0</td>\n",
       "      <td>3.0</td>\n",
       "      <td>0.0</td>\n",
       "      <td>0.0</td>\n",
       "      <td>0.0</td>\n",
       "      <td>5.0</td>\n",
       "    </tr>\n",
       "    <tr>\n",
       "      <th>1885</th>\n",
       "      <td>5.0</td>\n",
       "      <td>0.0</td>\n",
       "      <td>0.0</td>\n",
       "      <td>0.0</td>\n",
       "      <td>5.0</td>\n",
       "      <td>3.0</td>\n",
       "      <td>4.0</td>\n",
       "      <td>0.0</td>\n",
       "      <td>0.0</td>\n",
       "      <td>2.0</td>\n",
       "      <td>0.0</td>\n",
       "      <td>0.0</td>\n",
       "      <td>3.0</td>\n",
       "      <td>5.0</td>\n",
       "      <td>4.0</td>\n",
       "      <td>4.0</td>\n",
       "      <td>5.0</td>\n",
       "      <td>0.0</td>\n",
       "    </tr>\n",
       "    <tr>\n",
       "      <th>1886</th>\n",
       "      <td>4.0</td>\n",
       "      <td>6.0</td>\n",
       "      <td>5.0</td>\n",
       "      <td>5.0</td>\n",
       "      <td>6.0</td>\n",
       "      <td>6.0</td>\n",
       "      <td>6.0</td>\n",
       "      <td>4.0</td>\n",
       "      <td>0.0</td>\n",
       "      <td>4.0</td>\n",
       "      <td>0.0</td>\n",
       "      <td>2.0</td>\n",
       "      <td>0.0</td>\n",
       "      <td>2.0</td>\n",
       "      <td>0.0</td>\n",
       "      <td>2.0</td>\n",
       "      <td>6.0</td>\n",
       "      <td>0.0</td>\n",
       "    </tr>\n",
       "    <tr>\n",
       "      <th>1887</th>\n",
       "      <td>5.0</td>\n",
       "      <td>0.0</td>\n",
       "      <td>0.0</td>\n",
       "      <td>0.0</td>\n",
       "      <td>6.0</td>\n",
       "      <td>6.0</td>\n",
       "      <td>5.0</td>\n",
       "      <td>0.0</td>\n",
       "      <td>0.0</td>\n",
       "      <td>3.0</td>\n",
       "      <td>0.0</td>\n",
       "      <td>0.0</td>\n",
       "      <td>3.0</td>\n",
       "      <td>3.0</td>\n",
       "      <td>0.0</td>\n",
       "      <td>3.0</td>\n",
       "      <td>4.0</td>\n",
       "      <td>0.0</td>\n",
       "    </tr>\n",
       "    <tr>\n",
       "      <th>1888</th>\n",
       "      <td>4.0</td>\n",
       "      <td>3.0</td>\n",
       "      <td>0.0</td>\n",
       "      <td>3.0</td>\n",
       "      <td>6.0</td>\n",
       "      <td>3.0</td>\n",
       "      <td>6.0</td>\n",
       "      <td>3.0</td>\n",
       "      <td>0.0</td>\n",
       "      <td>3.0</td>\n",
       "      <td>0.0</td>\n",
       "      <td>0.0</td>\n",
       "      <td>3.0</td>\n",
       "      <td>3.0</td>\n",
       "      <td>0.0</td>\n",
       "      <td>3.0</td>\n",
       "      <td>6.0</td>\n",
       "      <td>2.0</td>\n",
       "    </tr>\n",
       "  </tbody>\n",
       "</table>\n",
       "<p>1885 rows × 18 columns</p>\n",
       "</div>"
      ],
      "text/plain": [
       "      Alcohol  Amphet  Amyl  Benzos  Caff  Cannabis  Choc  Coke  Crack  \\\n",
       "ID                                                                       \n",
       "1         5.0     2.0   0.0     2.0   6.0       0.0   5.0   0.0    0.0   \n",
       "2         5.0     2.0   2.0     0.0   6.0       4.0   6.0   3.0    0.0   \n",
       "3         6.0     0.0   0.0     0.0   6.0       3.0   4.0   0.0    0.0   \n",
       "4         4.0     0.0   0.0     3.0   5.0       2.0   4.0   2.0    0.0   \n",
       "5         4.0     1.0   1.0     0.0   6.0       3.0   6.0   0.0    0.0   \n",
       "...       ...     ...   ...     ...   ...       ...   ...   ...    ...   \n",
       "1884      5.0     0.0   0.0     0.0   4.0       5.0   4.0   0.0    0.0   \n",
       "1885      5.0     0.0   0.0     0.0   5.0       3.0   4.0   0.0    0.0   \n",
       "1886      4.0     6.0   5.0     5.0   6.0       6.0   6.0   4.0    0.0   \n",
       "1887      5.0     0.0   0.0     0.0   6.0       6.0   5.0   0.0    0.0   \n",
       "1888      4.0     3.0   0.0     3.0   6.0       3.0   6.0   3.0    0.0   \n",
       "\n",
       "      Ecstasy  Heroin  Ketamine  Legalh  LSD  Meth  Mushrooms  Nicotine  VSA  \n",
       "ID                                                                            \n",
       "1         0.0     0.0       0.0     0.0  0.0   0.0        0.0       2.0  0.0  \n",
       "2         4.0     0.0       2.0     0.0  2.0   3.0        0.0       4.0  0.0  \n",
       "3         0.0     0.0       0.0     0.0  0.0   0.0        1.0       0.0  0.0  \n",
       "4         0.0     0.0       2.0     0.0  0.0   0.0        0.0       2.0  0.0  \n",
       "5         1.0     0.0       0.0     1.0  0.0   0.0        2.0       2.0  0.0  \n",
       "...       ...     ...       ...     ...  ...   ...        ...       ...  ...  \n",
       "1884      0.0     0.0       0.0     3.0  3.0   0.0        0.0       0.0  5.0  \n",
       "1885      2.0     0.0       0.0     3.0  5.0   4.0        4.0       5.0  0.0  \n",
       "1886      4.0     0.0       2.0     0.0  2.0   0.0        2.0       6.0  0.0  \n",
       "1887      3.0     0.0       0.0     3.0  3.0   0.0        3.0       4.0  0.0  \n",
       "1888      3.0     0.0       0.0     3.0  3.0   0.0        3.0       6.0  2.0  \n",
       "\n",
       "[1885 rows x 18 columns]"
      ]
     },
     "execution_count": 20,
     "metadata": {},
     "output_type": "execute_result"
    }
   ],
   "source": [
    "df[drug_names]"
   ]
  },
  {
   "cell_type": "markdown",
   "metadata": {
    "id": "agTnTwfU6qcl"
   },
   "source": [
    "That's way better."
   ]
  },
  {
   "cell_type": "markdown",
   "metadata": {
    "id": "YZDzvfLBAbxy",
    "jp-MarkdownHeadingCollapsed": true
   },
   "source": [
    "## Data visualisation and analysis"
   ]
  },
  {
   "cell_type": "markdown",
   "metadata": {
    "id": "dFp1z1UVBmYH"
   },
   "source": [
    "### Setup for data visualisation"
   ]
  },
  {
   "cell_type": "code",
   "execution_count": 21,
   "metadata": {
    "id": "BU35yw4OQeoR"
   },
   "outputs": [],
   "source": [
    "# Creating a copy of the df to make data visualisation\n",
    "df_vis = df.copy()"
   ]
  },
  {
   "cell_type": "code",
   "execution_count": 22,
   "metadata": {
    "colab": {
     "base_uri": "https://localhost:8080/"
    },
    "id": "FffAsBGSQ7-G",
    "outputId": "5e79e342-0d0e-4235-b426-b4bfaacc48a7"
   },
   "outputs": [
    {
     "data": {
      "text/plain": [
       "1    1884\n",
       "0       1\n",
       "Name: TMTO, dtype: int64"
      ]
     },
     "execution_count": 22,
     "metadata": {},
     "output_type": "execute_result"
    }
   ],
   "source": [
    "df_vis['TMTO'].value_counts()"
   ]
  },
  {
   "cell_type": "markdown",
   "metadata": {
    "id": "uGrfszyaUGn7"
   },
   "source": [
    "We know that every person in this dataset has used at least a drug so that column is useless."
   ]
  },
  {
   "cell_type": "code",
   "execution_count": 41,
   "metadata": {
    "colab": {
     "base_uri": "https://localhost:8080/"
    },
    "id": "65ROG4i_UDBI",
    "outputId": "5585230a-8d11-42bf-d9b0-38f6738b61aa"
   },
   "outputs": [
    {
     "data": {
      "text/plain": [
       "Index(['Age', 'Gender', 'Education', 'Country', 'Ethnicity', 'Nscore',\n",
       "       'Escore', 'Oscore', 'Ascore', 'Cscore', 'Impulsive', 'SS', 'Alcohol',\n",
       "       'Amphet', 'Amyl', 'Benzos', 'Caff', 'Cannabis', 'Choc', 'Coke', 'Crack',\n",
       "       'Ecstasy', 'Heroin', 'Ketamine', 'Legalh', 'LSD', 'Meth', 'Mushrooms',\n",
       "       'Nicotine', 'VSA', 'Drugs Tested', 'Legal Drugs', 'Illegal Drugs'],\n",
       "      dtype='object')"
      ]
     },
     "execution_count": 41,
     "metadata": {},
     "output_type": "execute_result"
    }
   ],
   "source": [
    "df_vis.drop('TMTO', inplace = True, axis = 1)\n",
    "df_vis.columns"
   ]
  },
  {
   "cell_type": "markdown",
   "metadata": {
    "id": "vhdDRyQbW8FH"
   },
   "source": [
    "We could split the data into \"soft\" and \"hard\" or \"legal\" and \"illegal\" psychoactive drugs"
   ]
  },
  {
   "cell_type": "markdown",
   "metadata": {
    "id": "REOc3VVs03LQ"
   },
   "source": [
    "### Remaping the values in the original df  \n",
    "The dataframe contains numbers these numbers represent categories. For example 0.49788 in Age means that person is between 18-24 years old. So we remap them for in the original df to strings.\n"
   ]
  },
  {
   "cell_type": "markdown",
   "metadata": {
    "id": "YKXwEnA1zlJl",
    "jp-MarkdownHeadingCollapsed": true
   },
   "source": [
    "#### Age"
   ]
  },
  {
   "cell_type": "markdown",
   "metadata": {
    "id": "nG_yh6ZWc12S"
   },
   "source": [
    "We first change the age category for it to be clearer"
   ]
  },
  {
   "cell_type": "code",
   "execution_count": null,
   "metadata": {
    "colab": {
     "base_uri": "https://localhost:8080/"
    },
    "id": "-GwdprTvzPNu",
    "outputId": "4ef519f3-c442-4ed9-f92f-e7934cc1883e"
   },
   "outputs": [],
   "source": [
    "# Define a mapping dictionary for Age values\n",
    "age_mapping = {\n",
    "    -0.95197: '18-24',\n",
    "    -0.07854: '25-34',\n",
    "    0.49788: '35-44',\n",
    "    1.09449: '45-54',\n",
    "    1.82213: '55-64',\n",
    "    2.59171: '65+'\n",
    "}\n",
    "\n",
    "# Replace the numeric values in the \"Age\" column with their meanings\n",
    "df_vis['Age'] = df_vis['Age'].replace(age_mapping)\n",
    "\n",
    "# Display the Age column\n",
    "df_vis['Age'].head(5)"
   ]
  },
  {
   "cell_type": "code",
   "execution_count": null,
   "metadata": {
    "colab": {
     "base_uri": "https://localhost:8080/",
     "height": 275
    },
    "id": "gQYnlekQzSFk",
    "outputId": "60ef414c-7a88-432b-f835-63dff0433e36"
   },
   "outputs": [],
   "source": [
    "# Calculate the fractions and cases for each unique age category\n",
    "age_counts = df_vis['Age'].value_counts()\n",
    "total_cases = len(df_vis)\n",
    "age_fractions = (age_counts / total_cases) * 100\n",
    "\n",
    "# Create a DataFrame to display the results\n",
    "age_info_df = pd.DataFrame({'Age Category': age_counts.index, 'Cases': age_counts.values, 'Fraction (%)': age_fractions.values})\n",
    "\n",
    "# Display the Dataframe\n",
    "age_info_df"
   ]
  },
  {
   "cell_type": "markdown",
   "metadata": {
    "id": "IIeI5q2idAlb"
   },
   "source": [
    "We can already observe that the biggest category represented is the 18-24 years old category\n",
    "\n",
    "The Cases and the Fractions are accurate, let's continue"
   ]
  },
  {
   "cell_type": "markdown",
   "metadata": {
    "id": "xWvIpFdIz-uQ",
    "jp-MarkdownHeadingCollapsed": true
   },
   "source": [
    "#### Gender"
   ]
  },
  {
   "cell_type": "markdown",
   "metadata": {
    "id": "JTMsYw-Oc6O-"
   },
   "source": [
    "We do the same for the Gender attribute"
   ]
  },
  {
   "cell_type": "code",
   "execution_count": null,
   "metadata": {
    "colab": {
     "base_uri": "https://localhost:8080/"
    },
    "id": "4JlhDB7jzzlx",
    "outputId": "38468e8a-85a4-4c1f-fd24-b38330814d2c"
   },
   "outputs": [],
   "source": [
    "# Define a mapping dictionary for Gender values\n",
    "gender_mapping = {\n",
    "    0.48246: 'Female',\n",
    "    -0.48246: 'Male'\n",
    "}\n",
    "\n",
    "# Replace the numeric values in the \"Gender\" column with their meanings\n",
    "df_vis['Gender'] = df_vis['Gender'].replace(gender_mapping)\n",
    "\n",
    "# Display the Gender Column\n",
    "df_vis['Gender'].head(5)"
   ]
  },
  {
   "cell_type": "code",
   "execution_count": null,
   "metadata": {
    "colab": {
     "base_uri": "https://localhost:8080/",
     "height": 149
    },
    "id": "jR8N-evH1fu5",
    "outputId": "73f7513e-9a70-4fa2-9d62-d93d96507427"
   },
   "outputs": [],
   "source": [
    "# Calculate the fractions and cases for each unique gender category\n",
    "gender_counts = df_vis['Gender'].value_counts()\n",
    "total_cases = len(df_vis)\n",
    "gender_fractions = (gender_counts / total_cases) * 100\n",
    "\n",
    "# Create a DataFrame to display the results\n",
    "gender_info_df = pd.DataFrame({'Gender': gender_counts.index, 'Cases': gender_counts.values, 'Fraction (%)': gender_fractions.values})\n",
    "\n",
    "# Display the DataFrame\n",
    "gender_info_df"
   ]
  },
  {
   "cell_type": "markdown",
   "metadata": {
    "id": "bRYDWzsd1mqP",
    "jp-MarkdownHeadingCollapsed": true
   },
   "source": [
    "#### Education"
   ]
  },
  {
   "cell_type": "code",
   "execution_count": null,
   "metadata": {
    "colab": {
     "base_uri": "https://localhost:8080/"
    },
    "id": "r8bySMln1q-Y",
    "outputId": "b95a90f0-97ef-4af8-b36c-5ead60494632"
   },
   "outputs": [],
   "source": [
    "# Define a mapping dictionary for Education values\n",
    "education_mapping = {\n",
    "    -2.43591: 'Left school before 16 years',\n",
    "    -1.73790: 'Left school at 16 years',\n",
    "    -1.43719: 'Left school at 17 years',\n",
    "    -1.22751: 'Left school at 18 years',\n",
    "    -0.61113: 'Some college or university, no certificate or degree',\n",
    "    -0.05921: 'Professional certificate/diploma',\n",
    "    0.45468: 'University degree',\n",
    "    1.16365: 'Masters degree',\n",
    "    1.98437: 'Doctorate degree'\n",
    "}\n",
    "\n",
    "# Replace the numeric values in the \"Education\" column with their meanings\n",
    "df_vis['Education'] = df_vis['Education'].replace(education_mapping)\n",
    "\n",
    "# Display the Education column\n",
    "df_vis['Education'].head(5)"
   ]
  },
  {
   "cell_type": "code",
   "execution_count": null,
   "metadata": {
    "colab": {
     "base_uri": "https://localhost:8080/",
     "height": 491
    },
    "id": "mc6Ng7JT12KQ",
    "outputId": "09d74a09-1dc0-470b-9df1-99c925d35520"
   },
   "outputs": [],
   "source": [
    "# Calculate the fractions and cases for each unique education category\n",
    "education_counts = df_vis['Education'].value_counts()\n",
    "total_cases = len(df_vis)\n",
    "education_fractions = (education_counts / total_cases) * 100\n",
    "\n",
    "# Create a DataFrame to display the results\n",
    "education_info_df = pd.DataFrame({'Education Level': education_counts.index, 'Cases': education_counts.values, 'Fraction (%)': education_fractions.values})\n",
    "\n",
    "# Display the DataFrame\n",
    "education_info_df"
   ]
  },
  {
   "cell_type": "markdown",
   "metadata": {
    "id": "iVHqyIgcdGPY"
   },
   "source": [
    "We can already observe that the most represented category is \"University, college degrees\" and the least one is \"left scool before 16\""
   ]
  },
  {
   "cell_type": "markdown",
   "metadata": {
    "id": "PR7K7azP1_YH",
    "jp-MarkdownHeadingCollapsed": true
   },
   "source": [
    "#### Country"
   ]
  },
  {
   "cell_type": "code",
   "execution_count": null,
   "metadata": {
    "colab": {
     "base_uri": "https://localhost:8080/"
    },
    "id": "RjxxSgts16lN",
    "outputId": "e53b1ba0-213a-452a-c321-0da0ee45e2ad"
   },
   "outputs": [],
   "source": [
    "# Define a mapping dictionary for Country values\n",
    "country_mapping = {\n",
    "    -0.09765: 'Australia',\n",
    "    0.24923: 'Canada',\n",
    "    -0.46841: 'New Zealand',\n",
    "    -0.28519: 'Other',\n",
    "    0.21128: 'Republic of Ireland',\n",
    "    0.96082: 'UK',\n",
    "    -0.57009: 'USA'\n",
    "}\n",
    "\n",
    "# Replace the numeric values in the \"Country\" column with their meanings\n",
    "df_vis['Country'] = df_vis['Country'].replace(country_mapping)\n",
    "\n",
    "# Display the Country column\n",
    "df_vis['Country'].head(5)"
   ]
  },
  {
   "cell_type": "code",
   "execution_count": null,
   "metadata": {
    "colab": {
     "base_uri": "https://localhost:8080/",
     "height": 358
    },
    "id": "AELZ-3gT2VOK",
    "outputId": "0043fa26-12b0-4155-d58a-9b79581b5263"
   },
   "outputs": [],
   "source": [
    "# Calculate the fractions and cases for each unique country category\n",
    "country_counts = df_vis['Country'].value_counts()\n",
    "total_cases = len(df_vis)\n",
    "country_fractions = (country_counts / total_cases) * 100\n",
    "\n",
    "# Create a DataFrame to display the results\n",
    "country_info_df = pd.DataFrame({'Country': country_counts.index, 'Cases': country_counts.values, 'Fraction (%)': country_fractions.values})\n",
    "\n",
    "# Display the DataFrame\n",
    "country_info_df"
   ]
  },
  {
   "cell_type": "markdown",
   "metadata": {
    "id": "kmLxafNcdJn5"
   },
   "source": [
    "This survey took place mostly in the UK and US"
   ]
  },
  {
   "cell_type": "markdown",
   "metadata": {
    "id": "3i98e6OQ2g3t",
    "jp-MarkdownHeadingCollapsed": true
   },
   "source": [
    "#### Ethnicity"
   ]
  },
  {
   "cell_type": "code",
   "execution_count": null,
   "metadata": {
    "colab": {
     "base_uri": "https://localhost:8080/"
    },
    "id": "Nwt2zzaM2Xd4",
    "outputId": "f077b638-7ca6-418b-ab74-693e4417212c"
   },
   "outputs": [],
   "source": [
    "# Define a mapping dictionary for Ethnicity values\n",
    "ethnicity_mapping = {\n",
    "    -0.50212: 'Asian',\n",
    "    -1.10702: 'Black',\n",
    "    1.90725: 'Mixed-Black/Asian',\n",
    "    0.12600: 'Mixed-White/Asian',\n",
    "    -0.22166: 'Mixed-White/Black',\n",
    "    0.11440: 'Other',\n",
    "    -0.31685: 'White'\n",
    "}\n",
    "\n",
    "# Replace the numeric values in the \"Ethnicity\" column with their meanings\n",
    "df_vis['Ethnicity'] = df_vis['Ethnicity'].replace(ethnicity_mapping)\n",
    "\n",
    "# Display the Ethnicity Column\n",
    "df_vis['Ethnicity'].head(5)"
   ]
  },
  {
   "cell_type": "code",
   "execution_count": null,
   "metadata": {
    "colab": {
     "base_uri": "https://localhost:8080/",
     "height": 358
    },
    "id": "Rdkaqr-o2paC",
    "outputId": "d35f27ab-63d5-494c-9ee4-58ecc86e5796"
   },
   "outputs": [],
   "source": [
    "# Calculate the fractions and cases for each unique ethnicity category\n",
    "ethnicity_counts = df_vis['Ethnicity'].value_counts()\n",
    "total_cases = len(df_vis)\n",
    "ethnicity_fractions = (ethnicity_counts / total_cases) * 100\n",
    "\n",
    "# Create a DataFrame to display the results\n",
    "ethnicity_info_df = pd.DataFrame({'Ethnicity': ethnicity_counts.index, 'Cases': ethnicity_counts.values, 'Fraction (%)': ethnicity_fractions.values})\n",
    "\n",
    "# Display the DataFrame\n",
    "ethnicity_info_df"
   ]
  },
  {
   "cell_type": "markdown",
   "metadata": {
    "id": "Q_akKE_F3nl-",
    "jp-MarkdownHeadingCollapsed": true
   },
   "source": [
    "#### Nscore"
   ]
  },
  {
   "cell_type": "markdown",
   "metadata": {
    "id": "3UdUgRCudMMm"
   },
   "source": [
    "The Nscore references to NEO-FFI-R Neuroticism test that helps showing one's specific personality traits such as anxiety, angry hostily, depression, self-conciousness, impulsiveness and vulnerability. The more the score is high, the more those traits are important in the individual tested."
   ]
  },
  {
   "cell_type": "code",
   "execution_count": null,
   "metadata": {
    "colab": {
     "base_uri": "https://localhost:8080/"
    },
    "id": "BwWuEdvP2r8b",
    "outputId": "f6105449-6622-4010-b23d-583f3368a38e"
   },
   "outputs": [],
   "source": [
    "# Define a mapping dictionary for Nscore values\n",
    "nscore_mapping = {\n",
    "    -3.46436: '12',\n",
    "    -3.15735: '13',\n",
    "    -2.75696: '14',\n",
    "    -2.52197: '15',\n",
    "    -2.42317: '16',\n",
    "    -2.34360: '17',\n",
    "    -2.21844: '18',\n",
    "    -2.05048: '19',\n",
    "    -1.86962: '20',\n",
    "    -1.69163: '21',\n",
    "    -1.55078: '22',\n",
    "    -1.43907: '23',\n",
    "    -1.32828: '24',\n",
    "    -1.19430: '25',\n",
    "    -1.05308: '26',\n",
    "    -0.92104: '27',\n",
    "    -0.79151: '28',\n",
    "    -0.67825: '29',\n",
    "    -0.58016: '30',\n",
    "    -0.46725: '31',\n",
    "    -0.34799: '32',\n",
    "    -0.24649: '33',\n",
    "    -0.14882: '34',\n",
    "    -0.05188: '35',\n",
    "    0.04257: '36',\n",
    "    0.13606: '37',\n",
    "    0.22393: '38',\n",
    "    0.31287: '39',\n",
    "    0.41667: '40',\n",
    "    0.52135: '41',\n",
    "    0.62967: '42',\n",
    "    0.73545: '43',\n",
    "    0.82562: '44',\n",
    "    0.91093: '45',\n",
    "    1.02119: '46',\n",
    "    1.13281: '47',\n",
    "    1.23461: '48',\n",
    "    1.37297: '49',\n",
    "    1.49158: '50',\n",
    "    1.60383: '51',\n",
    "    1.72012: '52',\n",
    "    1.83990: '53',\n",
    "    1.98437: '54',\n",
    "    2.12700: '55',\n",
    "    2.28554: '56',\n",
    "    2.46262: '57',\n",
    "    2.61139: '58',\n",
    "    2.82196: '59',\n",
    "    3.27393: '60'\n",
    "}\n",
    "\n",
    "# Replace the numeric values in the \"Nscore\" column with their meanings\n",
    "df_vis['Nscore'] = df_vis['Nscore'].replace(nscore_mapping)\n",
    "\n",
    "# Display the Nscore column\n",
    "df_vis['Nscore'].head(5)"
   ]
  },
  {
   "cell_type": "code",
   "execution_count": null,
   "metadata": {
    "colab": {
     "base_uri": "https://localhost:8080/",
     "height": 400
    },
    "id": "IgLQ0hoM3OGS",
    "outputId": "7bd2e10c-952b-4d9e-dffc-e8842125510a"
   },
   "outputs": [],
   "source": [
    "# Calculate the fractions and cases for each unique Nscore category\n",
    "nscore_counts = df_vis['Nscore'].value_counts()\n",
    "total_cases = len(df_vis)\n",
    "nscore_fractions = (nscore_counts / total_cases) * 100\n",
    "\n",
    "# Create a DataFrame to display the results\n",
    "nscore_info_df = pd.DataFrame({'Nscore Value': nscore_counts.index, 'Cases': nscore_counts.values, 'Fraction (%)': nscore_fractions.values})\n",
    "\n",
    "# Display the DataFrame\n",
    "nscore_info_df.head(10)"
   ]
  },
  {
   "cell_type": "markdown",
   "metadata": {
    "id": "eR2QPmQi4kap",
    "jp-MarkdownHeadingCollapsed": true
   },
   "source": [
    "#### Escore"
   ]
  },
  {
   "cell_type": "markdown",
   "metadata": {
    "id": "uaD5sCqLdq8G"
   },
   "source": [
    " Escore (Real) is NEO-FFI-R Extraversion."
   ]
  },
  {
   "cell_type": "code",
   "execution_count": null,
   "metadata": {
    "colab": {
     "base_uri": "https://localhost:8080/"
    },
    "id": "JrtSSJ8p3r4W",
    "outputId": "c63b87a6-f8d3-4d49-efd3-4b91226714b8"
   },
   "outputs": [],
   "source": [
    "# Define a mapping dictionary for Escore values\n",
    "escore_mapping = {\n",
    "    -3.27393: '16',\n",
    "    -3.00537: '18',\n",
    "    -2.72827: '19',\n",
    "    -2.53830: '20',\n",
    "    -2.44904: '21',\n",
    "    -2.32338: '22',\n",
    "    -2.21069: '23',\n",
    "    -2.11437: '24',\n",
    "    -2.03972: '25',\n",
    "    -1.92173: '26',\n",
    "    -1.76250: '27',\n",
    "    -1.63340: '28',\n",
    "    -1.50796: '29',\n",
    "    -1.37639: '30',\n",
    "    -1.23177: '31',\n",
    "    -1.09207: '32',\n",
    "    -0.94779: '33',\n",
    "    -0.80615: '34',\n",
    "    -0.69509: '35',\n",
    "    -0.57545: '36',\n",
    "    -0.43999: '37',\n",
    "    -0.30033: '38',\n",
    "    -0.15487: '39',\n",
    "    0.00332: '40',\n",
    "    0.16767: '41',\n",
    "    0.32197: '42',\n",
    "    0.47617: '43',\n",
    "    0.63779: '44',\n",
    "    0.80523: '45',\n",
    "    0.96248: '46',\n",
    "    1.11406: '47',\n",
    "    1.28610: '48',\n",
    "    1.45421: '49',\n",
    "    1.58487: '50',\n",
    "    1.74091: '51',\n",
    "    1.93886: '52',\n",
    "    2.12700: '53',\n",
    "    2.32338: '54',\n",
    "    2.57309: '55',\n",
    "    2.85950: '56',\n",
    "    3.00537: '58',\n",
    "    3.27393: '59'\n",
    "}\n",
    "\n",
    "# Replace the numeric values in the \"Escore\" column with their meanings\n",
    "df_vis['Escore'] = df_vis['Escore'].replace(escore_mapping)\n",
    "\n",
    "# Display the Escore column\n",
    "df_vis['Escore'].head(5)"
   ]
  },
  {
   "cell_type": "code",
   "execution_count": null,
   "metadata": {
    "colab": {
     "base_uri": "https://localhost:8080/",
     "height": 244
    },
    "id": "vn52nmZi4uY4",
    "outputId": "0d790a01-0267-4e80-cb5f-5b8024e3586d"
   },
   "outputs": [],
   "source": [
    "# Calculate the fractions and cases for each unique Escore category\n",
    "escore_counts = df_vis['Escore'].value_counts()\n",
    "total_cases = len(df_vis)\n",
    "escore_fractions = (escore_counts / total_cases) * 100\n",
    "\n",
    "# Create a DataFrame to display the results\n",
    "escore_info_df = pd.DataFrame({'Escore Value': escore_counts.index, 'Cases': escore_counts.values, 'Fraction (%)': escore_fractions.values})\n",
    "\n",
    "# Display the DataFrame\n",
    "escore_info_df.head(5)"
   ]
  },
  {
   "cell_type": "markdown",
   "metadata": {
    "id": "umQvpE6-48BQ",
    "jp-MarkdownHeadingCollapsed": true
   },
   "source": [
    "#### Oscore"
   ]
  },
  {
   "cell_type": "markdown",
   "metadata": {
    "id": "xx-pcSspdzMD"
   },
   "source": [
    "Oscore also refers to the NEO-FFI-R test but is about the Openness to experience personality trait."
   ]
  },
  {
   "cell_type": "code",
   "execution_count": null,
   "metadata": {
    "colab": {
     "base_uri": "https://localhost:8080/"
    },
    "id": "nxMukEt047gU",
    "outputId": "c596657c-5e62-47ee-f740-4d6ac2b7ba7a"
   },
   "outputs": [],
   "source": [
    "# Define a mapping dictionary for Oscore values\n",
    "oscore_mapping = {\n",
    "    -3.27393: '24',\n",
    "    -2.85950: '26',\n",
    "    -2.63199: '28',\n",
    "    -2.39883: '29',\n",
    "    -2.21069: '30',\n",
    "    -2.09015: '31',\n",
    "    -1.97495: '32',\n",
    "    -1.82919: '33',\n",
    "    -1.68062: '34',\n",
    "    -1.55521: '35',\n",
    "    -1.42424: '36',\n",
    "    -1.27553: '37',\n",
    "    -1.11902: '38',\n",
    "    -0.97631: '39',\n",
    "    -0.84732: '40',\n",
    "    -0.71727: '41',\n",
    "    -0.58331: '42',\n",
    "    -0.45174: '43',\n",
    "    -0.31776: '44',\n",
    "    -0.17779: '45',\n",
    "    -0.01928: '46',\n",
    "    0.14143: '47',\n",
    "    0.29338: '48',\n",
    "    0.44585: '49',\n",
    "    0.58331: '50',\n",
    "    0.72330: '51',\n",
    "    0.88309: '52',\n",
    "    1.06238: '53',\n",
    "    1.24033: '54',\n",
    "    1.43533: '55',\n",
    "    1.65653: '56',\n",
    "    1.88511: '57',\n",
    "    2.15324: '58',\n",
    "    2.44904: '59',\n",
    "    2.90161: '60'\n",
    "}\n",
    "\n",
    "# Replace the numeric values in the \"Oscore\" column with their meanings\n",
    "df_vis['Oscore'] = df_vis['Oscore'].replace(oscore_mapping)\n",
    "\n",
    "# Display the Oscore column\n",
    "df_vis['Oscore'].head(5)"
   ]
  },
  {
   "cell_type": "code",
   "execution_count": null,
   "metadata": {
    "colab": {
     "base_uri": "https://localhost:8080/",
     "height": 244
    },
    "id": "TDyMATDI5FKw",
    "outputId": "ef8073fd-174d-4687-f91a-10c3648cd6c7"
   },
   "outputs": [],
   "source": [
    "# Calculate the fractions and cases for each unique Oscore category\n",
    "oscore_counts = df_vis['Oscore'].value_counts()\n",
    "total_cases = len(df_vis)\n",
    "oscore_fractions = (oscore_counts / total_cases) * 100\n",
    "\n",
    "# Create a DataFrame to display the results\n",
    "oscore_info_df = pd.DataFrame({'Oscore Value': oscore_counts.index, 'Cases': oscore_counts.values, 'Fraction (%)': oscore_fractions.values})\n",
    "\n",
    "# Display the DataFrame\n",
    "oscore_info_df.head(5)"
   ]
  },
  {
   "cell_type": "markdown",
   "metadata": {
    "id": "442ba_MI5krl",
    "jp-MarkdownHeadingCollapsed": true
   },
   "source": [
    "#### Ascore"
   ]
  },
  {
   "cell_type": "markdown",
   "metadata": {
    "id": "KL2a6DrUeGdv"
   },
   "source": [
    "A score corresponds to the Agreeableness personality trait."
   ]
  },
  {
   "cell_type": "code",
   "execution_count": null,
   "metadata": {
    "colab": {
     "base_uri": "https://localhost:8080/"
    },
    "id": "f9rfuMev5nbk",
    "outputId": "fb3b99b7-8616-4c07-89bc-cc23bc3d78d6"
   },
   "outputs": [],
   "source": [
    "# Define a mapping dictionary for Ascore values\n",
    "ascore_mapping = {\n",
    "    -3.46436: '12',\n",
    "    -3.15735: '16',\n",
    "    -3.00537: '18',\n",
    "    -2.90161: '23',\n",
    "    -2.78793: '24',\n",
    "    -2.70172: '25',\n",
    "    -2.53830: '26',\n",
    "    -2.35413: '27',\n",
    "    -2.21844: '28',\n",
    "    -2.07848: '29',\n",
    "    -1.92595: '30',\n",
    "    -1.77200: '31',\n",
    "    -1.62090: '32',\n",
    "    -1.47955: '33',\n",
    "    -1.34289: '34',\n",
    "    -1.21213: '35',\n",
    "    -1.07533: '36',\n",
    "    -0.91699: '37',\n",
    "    -0.76096: '38',\n",
    "    -0.60633: '39',\n",
    "    -0.45321: '40',\n",
    "    -0.30172: '41',\n",
    "    -0.15487: '42',\n",
    "    -0.01729: '43',\n",
    "    0.13136: '44',\n",
    "    0.28783: '45',\n",
    "    0.43852: '46',\n",
    "    0.59042: '47',\n",
    "    0.76096: '48',\n",
    "    0.94156: '49',\n",
    "    1.11406: '50',\n",
    "    1.28610: '51',\n",
    "    1.45039: '52',\n",
    "    1.61108: '53',\n",
    "    1.81866: '54',\n",
    "    2.03972: '55',\n",
    "    2.23427: '56',\n",
    "    2.46262: '57',\n",
    "    2.75696: '58',\n",
    "    3.15735: '59',\n",
    "    3.46436: '60'\n",
    "}\n",
    "\n",
    "# Replace the numeric values in the \"Ascore\" column with their meanings\n",
    "df_vis['Ascore'] = df_vis['Ascore'].replace(ascore_mapping)\n",
    "\n",
    "# Display the Ascore column\n",
    "df_vis['Ascore'].head(5)"
   ]
  },
  {
   "cell_type": "code",
   "execution_count": null,
   "metadata": {
    "colab": {
     "base_uri": "https://localhost:8080/",
     "height": 244
    },
    "id": "J0agySLZ7pFA",
    "outputId": "021c3671-84b6-4bf4-fc0e-18a7cd77d745"
   },
   "outputs": [],
   "source": [
    "# Calculate the fractions and cases for each unique Ascore category\n",
    "ascore_counts = df_vis['Ascore'].value_counts()\n",
    "total_cases = len(df_vis)\n",
    "ascore_fractions = (ascore_counts / total_cases) * 100\n",
    "\n",
    "# Create a DataFrame to display the results\n",
    "ascore_info_df = pd.DataFrame({'Ascore Value': ascore_counts.index, 'Cases': ascore_counts.values, 'Fraction (%)': ascore_fractions.values})\n",
    "\n",
    "# Display the DataFrame\n",
    "ascore_info_df.head(5)"
   ]
  },
  {
   "cell_type": "markdown",
   "metadata": {
    "id": "l3nt1JP075v5",
    "jp-MarkdownHeadingCollapsed": true
   },
   "source": [
    "#### Cscore"
   ]
  },
  {
   "cell_type": "markdown",
   "metadata": {
    "id": "MIBpYfnSeMCq"
   },
   "source": [
    "Cscore coresponds to Conscientiousness personality trait."
   ]
  },
  {
   "cell_type": "code",
   "execution_count": null,
   "metadata": {
    "colab": {
     "base_uri": "https://localhost:8080/"
    },
    "id": "ZN9Y5lWY7ukO",
    "outputId": "08d3a43d-2567-44a9-daa7-9efad69e28e3"
   },
   "outputs": [],
   "source": [
    "# Define a mapping dictionary for Cscore values\n",
    "cscore_mapping = {\n",
    "    -3.46436: '17',\n",
    "    -3.15735: '19',\n",
    "    -2.90161: '20',\n",
    "    -2.72827: '21',\n",
    "    -2.57309: '22',\n",
    "    -2.42317: '23',\n",
    "    -2.30408: '24',\n",
    "    -2.18109: '25',\n",
    "    -2.04506: '26',\n",
    "    -1.92173: '27',\n",
    "    -1.78169: '28',\n",
    "    -1.64101: '29',\n",
    "    -1.51840: '30',\n",
    "    -1.38502: '31',\n",
    "    -1.25773: '32',\n",
    "    -1.13788: '33',\n",
    "    -1.01450: '34',\n",
    "    -0.89891: '35',\n",
    "    -0.78155: '36',\n",
    "    -0.65253: '37',\n",
    "    -0.52745: '38',\n",
    "    -0.40581: '39',\n",
    "    -0.27607: '40',\n",
    "    -0.14277: '41',\n",
    "    -0.00665: '42',\n",
    "    0.12331: '43',\n",
    "    0.25953: '44',\n",
    "    0.41594: '45',\n",
    "    0.58489: '46',\n",
    "    0.75830: '47',\n",
    "    0.93949: '48',\n",
    "    1.13407: '49',\n",
    "    1.30612: '50',\n",
    "    1.46191: '51',\n",
    "    1.63088: '52',\n",
    "    1.81175: '53',\n",
    "    2.04506: '54',\n",
    "    2.33337: '55',\n",
    "    2.63199: '56',\n",
    "    3.00537: '57',\n",
    "    3.46436: '59'\n",
    "}\n",
    "\n",
    "# Replace the numeric values in the \"Cscore\" column with their meanings\n",
    "df_vis['Cscore'] = df_vis['Cscore'].replace(cscore_mapping)\n",
    "\n",
    "# Display the Cscore column\n",
    "df_vis['Cscore'].head(5)"
   ]
  },
  {
   "cell_type": "code",
   "execution_count": null,
   "metadata": {
    "colab": {
     "base_uri": "https://localhost:8080/",
     "height": 244
    },
    "id": "VPGG1Zzf8DTW",
    "outputId": "b9763feb-489e-433a-f4f9-57e7f5cab567"
   },
   "outputs": [],
   "source": [
    "# Calculate the fractions and cases for each unique Cscore category\n",
    "cscore_counts = df_vis['Cscore'].value_counts()\n",
    "total_cases = len(df_vis)\n",
    "cscore_fractions = (cscore_counts / total_cases) * 100\n",
    "\n",
    "# Create a DataFrame to display the results\n",
    "cscore_info_df = pd.DataFrame({'Cscore Value': cscore_counts.index, 'Cases': cscore_counts.values, 'Fraction (%)': cscore_fractions.values})\n",
    "\n",
    "# Display the DataFrame\n",
    "cscore_info_df.head(5)"
   ]
  },
  {
   "cell_type": "markdown",
   "metadata": {
    "id": "W-Rp6N478HiE",
    "jp-MarkdownHeadingCollapsed": true
   },
   "source": [
    "#### Impulsive"
   ]
  },
  {
   "cell_type": "code",
   "execution_count": null,
   "metadata": {
    "colab": {
     "base_uri": "https://localhost:8080/"
    },
    "id": "iWTUNSwd8GLG",
    "outputId": "eea383d3-8d49-4321-d2ed-b615c1b3161e"
   },
   "outputs": [],
   "source": [
    "# Define a mapping dictionary for Impulsive values\n",
    "impulsive_mapping = {\n",
    "    -2.55524: 'Very Low',\n",
    "    -1.37983: 'Low',\n",
    "    -0.71126: 'Moderate',\n",
    "    -0.21712: 'Slightly Low',\n",
    "    0.19268: 'Slightly High',\n",
    "    0.52975: 'High',\n",
    "    0.88113: 'Very High',\n",
    "    1.29221: 'Extremely High',\n",
    "    1.86203: 'Much Higher',\n",
    "    2.90161: 'Most High',\n",
    "}\n",
    "\n",
    "# Replace the numeric values in the \"Impulsive\" column with their meanings\n",
    "df_vis['Impulsive'] = df_vis['Impulsive'].replace(impulsive_mapping)\n",
    "\n",
    "# Display the Impulsive column\n",
    "df_vis['Impulsive'].head(5)"
   ]
  },
  {
   "cell_type": "code",
   "execution_count": null,
   "metadata": {
    "colab": {
     "base_uri": "https://localhost:8080/",
     "height": 470
    },
    "id": "eIkmGCF48Uyo",
    "outputId": "7c1e49d4-8c40-4a4c-e391-5357ef310819"
   },
   "outputs": [],
   "source": [
    "# Calculate the fractions and cases for each unique Impulsive category\n",
    "impulsive_counts = df_vis['Impulsive'].value_counts()\n",
    "total_cases = len(df_vis)\n",
    "impulsive_fractions = (impulsive_counts / total_cases) * 100\n",
    "\n",
    "# Create a DataFrame to display the results\n",
    "impulsive_info_df = pd.DataFrame({'Impulsive Value': impulsive_counts.index, 'Cases': impulsive_counts.values, 'Fraction (%)': impulsive_fractions.values})\n",
    "\n",
    "# Display the DataFrame\n",
    "impulsive_info_df"
   ]
  },
  {
   "cell_type": "markdown",
   "metadata": {
    "id": "56Z-D-iE9qhi",
    "jp-MarkdownHeadingCollapsed": true
   },
   "source": [
    "#### SS"
   ]
  },
  {
   "cell_type": "markdown",
   "metadata": {
    "id": "wZKIvGz8eRt5"
   },
   "source": [
    "SS reprensents the \"sensation seeing\" attribute, we can see by categories, how much the individual felt after the consumption of the drug."
   ]
  },
  {
   "cell_type": "code",
   "execution_count": null,
   "metadata": {
    "colab": {
     "base_uri": "https://localhost:8080/"
    },
    "id": "ipe3XLgy8XpP",
    "outputId": "da1ff70a-fc8c-47f2-b188-37b1bd814feb"
   },
   "outputs": [],
   "source": [
    "# Define a mapping dictionary for SS values\n",
    "ss_mapping = {\n",
    "    -2.07848: 'Very Low',\n",
    "    -1.54858: 'Low',\n",
    "    -1.18084: 'Moderate Low',\n",
    "    -0.84637: 'Moderate',\n",
    "    -0.52593: 'Moderate High',\n",
    "    -0.21575: 'High',\n",
    "    0.07987: 'Very High',\n",
    "    0.40148: 'Much Higher',\n",
    "    0.76540: 'Most High',\n",
    "    1.22470: 'Almost Highest',\n",
    "    1.92173: 'Highest',\n",
    "}\n",
    "\n",
    "# Replace the numeric values in the \"SS\" column with their meanings\n",
    "df_vis['SS'] = df_vis['SS'].replace(ss_mapping)\n",
    "\n",
    "# Display the SS column\n",
    "df_vis['SS'].head(5)"
   ]
  },
  {
   "cell_type": "code",
   "execution_count": null,
   "metadata": {
    "colab": {
     "base_uri": "https://localhost:8080/",
     "height": 519
    },
    "id": "nSolFEps9_Ab",
    "outputId": "5eca4b6c-e148-474c-d380-e09be882cbaa"
   },
   "outputs": [],
   "source": [
    "# Calculate the fractions and cases for each unique SS category\n",
    "ss_counts = df_vis['SS'].value_counts()\n",
    "total_cases = len(df_vis)\n",
    "ss_fractions = (ss_counts / total_cases) * 100\n",
    "\n",
    "# Create a DataFrame to display the results\n",
    "ss_info_df = pd.DataFrame({'SS Value': ss_counts.index, 'Cases': ss_counts.values, 'Fraction (%)': ss_fractions.values})\n",
    "\n",
    "# Display the DataFrame\n",
    "ss_info_df"
   ]
  },
  {
   "cell_type": "markdown",
   "metadata": {
    "id": "lFsGIRpPefGP"
   },
   "source": [
    "Now we are going to see the mapping of the different drugs from never used to used in last day."
   ]
  },
  {
   "cell_type": "markdown",
   "metadata": {
    "id": "ZcJKdmLa-uKo",
    "jp-MarkdownHeadingCollapsed": true
   },
   "source": [
    "#### Alcohol"
   ]
  },
  {
   "cell_type": "markdown",
   "metadata": {
    "id": "2ZD9sCeqex5I"
   },
   "source": [
    "Alcohol is class of alcohol consumption. It is output attribute with following distribution of classes.\n"
   ]
  },
  {
   "cell_type": "code",
   "execution_count": null,
   "metadata": {
    "colab": {
     "base_uri": "https://localhost:8080/"
    },
    "id": "FKRQWSbE-Cgu",
    "outputId": "4ccd7433-82c3-48a5-d6d8-883ecfc906bb"
   },
   "outputs": [],
   "source": [
    "# Define mapping dictionary for all the CL classes\n",
    "CL_mapping = {\n",
    "    '0.0': 'Never Used',\n",
    "    '1.0': 'Used over a Decade Ago',\n",
    "    '2.0': 'Used in Last Decade',\n",
    "    '3.0': 'Used in Last Year',\n",
    "    '4.0': 'Used in Last Month',\n",
    "    '5.0': 'Used in Last Week',\n",
    "    '6.0': 'Used in Last Day',\n",
    "}\n",
    "\n",
    "# Replace the numeric values in the \"Alcohol\" column with their meanings\n",
    "df_vis['Alcohol'] = df_vis['Alcohol'].replace(CL_mapping)\n",
    "\n",
    "# Display the Alcohol column\n",
    "df_vis['Alcohol'].head(5)"
   ]
  },
  {
   "cell_type": "code",
   "execution_count": null,
   "metadata": {
    "colab": {
     "base_uri": "https://localhost:8080/",
     "height": 324
    },
    "id": "DynfBAqK_bRm",
    "outputId": "8fff5157-4a44-4d11-cefb-37b4dc17542b"
   },
   "outputs": [],
   "source": [
    "# Calculate the fractions and cases for each unique class in \"Alcohol\"\n",
    "alcohol_counts = df_vis['Alcohol'].value_counts()\n",
    "total_cases = len(df_vis)\n",
    "alcohol_fractions = (alcohol_counts / total_cases) * 100\n",
    "\n",
    "# Create a DataFrame to display the results for \"Alcohol\"\n",
    "alcohol_info_df = pd.DataFrame({'Alcohol Class': alcohol_counts.index, 'Alcohol Cases': alcohol_counts.values, 'Alcohol Fraction (%)': alcohol_fractions.values})\n",
    "\n",
    "# Display the DataFrame for \"Alcohol\"\n",
    "alcohol_info_df"
   ]
  },
  {
   "cell_type": "markdown",
   "metadata": {
    "id": "zi9MUmwX_6rR",
    "jp-MarkdownHeadingCollapsed": true
   },
   "source": [
    "#### Amphet"
   ]
  },
  {
   "cell_type": "markdown",
   "metadata": {
    "id": "W3zN4BoGeu3r"
   },
   "source": [
    "Amphet is class of amphetamines consumption. It is output attribute with following distribution of classes. Amphet can be prescribed for medical purposes, such as treating attention deficit hyperactivity disorder (ADHD)."
   ]
  },
  {
   "cell_type": "code",
   "execution_count": null,
   "metadata": {
    "colab": {
     "base_uri": "https://localhost:8080/"
    },
    "id": "qjQPfL9J_qsX",
    "outputId": "1bd1e8f3-3088-4f6c-ac24-033c7152cbc2"
   },
   "outputs": [],
   "source": [
    "# Replace the numeric values in the \"Amphet\" column with their meanings\n",
    "df_vis['Amphet'] = df_vis['Amphet'].replace(CL_mapping)\n",
    "\n",
    "# Display the Amphet column\n",
    "df_vis['Amphet'].head(5)"
   ]
  },
  {
   "cell_type": "code",
   "execution_count": null,
   "metadata": {
    "colab": {
     "base_uri": "https://localhost:8080/",
     "height": 324
    },
    "id": "uJu38_bkANmB",
    "outputId": "96caf1e7-e7d0-41d9-85fe-3eb4cba83c19"
   },
   "outputs": [],
   "source": [
    "# Calculate the fractions and cases for each unique class in \"Amphet\"\n",
    "amphet_counts = df_vis['Amphet'].value_counts()\n",
    "total_cases = len(df_vis)\n",
    "amphet_fractions = (amphet_counts / total_cases) * 100\n",
    "\n",
    "# Create a DataFrame to display the results for \"Amphet\"\n",
    "amphet_info_df = pd.DataFrame({'Amphet Class': amphet_counts.index, 'Amphet Cases': amphet_counts.values, 'Amphet Fraction (%)': amphet_fractions.values})\n",
    "\n",
    "# Display the DataFrame for \"Amphet\"\n",
    "amphet_info_df"
   ]
  },
  {
   "cell_type": "markdown",
   "metadata": {
    "id": "WiYAymVVAaZf"
   },
   "source": [
    "C'est intéressant de voir qu'il y a beaucoup de personne qui ont pris des amphets il y a plus de 10 ans, peut être des gens adultes qui en prennaient quand ils étaient jeunes, paralèlle à faire avec l'age c'est SUR\n"
   ]
  },
  {
   "cell_type": "markdown",
   "metadata": {
    "id": "GzPbQFG9BFm9",
    "jp-MarkdownHeadingCollapsed": true
   },
   "source": [
    "#### Amyl"
   ]
  },
  {
   "cell_type": "markdown",
   "metadata": {
    "id": "TxK7LCdFe0bY"
   },
   "source": [
    "Amyl is class of amyl nitrite consumption. It is output attribute with following distribution of classes. One example of Amyl is poppers."
   ]
  },
  {
   "cell_type": "code",
   "execution_count": null,
   "metadata": {
    "colab": {
     "base_uri": "https://localhost:8080/"
    },
    "id": "jQgYsbJPARPw",
    "outputId": "b233055a-c5d7-4b4c-b39f-19892cc95bee"
   },
   "outputs": [],
   "source": [
    "# Replace the numeric values in the \"Amyl\" column with their meanings\n",
    "df_vis['Amyl'] = df_vis['Amyl'].replace(CL_mapping)\n",
    "\n",
    "# Display the Amyl column\n",
    "df_vis['Amyl'].head(5)"
   ]
  },
  {
   "cell_type": "code",
   "execution_count": null,
   "metadata": {
    "colab": {
     "base_uri": "https://localhost:8080/",
     "height": 324
    },
    "id": "KAc5W9XsBQGi",
    "outputId": "ca12f126-f438-4fda-afb1-91553c6c8fca"
   },
   "outputs": [],
   "source": [
    "# Calculate the fractions and cases for each unique class in \"Amyl\"\n",
    "amyl_counts = df_vis['Amyl'].value_counts()\n",
    "total_cases = len(df_vis)\n",
    "amyl_fractions = (amyl_counts / total_cases) * 100\n",
    "\n",
    "# Create a DataFrame to display the results for \"Amyl\"\n",
    "amyl_info_df = pd.DataFrame({'Amyl Class': amyl_counts.index, 'Amyl Cases': amyl_counts.values, 'Amyl Fraction (%)': amyl_fractions.values})\n",
    "\n",
    "# Display the DataFrame for \"Amyl\"\n",
    "amyl_info_df"
   ]
  },
  {
   "cell_type": "markdown",
   "metadata": {
    "id": "5CuO4v95BdW7",
    "jp-MarkdownHeadingCollapsed": true
   },
   "source": [
    "#### Benzos"
   ]
  },
  {
   "cell_type": "markdown",
   "metadata": {
    "id": "LGC_p_qle3eP"
   },
   "source": [
    "Benzos is class of benzodiazepine consumption. It is output attribute with following distribution of classes:"
   ]
  },
  {
   "cell_type": "code",
   "execution_count": null,
   "metadata": {
    "colab": {
     "base_uri": "https://localhost:8080/"
    },
    "id": "fvxQpTQKBYzt",
    "outputId": "e336883e-d6ed-4fdf-9d73-b51b33e6d835"
   },
   "outputs": [],
   "source": [
    "# Replace the numeric values in the \"Benzos\" column with their meanings\n",
    "df_vis['Benzos'] = df_vis['Benzos'].replace(CL_mapping)\n",
    "\n",
    "# Display the Benzos column\n",
    "df_vis['Benzos'].head(5)"
   ]
  },
  {
   "cell_type": "code",
   "execution_count": null,
   "metadata": {
    "colab": {
     "base_uri": "https://localhost:8080/",
     "height": 324
    },
    "id": "2g2dPR7RBm2E",
    "outputId": "ed9e8875-689f-468b-a3e4-674d5cc16807"
   },
   "outputs": [],
   "source": [
    "# Calculate the fractions and cases for each unique class in \"Benzos\"\n",
    "benzos_counts = df_vis['Benzos'].value_counts()\n",
    "total_cases = len(df_vis)\n",
    "benzos_fractions = (benzos_counts / total_cases) * 100\n",
    "\n",
    "# Create a DataFrame to display the results for \"Benzos\"\n",
    "benzos_info_df = pd.DataFrame({'Benzos Class': benzos_counts.index, 'Benzos Cases': benzos_counts.values, 'Benzos Fraction (%)': benzos_fractions.values})\n",
    "\n",
    "# Display the DataFrame for \"Benzos\"\n",
    "benzos_info_df"
   ]
  },
  {
   "cell_type": "markdown",
   "metadata": {
    "id": "SLFk0Yi_B0-N",
    "jp-MarkdownHeadingCollapsed": true
   },
   "source": [
    "#### Caff, Cannabis, Choc and Coke"
   ]
  },
  {
   "cell_type": "markdown",
   "metadata": {
    "id": "ZyZSKf9-e90F"
   },
   "source": [
    "Here are grouped what we consider \"soft\" drugs :\n",
    "\n",
    "* Caff is Caffeine\n",
    "* Cannabis is cannabis (obviously)\n",
    "* Choc is Chocolate\n",
    "* Coke is cocaine\n",
    "\n",
    "\n",
    "\n"
   ]
  },
  {
   "cell_type": "code",
   "execution_count": null,
   "metadata": {
    "colab": {
     "base_uri": "https://localhost:8080/"
    },
    "id": "yYtucZJ-CjgY",
    "outputId": "d0c31f10-8c23-4150-9cfd-21e4199a96ea"
   },
   "outputs": [],
   "source": [
    "# Replace the numeric values in the columns with their meanings\n",
    "df_vis['Caff'] = df_vis['Caff'].replace(CL_mapping)\n",
    "df_vis['Cannabis'] = df_vis['Cannabis'].replace(CL_mapping)\n",
    "df_vis['Choc'] = df_vis['Choc'].replace(CL_mapping)\n",
    "df_vis['Coke'] = df_vis['Coke'].replace(CL_mapping)\n",
    "\n",
    "# Calculate the fractions and cases for each unique class in each column\n",
    "caff_counts = df_vis['Caff'].value_counts()\n",
    "cannabis_counts = df_vis['Cannabis'].value_counts()\n",
    "choc_counts = df_vis['Choc'].value_counts()\n",
    "coke_counts = df_vis['Coke'].value_counts()\n",
    "\n",
    "total_cases = len(df)\n",
    "\n",
    "caff_fractions = (caff_counts / total_cases) * 100\n",
    "cannabis_fractions = (cannabis_counts / total_cases) * 100\n",
    "choc_fractions = (choc_counts / total_cases) * 100\n",
    "coke_fractions = (coke_counts / total_cases) * 100\n",
    "\n",
    "# Create DataFrames to display the results for each column\n",
    "caff_info_df = pd.DataFrame({'Caff Class': caff_counts.index, 'Caff Cases': caff_counts.values, 'Caff Fraction (%)': caff_fractions.values})\n",
    "cannabis_info_df = pd.DataFrame({'Cannabis Class': cannabis_counts.index, 'Cannabis Cases': cannabis_counts.values, 'Cannabis Fraction (%)': cannabis_fractions.values})\n",
    "choc_info_df = pd.DataFrame({'Choc Class': choc_counts.index, 'Choc Cases': choc_counts.values, 'Choc Fraction (%)': choc_fractions.values})\n",
    "coke_info_df = pd.DataFrame({'Coke Class': coke_counts.index, 'Coke Cases': coke_counts.values, 'Coke Fraction (%)': coke_fractions.values})\n",
    "\n",
    "# Display the DataFrames for each column\n",
    "print(\"Caff:\")\n",
    "print(caff_info_df)\n",
    "\n",
    "print(\"\\nCannabis:\")\n",
    "print(cannabis_info_df)\n",
    "\n",
    "print(\"\\nChoc:\")\n",
    "print(choc_info_df)\n",
    "\n",
    "print(\"\\nCoke:\")\n",
    "print(coke_info_df)"
   ]
  },
  {
   "cell_type": "markdown",
   "metadata": {
    "id": "aHcWLx69DFat",
    "jp-MarkdownHeadingCollapsed": true
   },
   "source": [
    "#### Crack, Ecstasy, Heroin and Ketamine"
   ]
  },
  {
   "cell_type": "markdown",
   "metadata": {
    "id": "wrSKgUs-fig0"
   },
   "source": [
    "Here are grouped what we considered \"hard\" drugs:\n",
    "\n"
   ]
  },
  {
   "cell_type": "code",
   "execution_count": null,
   "metadata": {
    "colab": {
     "base_uri": "https://localhost:8080/"
    },
    "id": "VtTID_TbCkAK",
    "outputId": "e30985c8-9706-40a2-db14-d5f7c44014f0"
   },
   "outputs": [],
   "source": [
    "# Replace the numeric values in the columns with their meanings\n",
    "df_vis['Crack'] = df_vis['Crack'].replace(CL_mapping)\n",
    "df_vis['Ecstasy'] = df_vis['Ecstasy'].replace(CL_mapping)\n",
    "df_vis['Heroin'] = df_vis['Heroin'].replace(CL_mapping)\n",
    "df_vis['Ketamine'] = df_vis['Ketamine'].replace(CL_mapping)\n",
    "\n",
    "# Calculate the fractions and cases for each unique class in each column\n",
    "crack_counts = df_vis['Crack'].value_counts()\n",
    "ecstasy_counts = df_vis['Ecstasy'].value_counts()\n",
    "heroin_counts = df_vis['Heroin'].value_counts()\n",
    "ketamine_counts = df_vis['Ketamine'].value_counts()\n",
    "\n",
    "total_cases = len(df)\n",
    "\n",
    "crack_fractions = (crack_counts / total_cases) * 100\n",
    "ecstasy_fractions = (ecstasy_counts / total_cases) * 100\n",
    "heroin_fractions = (heroin_counts / total_cases) * 100\n",
    "ketamine_fractions = (ketamine_counts / total_cases) * 100\n",
    "\n",
    "# Create DataFrames to display the results for each column\n",
    "crack_info_df = pd.DataFrame({'Crack Class': crack_counts.index, 'Crack Cases': crack_counts.values, 'Crack Fraction (%)': crack_fractions.values})\n",
    "ecstasy_info_df = pd.DataFrame({'Ecstasy Class': ecstasy_counts.index, 'Ecstasy Cases': ecstasy_counts.values, 'Ecstasy Fraction (%)': ecstasy_fractions.values})\n",
    "heroin_info_df = pd.DataFrame({'Heroin Class': heroin_counts.index, 'Heroin Cases': heroin_counts.values, 'Heroin Fraction (%)': heroin_fractions.values})\n",
    "ketamine_info_df = pd.DataFrame({'Ketamine Class': ketamine_counts.index, 'Ketamine Cases': ketamine_counts.values, 'Ketamine Fraction (%)': ketamine_fractions.values})\n",
    "\n",
    "# Display the DataFrames for each column\n",
    "print(\"Crack:\")\n",
    "print(crack_info_df)\n",
    "\n",
    "print(\"\\nEcstasy:\")\n",
    "print(ecstasy_info_df)\n",
    "\n",
    "print(\"\\nHeroin:\")\n",
    "print(heroin_info_df)\n",
    "\n",
    "print(\"\\nKetamine:\")\n",
    "print(ketamine_info_df)\n"
   ]
  },
  {
   "cell_type": "markdown",
   "metadata": {
    "id": "vxFD1RfRDVxv",
    "jp-MarkdownHeadingCollapsed": true
   },
   "source": [
    "#### Legalh, LSD, Meth and Mushrooms"
   ]
  },
  {
   "cell_type": "markdown",
   "metadata": {
    "id": "_IbnLk_Yfq_c"
   },
   "source": [
    "Legalh is legalize highs that are found in a pharmaceutical context.Here are grouped the hallucinogenic effect drugs"
   ]
  },
  {
   "cell_type": "code",
   "execution_count": null,
   "metadata": {
    "colab": {
     "base_uri": "https://localhost:8080/"
    },
    "id": "asV97gFBDO9H",
    "outputId": "dfcb9693-fc79-4110-e97f-3d7c56b00525"
   },
   "outputs": [],
   "source": [
    "# Replace the numeric values in the columns with their meanings\n",
    "df_vis['Legalh'] = df_vis['Legalh'].replace(CL_mapping)\n",
    "df_vis['LSD'] = df_vis['LSD'].replace(CL_mapping)\n",
    "df_vis['Meth'] = df_vis['Meth'].replace(CL_mapping)\n",
    "df_vis['Mushrooms'] = df_vis['Mushrooms'].replace(CL_mapping)\n",
    "\n",
    "# Calculate the fractions and cases for each unique class in each column\n",
    "legalh_counts = df_vis['Legalh'].value_counts()\n",
    "lsd_counts = df_vis['LSD'].value_counts()\n",
    "meth_counts = df_vis['Meth'].value_counts()\n",
    "mushrooms_counts = df_vis['Mushrooms'].value_counts()\n",
    "\n",
    "total_cases = len(df_vis)\n",
    "\n",
    "legalh_fractions = (legalh_counts / total_cases) * 100\n",
    "lsd_fractions = (lsd_counts / total_cases) * 100\n",
    "meth_fractions = (meth_counts / total_cases) * 100\n",
    "mushrooms_fractions = (mushrooms_counts / total_cases) * 100\n",
    "\n",
    "# Create DataFrames to display the results for each column\n",
    "legalh_info_df = pd.DataFrame({'Legalh Class': legalh_counts.index, 'Legalh Cases': legalh_counts.values, 'Legalh Fraction (%)': legalh_fractions.values})\n",
    "lsd_info_df = pd.DataFrame({'LSD Class': lsd_counts.index, 'LSD Cases': lsd_counts.values, 'LSD Fraction (%)': lsd_fractions.values})\n",
    "meth_info_df = pd.DataFrame({'Meth Class': meth_counts.index, 'Meth Cases': meth_counts.values, 'Meth Fraction (%)': meth_fractions.values})\n",
    "mushrooms_info_df = pd.DataFrame({'Mushrooms Class': mushrooms_counts.index, 'Mushrooms Cases': mushrooms_counts.values, 'Mushrooms Fraction (%)': mushrooms_fractions.values})\n",
    "\n",
    "# Display the DataFrames for each column\n",
    "print(\"Legalh:\")\n",
    "print(legalh_info_df)\n",
    "\n",
    "print(\"\\nLSD:\")\n",
    "print(lsd_info_df)\n",
    "\n",
    "print(\"\\nMeth:\")\n",
    "print(meth_info_df)\n",
    "\n",
    "print(\"\\nMushrooms:\")\n",
    "print(mushrooms_info_df)"
   ]
  },
  {
   "cell_type": "markdown",
   "metadata": {
    "id": "U5voaBlhEbSv",
    "jp-MarkdownHeadingCollapsed": true
   },
   "source": [
    "#### Nicotine, Semer and VSA"
   ]
  },
  {
   "cell_type": "markdown",
   "metadata": {
    "id": "GVhOfgM__GZ-"
   },
   "source": [
    "VSA are versatile substance abuse such as solvants like glue, gasoline... Semer is class of fictitious drug Semeron consumption."
   ]
  },
  {
   "cell_type": "code",
   "execution_count": null,
   "metadata": {
    "colab": {
     "base_uri": "https://localhost:8080/"
    },
    "id": "1UlAiBMFEUiC",
    "outputId": "a89f7fa8-6cf0-4f6b-9e21-043a0496377e"
   },
   "outputs": [],
   "source": [
    "# Replace the numeric values in the columns with their meanings\n",
    "df_vis['Nicotine'] = df_vis['Nicotine'].replace(CL_mapping)\n",
    "df_vis['VSA'] = df_vis['VSA'].replace(CL_mapping)\n",
    "\n",
    "# Calculate the fractions and cases for each unique class in each column\n",
    "nicotine_counts = df['Nicotine'].value_counts()\n",
    "vsa_counts = df['VSA'].value_counts()\n",
    "\n",
    "total_cases = len(df)\n",
    "\n",
    "nicotine_fractions = (nicotine_counts / total_cases) * 100\n",
    "vsa_fractions = (vsa_counts / total_cases) * 100\n",
    "\n",
    "# Create DataFrames to display the results for each column\n",
    "nicotine_info_df = pd.DataFrame({'Nicotine Class': nicotine_counts.index, 'Nicotine Cases': nicotine_counts.values, 'Nicotine Fraction (%)': nicotine_fractions.values})\n",
    "vsa_info_df = pd.DataFrame({'VSA Class': vsa_counts.index, 'VSA Cases': vsa_counts.values, 'VSA Fraction (%)': vsa_fractions.values})\n",
    "\n",
    "# Display the DataFrames for each column\n",
    "print(\"Nicotine:\")\n",
    "print(nicotine_info_df)\n",
    "\n",
    "print(\"\\nVSA:\")\n",
    "print(vsa_info_df)"
   ]
  },
  {
   "cell_type": "markdown",
   "metadata": {
    "id": "RzUi8EupEmDE"
   },
   "source": [
    "#### Display the dataframe"
   ]
  },
  {
   "cell_type": "markdown",
   "metadata": {
    "id": "1MffZTsNgQWg"
   },
   "source": [
    "After remapping and renaming the attributes, we show our dataframe"
   ]
  },
  {
   "cell_type": "code",
   "execution_count": null,
   "metadata": {
    "colab": {
     "base_uri": "https://localhost:8080/",
     "height": 666
    },
    "id": "Vk3h3f8vEjrw",
    "outputId": "3052c439-fb45-4218-9e99-893c1cdeb74e"
   },
   "outputs": [],
   "source": [
    "df_vis"
   ]
  },
  {
   "cell_type": "markdown",
   "metadata": {
    "id": "Lxzo5GVogVdt"
   },
   "source": [
    "Here are our columns:"
   ]
  },
  {
   "cell_type": "code",
   "execution_count": null,
   "metadata": {
    "colab": {
     "base_uri": "https://localhost:8080/"
    },
    "id": "7hohBXBuaagk",
    "outputId": "78a9e339-25f9-419d-c4f5-a3e31b1c53ca"
   },
   "outputs": [],
   "source": [
    "df_vis.columns"
   ]
  },
  {
   "cell_type": "markdown",
   "metadata": {
    "id": "AuCGX1xgBncp",
    "jp-MarkdownHeadingCollapsed": true
   },
   "source": [
    "#### Consumption by Age"
   ]
  },
  {
   "cell_type": "markdown",
   "metadata": {
    "id": "7iCo5VomB0HR"
   },
   "source": [
    "We want to see in a first place simple graphics about the basic parameters: here are diagram fo age."
   ]
  },
  {
   "cell_type": "code",
   "execution_count": null,
   "metadata": {
    "colab": {
     "base_uri": "https://localhost:8080/",
     "height": 54
    },
    "id": "jZQJH8d9C31H",
    "outputId": "5f9bfa7b-0e66-419c-fa78-ffdc24365268"
   },
   "outputs": [],
   "source": [
    "age_categories = age_info_df['Age Category']\n",
    "fractions = age_info_df['Fraction (%)']\n",
    "\n",
    "# Defining colors for the bars\n",
    "colors = plt.cm.Set3(np.linspace(0, 1, len(age_categories)))\n",
    "\n",
    "# Créer the bar diagram\n",
    "plt.bar(age_categories, fractions, color=colors)\n",
    "plt.xlabel('Age category')\n",
    "plt.ylabel('Percentage (%)')\n",
    "plt.title('Proportion of consumers by age')\n",
    "\n",
    "# Getting the legend rotated\n",
    "plt.xticks(rotation=45)\n",
    "\n",
    "# Show the final plot\n",
    "plt.show()"
   ]
  },
  {
   "cell_type": "markdown",
   "metadata": {
    "id": "l5Xk-bWwCFOH"
   },
   "source": [
    "For the age we can see that the biggest Age category represented in this dataset is the 18-24 years old. We notice that the consumer percentage tend to decrease when the age category increase. Which could mean that the older people get the less likely they are to consume drugs."
   ]
  },
  {
   "cell_type": "markdown",
   "metadata": {
    "id": "0MrafL6zB1uu",
    "jp-MarkdownHeadingCollapsed": true
   },
   "source": [
    "#### Number of people who have never used drugs"
   ]
  },
  {
   "cell_type": "markdown",
   "metadata": {
    "id": "e9jwfM5og1_z"
   },
   "source": [
    "Among the different drugs we want to show the number of people that never consume them. We seperate the legal drugs and illegal ones."
   ]
  },
  {
   "cell_type": "code",
   "execution_count": null,
   "metadata": {
    "colab": {
     "base_uri": "https://localhost:8080/",
     "height": 54
    },
    "id": "v5HiPcHczJ9J",
    "outputId": "243b077c-2dc3-478c-9cf6-d023caa86a71"
   },
   "outputs": [],
   "source": [
    "# Count of 'Never Used' for legal drugs\n",
    "never_used_legal = (df_vis[legal] == 0).sum(axis=0)\n",
    "\n",
    "# Count of 'Never Used' for illegal drugs\n",
    "never_used_illegal = (df_vis[illegal] == 0).sum(axis=0)\n",
    "\n",
    "fig, axes = plt.subplots(1, 2, figsize=(12, 5))\n",
    "\n",
    "# Plot for legal drugs\n",
    "axes[0].bar(never_used_legal.index, never_used_legal, color=colors)\n",
    "axes[0].set_title('Number of People who have Never Used Legal Drugs')\n",
    "axes[0].set_xlabel('Drugs')\n",
    "axes[0].set_ylabel('Number of People')\n",
    "axes[0].set_ylim(0, df_vis.shape[0])\n",
    "\n",
    "# Plot for illegal drugs\n",
    "axes[1].bar(never_used_illegal.index, never_used_illegal, color=colors)\n",
    "axes[1].set_title('Number of People who have Never Used Illegal Drugs')\n",
    "axes[1].set_xlabel('Drugs')\n",
    "axes[1].set_ylabel('Number of People')\n",
    "axes[1].set_ylim(0, df_vis.shape[0])\n",
    "axes[1].tick_params(axis='x', rotation=45)\n",
    "\n",
    "plt.tight_layout()\n",
    "plt.show()\n"
   ]
  },
  {
   "cell_type": "markdown",
   "metadata": {},
   "source": [
    "The higher the bar, the lesser someone is likely to have tried that drug."
   ]
  },
  {
   "cell_type": "markdown",
   "metadata": {
    "id": "rQe_JJe6hA_s"
   },
   "source": [
    "Nicotine is the only legal drug to be less likely to be consumed."
   ]
  },
  {
   "cell_type": "markdown",
   "metadata": {},
   "source": [
    "For the illegal drugs, Crack, Heroin, Ketamine and Meth are the less likely to have been taken by someone"
   ]
  },
  {
   "cell_type": "code",
   "execution_count": null,
   "metadata": {
    "colab": {
     "base_uri": "https://localhost:8080/"
    },
    "id": "GqrGeS_E0u8f",
    "outputId": "b2b4542c-2c91-46d1-d298-bb46183b1eb7"
   },
   "outputs": [],
   "source": [
    "# Display the count of 'Never Used' for legal drugs\n",
    "never_used_legal"
   ]
  },
  {
   "cell_type": "markdown",
   "metadata": {
    "id": "QRRMDz4H0dXU"
   },
   "source": [
    "We see that legal drugs were used more than illegal ones. We also note that the most widely used legal drug is caffeine (there are only 27 people who have never used caffeine). The most widely used illegal drug is cannabis by far."
   ]
  },
  {
   "cell_type": "markdown",
   "metadata": {
    "id": "11ByHwyyB9uN",
    "jp-MarkdownHeadingCollapsed": true
   },
   "source": [
    "#### Link between education level and drug consumption"
   ]
  },
  {
   "cell_type": "markdown",
   "metadata": {
    "id": "jADtTc8niH5Z"
   },
   "source": [
    "We are now going to use the education parameter to see a link between education level and drug consumption"
   ]
  },
  {
   "cell_type": "code",
   "execution_count": null,
   "metadata": {
    "colab": {
     "base_uri": "https://localhost:8080/",
     "height": 54
    },
    "id": "50yQa4YC9e05",
    "outputId": "b53d8a12-0654-4b87-89a3-c9530905d62c"
   },
   "outputs": [],
   "source": [
    "# Group by 'Education' and calculate the mean of drug consumption, illegal drugs tested, and legal drugs tested\n",
    "education_means = df_vis.groupby('Education')['Drugs Tested'].mean().sort_values(ascending=True)\n",
    "illegal_education_means = df_vis.groupby('Education')['Illegal Drugs'].mean().sort_values(ascending=True)\n",
    "legal_education_means = df_vis.groupby('Education')['Legal Drugs'].mean().sort_values(ascending=True)\n",
    "\n",
    "# Plotting all three on the same plot\n",
    "plt.figure(figsize=(12, 8))\n",
    "\n",
    "# Define positions for each category and define the width of each bar\n",
    "x = np.arange(len(education_means))\n",
    "width = 0.25\n",
    "\n",
    "# Plot the mean drugs consumption and the nb of illegal/legal drugs tested\n",
    "plt.bar(x - width, education_means, width=width, color='#6FB1A6', label='Mean Drug Consumption')\n",
    "plt.bar(x, illegal_education_means, width=width, color='#ABC8A4', label='Mean Illegal Drugs Tested')\n",
    "plt.bar(x + width, legal_education_means, width=width, color='#9D99B8', label='Mean Legal Drugs Tested')\n",
    "\n",
    "# Set the x axis ticks and labels then finally plot the final plot\n",
    "plt.xticks(x, education_means.index, rotation=45, ha='right')\n",
    "plt.title('Mean Drug Consumption and Mean Illegal/Legal Drugs Tested by Education Level')\n",
    "plt.xlabel('Education Level')\n",
    "plt.ylabel('Mean')\n",
    "plt.legend()\n",
    "plt.tight_layout()\n",
    "plt.show()"
   ]
  },
  {
   "cell_type": "markdown",
   "metadata": {
    "id": "mZOKV2bZiurU"
   },
   "source": [
    "Here we can see several things:\n",
    "\n",
    "1.   On average, regardless of education level, people have consumed the same number of legal drugs. This is probably due to the fact that legality makes consumption easier.\n",
    "2.   It follows that the ranking will be between those who have consumed the most illegal drugs.\n",
    "3.   We can see that the category with the smallest mean drug consumption is Master degree. Whereas the one with biggest mean drug consumption is \"Some college or univeristy, no certification or degree\". We can therefore try to create 2 categories: 'Graduate' and 'Non-graduate' to try to find correlations."
   ]
  },
  {
   "cell_type": "code",
   "execution_count": null,
   "metadata": {
    "colab": {
     "base_uri": "https://localhost:8080/",
     "height": 54
    },
    "id": "4qFBbBRHOY6n",
    "outputId": "ca6e07cb-a6da-46ac-ca69-1f889c72ad50"
   },
   "outputs": [],
   "source": [
    "# Define categories for 'Graduate' and 'Non-graduate'\n",
    "graduate_categories = ['Doctorate degree', 'Masters degree', 'University degree']\n",
    "non_graduate_categories = [\n",
    "    'Left school at 16 years',\n",
    "    'Left school at 17 years',\n",
    "    'Left school at 18 years',\n",
    "    'Left school before 16 years',\n",
    "    'Professional certificate/diploma',\n",
    "    'Some college or university, no certificate or degree'\n",
    "]\n",
    "\n",
    "# Create a new column 'Education Category' based on the defined categories\n",
    "df_vis['Education Category'] = df_vis['Education'].apply(lambda x: 'Graduate' if x in graduate_categories else 'Non-graduate')\n",
    "df_vis['Education Category'] = df_vis['Education Category'].map({'Graduate': 1, 'Non-graduate': 0})\n",
    "\n",
    "# Group by 'Education Category' and calculate the mean of illegal drugs consumption\n",
    "education_category_means = df_vis.groupby('Education Category')['Illegal Drugs'].mean()\n",
    "\n",
    "# Plotting the mean number of illegal drugs consumed by 'Graduate' and 'Non-graduate'\n",
    "plt.figure(figsize=(8, 6))\n",
    "education_category_means.plot(kind='bar', color=colors)\n",
    "plt.title('Mean Illegal Drugs Consumption by Education Category')\n",
    "plt.xlabel('Education Category')\n",
    "plt.ylabel('Mean Illegal Drugs Consumption')\n",
    "plt.xticks(rotation=0)\n",
    "plt.show()"
   ]
  },
  {
   "cell_type": "code",
   "execution_count": null,
   "metadata": {
    "colab": {
     "base_uri": "https://localhost:8080/"
    },
    "id": "oE5zevE7SFDz",
    "outputId": "32c038cf-0a78-426c-b366-479bd441a3af"
   },
   "outputs": [],
   "source": [
    "education_category_means"
   ]
  },
  {
   "cell_type": "markdown",
   "metadata": {
    "id": "L8A499vbR37i"
   },
   "source": [
    "We can see that, on average, graduate people test 1.4 drugs less than non-graduate people."
   ]
  },
  {
   "cell_type": "code",
   "execution_count": null,
   "metadata": {
    "colab": {
     "base_uri": "https://localhost:8080/",
     "height": 89
    },
    "id": "85ZBp27Q_raT",
    "outputId": "dbd29c57-ac88-4d75-9a9a-78f470e7f6c4",
    "scrolled": true
   },
   "outputs": [],
   "source": [
    "correlation_columns = df_vis[['Education', 'Education Category', 'Illegal Drugs','Legal Drugs', 'Drugs Tested']]\n",
    "\n",
    "# Calculate the matrix\n",
    "correlation_matrix = correlation_columns.corr()\n",
    "\n",
    "# Create the heatmap\n",
    "plt.figure(figsize=(12, 10))\n",
    "sns.heatmap(correlation_matrix, annot=True, cmap='Oranges', linewidths=.5)\n",
    "\n",
    "plt.title('Correlation Heatmap')\n",
    "plt.show()"
   ]
  },
  {
   "cell_type": "markdown",
   "metadata": {
    "id": "ZyA49oazGlHw"
   },
   "source": [
    "Thanks to this correlation matrix, we can see many things:\n",
    "1. The 'obvious' correlations such as education category and education and the nb of illegal drugs tested and the nb of drugs tested.\n",
    "2. However, the nb of **legal** drugs tested is not as correlated with the nb of drugs tested as it is with **illegal** drugs. This is always due to the fact that everyone has already tested legal drugs, and that the number of drugs tested is due to the number of illegal drugs tested.\n",
    "3. We can see that there is no correlation between Education and the number of drugs tested."
   ]
  },
  {
   "cell_type": "markdown",
   "metadata": {
    "id": "7Jk479hSUqW0"
   },
   "source": [
    "Conclusions: Legal drugs have been trivialized. Graduates test less than non-graduates."
   ]
  },
  {
   "cell_type": "markdown",
   "metadata": {
    "id": "Q2ual-S8Uw6I",
    "jp-MarkdownHeadingCollapsed": true
   },
   "source": [
    "#### Big Five Personality and Drug consumption"
   ]
  },
  {
   "cell_type": "markdown",
   "metadata": {
    "id": "gL7y_x8HVebB"
   },
   "source": [
    "There are 5 personality traits, a widely recognized model in psychology that describes human personality using five broad dimensions:\n",
    "1. Openness to Experience (Oscore): Reflects a person's imagination, creativity, willingness to try new things, and appreciation for art and adventure.\n",
    "\n",
    "2. Conscientiousness (Nscore): Refers to how organized, responsible, dependable, and goal-oriented an individual is.\n",
    "\n",
    "3. Extraversion (Escore): Represents the degree of sociability, assertiveness, talkativeness, and comfort in social settings.\n",
    "\n",
    "4. Agreeableness (Ascore): Relates to how cooperative, compassionate, empathetic, and considerate a person is in social interactions.\n",
    "\n",
    "5. Neuroticism (Cscore): Reflects emotional stability or instability, including tendencies toward anxiety, moodiness, irritability, and stress susceptibility.\n",
    "\n",
    "There is also other personality traits:\n",
    "6. Impulsiveness (Impulsive Rate): Reflects a tendency to act on immediate desires without considering consequences.\n",
    "\n",
    "7. Sensation Seeking (SS): Measures the desire for varied, novel, and intense experiences. Higher scores suggest a preference for excitement, risk-taking, and novelty-seeking behaviors."
   ]
  },
  {
   "cell_type": "markdown",
   "metadata": {
    "id": "WFR0nQQ90iaS"
   },
   "source": [
    "1. **Sensation Seeking and Personality Traits:**\n",
    "\n",
    "High sensation seekers (SS) tend to be more open-minded (Oscore) and might explore various experiences.\n",
    "Individuals open to experience might show a greater inclination to test a variety of drugs (Narcotics), signifying a relationship between their exploratory nature and drug testing behavior.\n",
    "\n",
    "2. **Impulsiveness and Sensation Seeking:**\n",
    "\n",
    "The strong correlation between sensation seeking and impulsiveness indicates that those seeking sensations may act impulsively in pursuing new experiences, potentially leading to drug testing.\n",
    "Individuals with higher sensation seeking tendencies might impulsively explore diverse substances, aligning with their thrill-seeking nature.\n",
    "\n",
    "3. **Personality Traits - Extraversion and Conscientiousness:**\n",
    "\n",
    "An inverse relationship exists between extraversion (Escore) and neuroticism (Nscore), suggesting that more outgoing individuals (high E) might experience fewer negative emotions (low N).\n",
    "Similarly, the negative correlation between conscientiousness (Cscore) and neuroticism (Nscore) implies that responsible and organized individuals (high C) might experience fewer mood swings or negative emotions."
   ]
  },
  {
   "cell_type": "code",
   "execution_count": null,
   "metadata": {
    "colab": {
     "base_uri": "https://localhost:8080/",
     "height": 89
    },
    "id": "76LBm0WVVYg3",
    "outputId": "05146efc-508f-4dc8-de1d-d69d975c3de0",
    "scrolled": true
   },
   "outputs": [],
   "source": [
    "bigv = ['Nscore','Escore', 'Oscore', 'Ascore', 'Cscore']\n",
    "drugs = [\n",
    "    'Alcohol','Amphet', 'Amyl', 'Benzos', 'Caff', 'Cannabis', 'Choc', 'Coke', 'Crack',\n",
    "    'Ecstasy', 'Heroin', 'Ketamine', 'Legalh', 'LSD', 'Meth', 'Mushrooms',\n",
    "    'Nicotine', 'VSA'\n",
    "]\n",
    "\n",
    "subset_df = df_vis[bigv+drugs].astype(float).corr()\n",
    "#subset_df = pd.pivot_table(subset_df, index=bigv, values=drugs)\n",
    "\n",
    "# Calculate the correlation matrix\n",
    "#correlation_matrix = subset_df.corr()\n",
    "\n",
    "# Create the heatmap\n",
    "plt.figure(figsize=(16, 13))\n",
    "sns.heatmap(subset_df, annot=True, cmap='Oranges', linewidths=.5, fmt=\".1f\")\n",
    "\n",
    "plt.title('Correlation Heatmap')\n",
    "plt.show()"
   ]
  },
  {
   "cell_type": "code",
   "execution_count": null,
   "metadata": {
    "colab": {
     "base_uri": "https://localhost:8080/",
     "height": 89
    },
    "id": "AUNErBeN1X5R",
    "outputId": "06cac9fe-ce69-4fda-a80d-8899ae24f7d0",
    "scrolled": true
   },
   "outputs": [],
   "source": [
    "columns_of_interest = ['Amphet', 'Amyl', 'Benzos', 'Cannabis', 'Coke',\n",
    "                       'Crack', 'Ecstasy', 'Heroin', 'Ketamine', 'Legalh', 'LSD', 'Meth', 'Mushrooms',\n",
    "                       'VSA', 'Nscore', 'Escore', 'Oscore', 'Ascore', 'Cscore', 'Impulsive', 'SS']\n",
    "\n",
    "# Create a subset DataFrame with selected columns\n",
    "subset_df = df_vis[columns_of_interest]\n",
    "\n",
    "# Calculate the correlation matrix\n",
    "correlation_matrix = subset_df.corr()\n",
    "\n",
    "# Create a heatmap using seaborn\n",
    "plt.figure(figsize=(15, 12))\n",
    "sns.heatmap(correlation_matrix, annot=True, cmap='YlOrRd', fmt='.2f')\n",
    "plt.title('Correlation Heatmap of Selected Columns')\n",
    "plt.show()"
   ]
  },
  {
   "cell_type": "markdown",
   "metadata": {
    "id": "jjFOwEjlAtNv"
   },
   "source": [
    "We can clearly see that Oscore, Impulsiveness and Sensation Seekness are more correlated with the illegal drugs consumption than Nscore,Escore, Ascore and Cscore."
   ]
  },
  {
   "cell_type": "markdown",
   "metadata": {
    "id": "chUoiY0CDVFq"
   },
   "source": [
    "Personnality:\n",
    "1. Cannabis and SS/Oscore: Cannabis use often appeals to individuals seeking altered sensory experiences or relaxation. Those with higher SS scores might be more inclined towards the sensory effects or experiences related to cannabis use.\n",
    "\n",
    "2. Legal Highs (Legalh) and SS/Oscore: Legal highs might offer unconventional or legal alternatives to illicit drugs, attracting individuals with higher sensation-seeking traits who seek novel experiences but within legal boundaries.\n",
    "\n",
    "3. Ecstasy (Extasy) and SS/Oscore: Ecstasy, known for its euphoric effects and sensory enhancement, is commonly linked to social settings and heightened sensations. Individuals with higher SS scores might be drawn to its effects on sensory experiences and sociability.\n",
    "\n",
    "4. Mushrooms and SS/Oscore: Psychedelic mushrooms can induce hallucinations and altered perceptions. Those with higher SS scores might be intrigued by the intense sensory and perceptual changes associated with their use."
   ]
  },
  {
   "cell_type": "markdown",
   "metadata": {
    "id": "MmANrIwwQ1qZ"
   },
   "source": [
    "Drugs:\n",
    "1. Correlation of Highly Addictive Drugs: Crack and heroin exhibit a notable correlation between each other and certain other substances like cannabis and meth. These substances possess high addiction potential, leading to focused consumption once tried due to intense cravings and dependence.\n",
    "\n",
    "2. Influence of Addiction Potential: Substances with high addictive qualities, such as crack and heroin, may prompt individuals to prioritize and focus primarily on these drugs after initial use. This focused consumption pattern might lead to weaker correlations with other substances as users may be less inclined to explore or use different drugs."
   ]
  },
  {
   "cell_type": "markdown",
   "metadata": {
    "id": "qbCYKFPxeitZ",
    "jp-MarkdownHeadingCollapsed": true
   },
   "source": [
    "#### Consumer vs Non-Consumer/Tester"
   ]
  },
  {
   "cell_type": "code",
   "execution_count": null,
   "metadata": {
    "colab": {
     "base_uri": "https://localhost:8080/"
    },
    "id": "eBlUB9O-a1Rz",
    "outputId": "21b736e2-181b-4c86-fda1-20c3ae04eb38"
   },
   "outputs": [],
   "source": [
    "# For the Alcoholo column\n",
    "df_vis['Consumer_Type'] = df_vis['Alcohol'].apply(lambda x: 2 if x == 4.0 or x == 5.0 or x == 6.0 else (1 if x == 3.0 or x == 2.0 or x == 1.0 else 0))\n",
    "df_vis['Consumer_Type']"
   ]
  },
  {
   "cell_type": "code",
   "execution_count": null,
   "metadata": {
    "colab": {
     "base_uri": "https://localhost:8080/",
     "height": 54
    },
    "id": "zTH4f_WEjOgg",
    "outputId": "de40e8dd-c761-4f19-907e-d56804d5a88a"
   },
   "outputs": [],
   "source": [
    "# Grouping by 'Consumer_Type' and 'Alcohol' columns and counting occurrences\n",
    "grouped = df_vis.groupby(['Consumer_Type', 'Alcohol']).size().unstack()\n",
    "\n",
    "# Plotting the bar plot with specific colors\n",
    "grouped.plot(kind='bar', stacked=True, figsize=(10, 6), color=colors)\n",
    "plt.title('Consumer Type on Alcohol Usage')\n",
    "plt.xlabel('Consumer Type')\n",
    "plt.ylabel('Count')\n",
    "plt.xticks(rotation=0)\n",
    "plt.legend(title='Alcohol')\n",
    "plt.show()"
   ]
  },
  {
   "cell_type": "markdown",
   "metadata": {
    "id": "HmrpVdI5j4PO"
   },
   "source": [
    "Many people drinks \"often\"."
   ]
  },
  {
   "cell_type": "code",
   "execution_count": null,
   "metadata": {
    "colab": {
     "base_uri": "https://localhost:8080/",
     "height": 54
    },
    "id": "yxO3CeZ7ngsE",
    "outputId": "d62ca651-3b08-43f2-e110-8a3b6fe13900"
   },
   "outputs": [],
   "source": [
    "drug_columns = ['Amphet', 'Amyl', 'Benzos', 'Cannabis', 'Coke', 'Crack', 'Ecstasy', 'Heroin', 'Ketamine', 'Legalh', 'LSD', 'Meth', 'Mushrooms', 'VSA']\n",
    "\n",
    "# Just to make a beautiful plot:\n",
    "# Calculate the number of rows and columns for subplots\n",
    "n_rows = 3  # Number of rows\n",
    "n_cols = len(drug_columns) // n_rows + (len(drug_columns) % n_rows > 0)  # Number of columns\n",
    "\n",
    "# Create subplots for each drug in a grid\n",
    "fig, axes = plt.subplots(nrows=n_rows, ncols=n_cols, figsize=(15, 20))\n",
    "\n",
    "# Plot Consumer Types for each drug\n",
    "for i, drug in enumerate(drug_columns):\n",
    "    row = i // n_cols\n",
    "    col = i % n_cols\n",
    "    df_vis[f'{drug}_Consumer_Type'] = df_vis[drug].apply(lambda x: 2 if x == 4.0 or x == 5.0 or x == 6.0 else (1 if x == 3.0 or x == 2.0 or x == 1.0 else 0))\n",
    "    grouped = df_vis.groupby([f'{drug}_Consumer_Type', drug]).size().unstack()\n",
    "    grouped.plot(kind='bar', stacked=True, ax=axes[row, col], color=colors)\n",
    "    axes[row, col].set_title(f'Consumer Type on {drug} Usage')\n",
    "    axes[row, col].set_xlabel('Consumer Type')\n",
    "    axes[row, col].set_ylabel('Count')\n",
    "    axes[row, col].legend(title=drug)\n",
    "\n",
    "# Hide empty subplots\n",
    "for i in range(len(drug_columns), n_rows * n_cols):\n",
    "    axes.flatten()[i].axis('off')\n",
    "\n",
    "plt.tight_layout()\n",
    "plt.show()\n"
   ]
  },
  {
   "cell_type": "markdown",
   "metadata": {
    "id": "lZzxpqydxq9M"
   },
   "source": [
    "We found on different sources talking about the drugs that are the hardest to find and to quit/most dangerous.\n",
    "\n",
    "Firstly here is an approximative list in order to the lass accessible drug to the to the most.\n",
    "\n",
    "(Sources : The organisation of American addiction center, Oxford Treatment center, National Institute of drug abuse)\n",
    "\n",
    "\n",
    "* Heroin: A highly addictive and illicit drug, often associated with high prices on the black market.\n",
    "\n",
    "* Cocaine (Coke): A stimulant derived from the coca plant, known for its stimulating effects and relatively expensive price.\n",
    "\n",
    "* Ketamine: A dissociative anesthetic that can induce hallucinogenic effects, considered relatively costly.\n",
    "\n",
    "* LSD: A potent hallucinogenic drug often sold as small squares of paper (\"tabs\"), generally less expensive than heroin or cocaine.\n",
    "\n",
    "* Methamphetamine (Meth): A highly addictive stimulant, relatively cheaper compared to heroin or cocaine.\n",
    "\n",
    "* Ecstasy: A synthetic drug with both stimulant and hallucinogenic effects, generally less expensive than some other drugs mentioned.\n",
    "\n",
    "* Cannabis: A psychoactive drug whose price can vary depending on factors such as quality, legality, and location.\n",
    "\n",
    "* Benzos: Prescription drugs used to treat anxiety and insomnia, generally less expensive compared to illicit drugs.\n",
    "\n",
    "* Mushrooms: Psychedelic mushrooms containing psilocybin, generally considered not too expensive.\n",
    "\n",
    "* Legalh: Those drugs are the legalized highs. They depends on the legislation of the country.\n",
    "\n",
    "* Amphetamines (Amphet): Stimulant drugs sometimes prescribed for medical purposes, generally less expensive compared to illicit drugs.\n",
    "\n",
    "* Amyl (Poppers): Volatile liquids used recreationally, typically considered less expensive compared to many other drugs and easy to find.\n",
    "\n",
    "* VSA (Versatile Substance Abuse): Not a specific substance or drug, this is a class of solvant drugs such as glue. It is easy to find.\n",
    "\n"
   ]
  },
  {
   "cell_type": "markdown",
   "metadata": {
    "id": "CCA8T6gLChE5"
   },
   "source": [
    "We can see a direct link between the accessibility of the drugs and the consumers usage of the drugs."
   ]
  },
  {
   "cell_type": "markdown",
   "metadata": {
    "id": "J55xnV6DAPua"
   },
   "source": [
    "## Machine Learning"
   ]
  },
  {
   "cell_type": "markdown",
   "metadata": {
    "id": "ffHAdFY7Ozxj"
   },
   "source": [
    "For this section we will try to predict the number of drugs someone would have taken in his/her life according to his/her personnality scores."
   ]
  },
  {
   "cell_type": "markdown",
   "metadata": {
    "id": "_nXm3LN8xMXZ"
   },
   "source": [
    "### Encoding the dataframe"
   ]
  },
  {
   "cell_type": "markdown",
   "metadata": {
    "id": "44ggSy7XY6wP"
   },
   "source": [
    "First we ordinally encode the data about drugs and last moment of consumption"
   ]
  },
  {
   "cell_type": "code",
   "execution_count": 23,
   "metadata": {
    "id": "GRZQKXb7xW-0"
   },
   "outputs": [],
   "source": [
    "df_ml = df.copy()"
   ]
  },
  {
   "cell_type": "code",
   "execution_count": 24,
   "metadata": {
    "colab": {
     "base_uri": "https://localhost:8080/",
     "height": 455
    },
    "id": "Fq2RrYD85y4U",
    "outputId": "24320242-9c38-4cac-98bc-b1e3d35b8a8a"
   },
   "outputs": [
    {
     "data": {
      "text/html": [
       "<div>\n",
       "<style scoped>\n",
       "    .dataframe tbody tr th:only-of-type {\n",
       "        vertical-align: middle;\n",
       "    }\n",
       "\n",
       "    .dataframe tbody tr th {\n",
       "        vertical-align: top;\n",
       "    }\n",
       "\n",
       "    .dataframe thead th {\n",
       "        text-align: right;\n",
       "    }\n",
       "</style>\n",
       "<table border=\"1\" class=\"dataframe\">\n",
       "  <thead>\n",
       "    <tr style=\"text-align: right;\">\n",
       "      <th></th>\n",
       "      <th>Age</th>\n",
       "      <th>Gender</th>\n",
       "      <th>Education</th>\n",
       "      <th>Country</th>\n",
       "      <th>Ethnicity</th>\n",
       "      <th>Nscore</th>\n",
       "      <th>Escore</th>\n",
       "      <th>Oscore</th>\n",
       "      <th>Ascore</th>\n",
       "      <th>Cscore</th>\n",
       "      <th>...</th>\n",
       "      <th>Legalh</th>\n",
       "      <th>LSD</th>\n",
       "      <th>Meth</th>\n",
       "      <th>Mushrooms</th>\n",
       "      <th>Nicotine</th>\n",
       "      <th>VSA</th>\n",
       "      <th>Drugs Tested</th>\n",
       "      <th>TMTO</th>\n",
       "      <th>Legal Drugs</th>\n",
       "      <th>Illegal Drugs</th>\n",
       "    </tr>\n",
       "    <tr>\n",
       "      <th>ID</th>\n",
       "      <th></th>\n",
       "      <th></th>\n",
       "      <th></th>\n",
       "      <th></th>\n",
       "      <th></th>\n",
       "      <th></th>\n",
       "      <th></th>\n",
       "      <th></th>\n",
       "      <th></th>\n",
       "      <th></th>\n",
       "      <th></th>\n",
       "      <th></th>\n",
       "      <th></th>\n",
       "      <th></th>\n",
       "      <th></th>\n",
       "      <th></th>\n",
       "      <th></th>\n",
       "      <th></th>\n",
       "      <th></th>\n",
       "      <th></th>\n",
       "      <th></th>\n",
       "    </tr>\n",
       "  </thead>\n",
       "  <tbody>\n",
       "    <tr>\n",
       "      <th>1</th>\n",
       "      <td>0.49788</td>\n",
       "      <td>0.48246</td>\n",
       "      <td>-0.05921</td>\n",
       "      <td>0.96082</td>\n",
       "      <td>0.12600</td>\n",
       "      <td>0.31287</td>\n",
       "      <td>-0.57545</td>\n",
       "      <td>-0.58331</td>\n",
       "      <td>-0.91699</td>\n",
       "      <td>-0.00665</td>\n",
       "      <td>...</td>\n",
       "      <td>0.0</td>\n",
       "      <td>0.0</td>\n",
       "      <td>0.0</td>\n",
       "      <td>0.0</td>\n",
       "      <td>2.0</td>\n",
       "      <td>0.0</td>\n",
       "      <td>6</td>\n",
       "      <td>1</td>\n",
       "      <td>4</td>\n",
       "      <td>2</td>\n",
       "    </tr>\n",
       "    <tr>\n",
       "      <th>2</th>\n",
       "      <td>-0.07854</td>\n",
       "      <td>-0.48246</td>\n",
       "      <td>1.98437</td>\n",
       "      <td>0.96082</td>\n",
       "      <td>-0.31685</td>\n",
       "      <td>-0.67825</td>\n",
       "      <td>1.93886</td>\n",
       "      <td>1.43533</td>\n",
       "      <td>0.76096</td>\n",
       "      <td>-0.14277</td>\n",
       "      <td>...</td>\n",
       "      <td>0.0</td>\n",
       "      <td>2.0</td>\n",
       "      <td>3.0</td>\n",
       "      <td>0.0</td>\n",
       "      <td>4.0</td>\n",
       "      <td>0.0</td>\n",
       "      <td>12</td>\n",
       "      <td>1</td>\n",
       "      <td>4</td>\n",
       "      <td>8</td>\n",
       "    </tr>\n",
       "    <tr>\n",
       "      <th>3</th>\n",
       "      <td>0.49788</td>\n",
       "      <td>-0.48246</td>\n",
       "      <td>-0.05921</td>\n",
       "      <td>0.96082</td>\n",
       "      <td>-0.31685</td>\n",
       "      <td>-0.46725</td>\n",
       "      <td>0.80523</td>\n",
       "      <td>-0.84732</td>\n",
       "      <td>-1.62090</td>\n",
       "      <td>-1.01450</td>\n",
       "      <td>...</td>\n",
       "      <td>0.0</td>\n",
       "      <td>0.0</td>\n",
       "      <td>0.0</td>\n",
       "      <td>1.0</td>\n",
       "      <td>0.0</td>\n",
       "      <td>0.0</td>\n",
       "      <td>5</td>\n",
       "      <td>1</td>\n",
       "      <td>3</td>\n",
       "      <td>2</td>\n",
       "    </tr>\n",
       "    <tr>\n",
       "      <th>4</th>\n",
       "      <td>-0.95197</td>\n",
       "      <td>0.48246</td>\n",
       "      <td>1.16365</td>\n",
       "      <td>0.96082</td>\n",
       "      <td>-0.31685</td>\n",
       "      <td>-0.14882</td>\n",
       "      <td>-0.80615</td>\n",
       "      <td>-0.01928</td>\n",
       "      <td>0.59042</td>\n",
       "      <td>0.58489</td>\n",
       "      <td>...</td>\n",
       "      <td>0.0</td>\n",
       "      <td>0.0</td>\n",
       "      <td>0.0</td>\n",
       "      <td>0.0</td>\n",
       "      <td>2.0</td>\n",
       "      <td>0.0</td>\n",
       "      <td>8</td>\n",
       "      <td>1</td>\n",
       "      <td>4</td>\n",
       "      <td>4</td>\n",
       "    </tr>\n",
       "    <tr>\n",
       "      <th>5</th>\n",
       "      <td>0.49788</td>\n",
       "      <td>0.48246</td>\n",
       "      <td>1.98437</td>\n",
       "      <td>0.96082</td>\n",
       "      <td>-0.31685</td>\n",
       "      <td>0.73545</td>\n",
       "      <td>-1.63340</td>\n",
       "      <td>-0.45174</td>\n",
       "      <td>-0.30172</td>\n",
       "      <td>1.30612</td>\n",
       "      <td>...</td>\n",
       "      <td>1.0</td>\n",
       "      <td>0.0</td>\n",
       "      <td>0.0</td>\n",
       "      <td>2.0</td>\n",
       "      <td>2.0</td>\n",
       "      <td>0.0</td>\n",
       "      <td>10</td>\n",
       "      <td>1</td>\n",
       "      <td>4</td>\n",
       "      <td>6</td>\n",
       "    </tr>\n",
       "    <tr>\n",
       "      <th>...</th>\n",
       "      <td>...</td>\n",
       "      <td>...</td>\n",
       "      <td>...</td>\n",
       "      <td>...</td>\n",
       "      <td>...</td>\n",
       "      <td>...</td>\n",
       "      <td>...</td>\n",
       "      <td>...</td>\n",
       "      <td>...</td>\n",
       "      <td>...</td>\n",
       "      <td>...</td>\n",
       "      <td>...</td>\n",
       "      <td>...</td>\n",
       "      <td>...</td>\n",
       "      <td>...</td>\n",
       "      <td>...</td>\n",
       "      <td>...</td>\n",
       "      <td>...</td>\n",
       "      <td>...</td>\n",
       "      <td>...</td>\n",
       "      <td>...</td>\n",
       "    </tr>\n",
       "    <tr>\n",
       "      <th>1884</th>\n",
       "      <td>-0.95197</td>\n",
       "      <td>0.48246</td>\n",
       "      <td>-0.61113</td>\n",
       "      <td>-0.57009</td>\n",
       "      <td>-0.31685</td>\n",
       "      <td>-1.19430</td>\n",
       "      <td>1.74091</td>\n",
       "      <td>1.88511</td>\n",
       "      <td>0.76096</td>\n",
       "      <td>-1.13788</td>\n",
       "      <td>...</td>\n",
       "      <td>3.0</td>\n",
       "      <td>3.0</td>\n",
       "      <td>0.0</td>\n",
       "      <td>0.0</td>\n",
       "      <td>0.0</td>\n",
       "      <td>5.0</td>\n",
       "      <td>7</td>\n",
       "      <td>1</td>\n",
       "      <td>3</td>\n",
       "      <td>3</td>\n",
       "    </tr>\n",
       "    <tr>\n",
       "      <th>1885</th>\n",
       "      <td>-0.95197</td>\n",
       "      <td>-0.48246</td>\n",
       "      <td>-0.61113</td>\n",
       "      <td>-0.57009</td>\n",
       "      <td>-0.31685</td>\n",
       "      <td>-0.24649</td>\n",
       "      <td>1.74091</td>\n",
       "      <td>0.58331</td>\n",
       "      <td>0.76096</td>\n",
       "      <td>-1.51840</td>\n",
       "      <td>...</td>\n",
       "      <td>3.0</td>\n",
       "      <td>5.0</td>\n",
       "      <td>4.0</td>\n",
       "      <td>4.0</td>\n",
       "      <td>5.0</td>\n",
       "      <td>0.0</td>\n",
       "      <td>10</td>\n",
       "      <td>1</td>\n",
       "      <td>4</td>\n",
       "      <td>6</td>\n",
       "    </tr>\n",
       "    <tr>\n",
       "      <th>1886</th>\n",
       "      <td>-0.07854</td>\n",
       "      <td>0.48246</td>\n",
       "      <td>0.45468</td>\n",
       "      <td>-0.57009</td>\n",
       "      <td>-0.31685</td>\n",
       "      <td>1.13281</td>\n",
       "      <td>-1.37639</td>\n",
       "      <td>-1.27553</td>\n",
       "      <td>-1.77200</td>\n",
       "      <td>-1.38502</td>\n",
       "      <td>...</td>\n",
       "      <td>0.0</td>\n",
       "      <td>2.0</td>\n",
       "      <td>0.0</td>\n",
       "      <td>2.0</td>\n",
       "      <td>6.0</td>\n",
       "      <td>0.0</td>\n",
       "      <td>13</td>\n",
       "      <td>1</td>\n",
       "      <td>4</td>\n",
       "      <td>9</td>\n",
       "    </tr>\n",
       "    <tr>\n",
       "      <th>1887</th>\n",
       "      <td>-0.95197</td>\n",
       "      <td>0.48246</td>\n",
       "      <td>-0.61113</td>\n",
       "      <td>-0.57009</td>\n",
       "      <td>-0.31685</td>\n",
       "      <td>0.91093</td>\n",
       "      <td>-1.92173</td>\n",
       "      <td>0.29338</td>\n",
       "      <td>-1.62090</td>\n",
       "      <td>-2.57309</td>\n",
       "      <td>...</td>\n",
       "      <td>3.0</td>\n",
       "      <td>3.0</td>\n",
       "      <td>0.0</td>\n",
       "      <td>3.0</td>\n",
       "      <td>4.0</td>\n",
       "      <td>0.0</td>\n",
       "      <td>9</td>\n",
       "      <td>1</td>\n",
       "      <td>4</td>\n",
       "      <td>5</td>\n",
       "    </tr>\n",
       "    <tr>\n",
       "      <th>1888</th>\n",
       "      <td>-0.95197</td>\n",
       "      <td>-0.48246</td>\n",
       "      <td>-0.61113</td>\n",
       "      <td>0.21128</td>\n",
       "      <td>-0.31685</td>\n",
       "      <td>-0.46725</td>\n",
       "      <td>2.12700</td>\n",
       "      <td>1.65653</td>\n",
       "      <td>1.11406</td>\n",
       "      <td>0.41594</td>\n",
       "      <td>...</td>\n",
       "      <td>3.0</td>\n",
       "      <td>3.0</td>\n",
       "      <td>0.0</td>\n",
       "      <td>3.0</td>\n",
       "      <td>6.0</td>\n",
       "      <td>2.0</td>\n",
       "      <td>13</td>\n",
       "      <td>1</td>\n",
       "      <td>4</td>\n",
       "      <td>8</td>\n",
       "    </tr>\n",
       "  </tbody>\n",
       "</table>\n",
       "<p>1885 rows × 34 columns</p>\n",
       "</div>"
      ],
      "text/plain": [
       "          Age   Gender  Education  Country  Ethnicity   Nscore   Escore  \\\n",
       "ID                                                                        \n",
       "1     0.49788  0.48246   -0.05921  0.96082    0.12600  0.31287 -0.57545   \n",
       "2    -0.07854 -0.48246    1.98437  0.96082   -0.31685 -0.67825  1.93886   \n",
       "3     0.49788 -0.48246   -0.05921  0.96082   -0.31685 -0.46725  0.80523   \n",
       "4    -0.95197  0.48246    1.16365  0.96082   -0.31685 -0.14882 -0.80615   \n",
       "5     0.49788  0.48246    1.98437  0.96082   -0.31685  0.73545 -1.63340   \n",
       "...       ...      ...        ...      ...        ...      ...      ...   \n",
       "1884 -0.95197  0.48246   -0.61113 -0.57009   -0.31685 -1.19430  1.74091   \n",
       "1885 -0.95197 -0.48246   -0.61113 -0.57009   -0.31685 -0.24649  1.74091   \n",
       "1886 -0.07854  0.48246    0.45468 -0.57009   -0.31685  1.13281 -1.37639   \n",
       "1887 -0.95197  0.48246   -0.61113 -0.57009   -0.31685  0.91093 -1.92173   \n",
       "1888 -0.95197 -0.48246   -0.61113  0.21128   -0.31685 -0.46725  2.12700   \n",
       "\n",
       "       Oscore   Ascore   Cscore  ...  Legalh  LSD  Meth  Mushrooms  Nicotine  \\\n",
       "ID                               ...                                           \n",
       "1    -0.58331 -0.91699 -0.00665  ...     0.0  0.0   0.0        0.0       2.0   \n",
       "2     1.43533  0.76096 -0.14277  ...     0.0  2.0   3.0        0.0       4.0   \n",
       "3    -0.84732 -1.62090 -1.01450  ...     0.0  0.0   0.0        1.0       0.0   \n",
       "4    -0.01928  0.59042  0.58489  ...     0.0  0.0   0.0        0.0       2.0   \n",
       "5    -0.45174 -0.30172  1.30612  ...     1.0  0.0   0.0        2.0       2.0   \n",
       "...       ...      ...      ...  ...     ...  ...   ...        ...       ...   \n",
       "1884  1.88511  0.76096 -1.13788  ...     3.0  3.0   0.0        0.0       0.0   \n",
       "1885  0.58331  0.76096 -1.51840  ...     3.0  5.0   4.0        4.0       5.0   \n",
       "1886 -1.27553 -1.77200 -1.38502  ...     0.0  2.0   0.0        2.0       6.0   \n",
       "1887  0.29338 -1.62090 -2.57309  ...     3.0  3.0   0.0        3.0       4.0   \n",
       "1888  1.65653  1.11406  0.41594  ...     3.0  3.0   0.0        3.0       6.0   \n",
       "\n",
       "      VSA  Drugs Tested  TMTO  Legal Drugs  Illegal Drugs  \n",
       "ID                                                         \n",
       "1     0.0             6     1            4              2  \n",
       "2     0.0            12     1            4              8  \n",
       "3     0.0             5     1            3              2  \n",
       "4     0.0             8     1            4              4  \n",
       "5     0.0            10     1            4              6  \n",
       "...   ...           ...   ...          ...            ...  \n",
       "1884  5.0             7     1            3              3  \n",
       "1885  0.0            10     1            4              6  \n",
       "1886  0.0            13     1            4              9  \n",
       "1887  0.0             9     1            4              5  \n",
       "1888  2.0            13     1            4              8  \n",
       "\n",
       "[1885 rows x 34 columns]"
      ]
     },
     "execution_count": 24,
     "metadata": {},
     "output_type": "execute_result"
    }
   ],
   "source": [
    "df_ml"
   ]
  },
  {
   "cell_type": "markdown",
   "metadata": {
    "id": "9W25Bqd2py3v"
   },
   "source": [
    "We binarize binary features (gender in our case)"
   ]
  },
  {
   "cell_type": "code",
   "execution_count": 25,
   "metadata": {
    "colab": {
     "base_uri": "https://localhost:8080/"
    },
    "id": "2dsrZdM-qDSu",
    "outputId": "1e41dd08-68f2-40a0-b8d8-152a2968f766"
   },
   "outputs": [
    {
     "data": {
      "text/plain": [
       "-0.48246    943\n",
       " 0.48246    942\n",
       "Name: Gender, dtype: int64"
      ]
     },
     "execution_count": 25,
     "metadata": {},
     "output_type": "execute_result"
    }
   ],
   "source": [
    "df_ml['Gender'].value_counts()"
   ]
  },
  {
   "cell_type": "markdown",
   "metadata": {
    "id": "MSn1gkkQPSAf"
   },
   "source": [
    "We also need to ordinally encode columns education and age"
   ]
  },
  {
   "cell_type": "code",
   "execution_count": 26,
   "metadata": {
    "colab": {
     "base_uri": "https://localhost:8080/"
    },
    "id": "bK0y3COwPqhJ",
    "outputId": "c1f53065-ab88-4e44-fe93-310c4d7d6e2a"
   },
   "outputs": [
    {
     "data": {
      "text/plain": [
       "-0.95197    643\n",
       "-0.07854    481\n",
       " 0.49788    356\n",
       " 1.09449    294\n",
       " 1.82213     93\n",
       " 2.59171     18\n",
       "Name: Age, dtype: int64"
      ]
     },
     "execution_count": 26,
     "metadata": {},
     "output_type": "execute_result"
    }
   ],
   "source": [
    "df_ml['Age'].value_counts()"
   ]
  },
  {
   "cell_type": "code",
   "execution_count": 27,
   "metadata": {
    "colab": {
     "base_uri": "https://localhost:8080/"
    },
    "id": "4WyMoPthPkWT",
    "outputId": "c61cab5b-3c45-4267-d927-d2aeddb7c268"
   },
   "outputs": [
    {
     "data": {
      "text/plain": [
       "Float64Index([-0.95197, -0.07854, 0.49788, 1.09449, 1.82213, 2.59171], dtype='float64')"
      ]
     },
     "execution_count": 27,
     "metadata": {},
     "output_type": "execute_result"
    }
   ],
   "source": [
    "age_categories = df_ml['Age'].value_counts().index.sort_values()\n",
    "age_categories"
   ]
  },
  {
   "cell_type": "code",
   "execution_count": 28,
   "metadata": {
    "id": "wfClVwD2WxnQ"
   },
   "outputs": [],
   "source": [
    "ord_enc = OrdinalEncoder(categories=[age_categories])"
   ]
  },
  {
   "cell_type": "code",
   "execution_count": 29,
   "metadata": {
    "colab": {
     "base_uri": "https://localhost:8080/"
    },
    "id": "RKTggkReQLSu",
    "outputId": "0a672c4d-6edf-44e9-f2db-d67a98a3248c"
   },
   "outputs": [
    {
     "data": {
      "text/plain": [
       "ID\n",
       "1       2.0\n",
       "2       1.0\n",
       "3       2.0\n",
       "4       0.0\n",
       "5       2.0\n",
       "       ... \n",
       "1884    0.0\n",
       "1885    0.0\n",
       "1886    1.0\n",
       "1887    0.0\n",
       "1888    0.0\n",
       "Name: Age, Length: 1885, dtype: float64"
      ]
     },
     "execution_count": 29,
     "metadata": {},
     "output_type": "execute_result"
    }
   ],
   "source": [
    "df_ml['Age'] = ord_enc.fit_transform(df_ml['Age'].to_numpy().reshape(-1,1))\n",
    "df_ml['Age']"
   ]
  },
  {
   "cell_type": "code",
   "execution_count": 30,
   "metadata": {
    "colab": {
     "base_uri": "https://localhost:8080/"
    },
    "id": "obnLgqd3cjuV",
    "outputId": "65537850-3818-41ec-cc88-6629fcbcedaf"
   },
   "outputs": [
    {
     "data": {
      "text/plain": [
       "Float64Index([-2.43591,  -1.7379, -1.43719, -1.22751, -0.61113, -0.05921,\n",
       "               0.45468,  1.16365,  1.98437],\n",
       "             dtype='float64')"
      ]
     },
     "execution_count": 30,
     "metadata": {},
     "output_type": "execute_result"
    }
   ],
   "source": [
    "edu_categories = df_ml['Education'].value_counts().index.sort_values()\n",
    "edu_categories"
   ]
  },
  {
   "cell_type": "code",
   "execution_count": 31,
   "metadata": {
    "id": "7gfaSPneah-T"
   },
   "outputs": [],
   "source": [
    "ord_enc = OrdinalEncoder(categories=[edu_categories])"
   ]
  },
  {
   "cell_type": "code",
   "execution_count": 32,
   "metadata": {
    "colab": {
     "base_uri": "https://localhost:8080/"
    },
    "id": "tUe9u1D-dYaW",
    "outputId": "83cac09f-3e94-42b4-fbab-b8cd1db24dd0"
   },
   "outputs": [
    {
     "data": {
      "text/plain": [
       "ID\n",
       "1       5.0\n",
       "2       8.0\n",
       "3       5.0\n",
       "4       7.0\n",
       "5       8.0\n",
       "       ... \n",
       "1884    4.0\n",
       "1885    4.0\n",
       "1886    6.0\n",
       "1887    4.0\n",
       "1888    4.0\n",
       "Name: Education, Length: 1885, dtype: float64"
      ]
     },
     "execution_count": 32,
     "metadata": {},
     "output_type": "execute_result"
    }
   ],
   "source": [
    "df_ml['Education'] = ord_enc.fit_transform(df_ml['Education'].to_numpy().reshape(-1,1))\n",
    "df_ml['Education']"
   ]
  },
  {
   "cell_type": "markdown",
   "metadata": {},
   "source": [
    "We drop the columns of ethnicity and country of origin. Besides being racist, making predictions based on people's ethnic/nation origin lacks relevance."
   ]
  },
  {
   "cell_type": "code",
   "execution_count": 33,
   "metadata": {
    "id": "b5PT9LdurI7j"
   },
   "outputs": [],
   "source": [
    "#Decide what to do with ethnicity and country\n",
    "df_ml.drop(['Ethnicity','Country'], axis=1, inplace=True)"
   ]
  },
  {
   "cell_type": "markdown",
   "metadata": {
    "id": "fZcCqv9UPOnB"
   },
   "source": [
    "We scale our data, using standard scaler. Scaling the data is an important step in machine learning because it helps to ensure that features are on a similar scale and have a comparable range of values."
   ]
  },
  {
   "cell_type": "code",
   "execution_count": 34,
   "metadata": {
    "colab": {
     "base_uri": "https://localhost:8080/",
     "height": 75
    },
    "id": "5GQA9Fpfl4Zs",
    "outputId": "07f4a09e-5446-4101-fbfb-790b38c42238"
   },
   "outputs": [
    {
     "data": {
      "text/html": [
       "<style>#sk-container-id-2 {color: black;}#sk-container-id-2 pre{padding: 0;}#sk-container-id-2 div.sk-toggleable {background-color: white;}#sk-container-id-2 label.sk-toggleable__label {cursor: pointer;display: block;width: 100%;margin-bottom: 0;padding: 0.3em;box-sizing: border-box;text-align: center;}#sk-container-id-2 label.sk-toggleable__label-arrow:before {content: \"▸\";float: left;margin-right: 0.25em;color: #696969;}#sk-container-id-2 label.sk-toggleable__label-arrow:hover:before {color: black;}#sk-container-id-2 div.sk-estimator:hover label.sk-toggleable__label-arrow:before {color: black;}#sk-container-id-2 div.sk-toggleable__content {max-height: 0;max-width: 0;overflow: hidden;text-align: left;background-color: #f0f8ff;}#sk-container-id-2 div.sk-toggleable__content pre {margin: 0.2em;color: black;border-radius: 0.25em;background-color: #f0f8ff;}#sk-container-id-2 input.sk-toggleable__control:checked~div.sk-toggleable__content {max-height: 200px;max-width: 100%;overflow: auto;}#sk-container-id-2 input.sk-toggleable__control:checked~label.sk-toggleable__label-arrow:before {content: \"▾\";}#sk-container-id-2 div.sk-estimator input.sk-toggleable__control:checked~label.sk-toggleable__label {background-color: #d4ebff;}#sk-container-id-2 div.sk-label input.sk-toggleable__control:checked~label.sk-toggleable__label {background-color: #d4ebff;}#sk-container-id-2 input.sk-hidden--visually {border: 0;clip: rect(1px 1px 1px 1px);clip: rect(1px, 1px, 1px, 1px);height: 1px;margin: -1px;overflow: hidden;padding: 0;position: absolute;width: 1px;}#sk-container-id-2 div.sk-estimator {font-family: monospace;background-color: #f0f8ff;border: 1px dotted black;border-radius: 0.25em;box-sizing: border-box;margin-bottom: 0.5em;}#sk-container-id-2 div.sk-estimator:hover {background-color: #d4ebff;}#sk-container-id-2 div.sk-parallel-item::after {content: \"\";width: 100%;border-bottom: 1px solid gray;flex-grow: 1;}#sk-container-id-2 div.sk-label:hover label.sk-toggleable__label {background-color: #d4ebff;}#sk-container-id-2 div.sk-serial::before {content: \"\";position: absolute;border-left: 1px solid gray;box-sizing: border-box;top: 0;bottom: 0;left: 50%;z-index: 0;}#sk-container-id-2 div.sk-serial {display: flex;flex-direction: column;align-items: center;background-color: white;padding-right: 0.2em;padding-left: 0.2em;position: relative;}#sk-container-id-2 div.sk-item {position: relative;z-index: 1;}#sk-container-id-2 div.sk-parallel {display: flex;align-items: stretch;justify-content: center;background-color: white;position: relative;}#sk-container-id-2 div.sk-item::before, #sk-container-id-2 div.sk-parallel-item::before {content: \"\";position: absolute;border-left: 1px solid gray;box-sizing: border-box;top: 0;bottom: 0;left: 50%;z-index: -1;}#sk-container-id-2 div.sk-parallel-item {display: flex;flex-direction: column;z-index: 1;position: relative;background-color: white;}#sk-container-id-2 div.sk-parallel-item:first-child::after {align-self: flex-end;width: 50%;}#sk-container-id-2 div.sk-parallel-item:last-child::after {align-self: flex-start;width: 50%;}#sk-container-id-2 div.sk-parallel-item:only-child::after {width: 0;}#sk-container-id-2 div.sk-dashed-wrapped {border: 1px dashed gray;margin: 0 0.4em 0.5em 0.4em;box-sizing: border-box;padding-bottom: 0.4em;background-color: white;}#sk-container-id-2 div.sk-label label {font-family: monospace;font-weight: bold;display: inline-block;line-height: 1.2em;}#sk-container-id-2 div.sk-label-container {text-align: center;}#sk-container-id-2 div.sk-container {/* jupyter's `normalize.less` sets `[hidden] { display: none; }` but bootstrap.min.css set `[hidden] { display: none !important; }` so we also need the `!important` here to be able to override the default hidden behavior on the sphinx rendered scikit-learn.org. See: https://github.com/scikit-learn/scikit-learn/issues/21755 */display: inline-block !important;position: relative;}#sk-container-id-2 div.sk-text-repr-fallback {display: none;}</style><div id=\"sk-container-id-2\" class=\"sk-top-container\"><div class=\"sk-text-repr-fallback\"><pre>StandardScaler()</pre><b>In a Jupyter environment, please rerun this cell to show the HTML representation or trust the notebook. <br />On GitHub, the HTML representation is unable to render, please try loading this page with nbviewer.org.</b></div><div class=\"sk-container\" hidden><div class=\"sk-item\"><div class=\"sk-estimator sk-toggleable\"><input class=\"sk-toggleable__control sk-hidden--visually\" id=\"sk-estimator-id-2\" type=\"checkbox\" checked><label for=\"sk-estimator-id-2\" class=\"sk-toggleable__label sk-toggleable__label-arrow\">StandardScaler</label><div class=\"sk-toggleable__content\"><pre>StandardScaler()</pre></div></div></div></div></div>"
      ],
      "text/plain": [
       "StandardScaler()"
      ]
     },
     "execution_count": 34,
     "metadata": {},
     "output_type": "execute_result"
    }
   ],
   "source": [
    "scaler = StandardScaler()\n",
    "scaler.fit(df_ml)"
   ]
  },
  {
   "cell_type": "code",
   "execution_count": 35,
   "metadata": {
    "colab": {
     "base_uri": "https://localhost:8080/"
    },
    "id": "I8Kp1Q-ImcgW",
    "outputId": "e5f43de3-5f4d-4436-bf6b-48f8e5a98d0e"
   },
   "outputs": [
    {
     "data": {
      "text/plain": [
       "0.0    943\n",
       "1.0    942\n",
       "Name: Gender, dtype: int64"
      ]
     },
     "execution_count": 35,
     "metadata": {},
     "output_type": "execute_result"
    }
   ],
   "source": [
    "binarizer = Binarizer(threshold=0.0)\n",
    "df_ml['Gender'] = binarizer.fit_transform([df['Gender']]).reshape(-1,1)\n",
    "df_ml['Gender'].value_counts()"
   ]
  },
  {
   "cell_type": "markdown",
   "metadata": {
    "id": "_36L20Cq0lLF"
   },
   "source": [
    "We can check how much of these people has never tested any drug."
   ]
  },
  {
   "cell_type": "code",
   "execution_count": 36,
   "metadata": {
    "colab": {
     "base_uri": "https://localhost:8080/"
    },
    "id": "GDQ1r_1L0kRO",
    "outputId": "d613faf6-6bd7-4ddf-cdcd-992f4c51da50"
   },
   "outputs": [
    {
     "data": {
      "text/plain": [
       "1    1884\n",
       "0       1\n",
       "Name: TMTO, dtype: int64"
      ]
     },
     "execution_count": 36,
     "metadata": {},
     "output_type": "execute_result"
    }
   ],
   "source": [
    "df_ml['TMTO'].value_counts()"
   ]
  },
  {
   "cell_type": "code",
   "execution_count": 37,
   "metadata": {
    "colab": {
     "base_uri": "https://localhost:8080/",
     "height": 141
    },
    "id": "1EWezXpp0s-D",
    "outputId": "f2c954e4-d93f-4f66-dd4d-ba3052084ee8"
   },
   "outputs": [
    {
     "data": {
      "text/html": [
       "<div>\n",
       "<style scoped>\n",
       "    .dataframe tbody tr th:only-of-type {\n",
       "        vertical-align: middle;\n",
       "    }\n",
       "\n",
       "    .dataframe tbody tr th {\n",
       "        vertical-align: top;\n",
       "    }\n",
       "\n",
       "    .dataframe thead th {\n",
       "        text-align: right;\n",
       "    }\n",
       "</style>\n",
       "<table border=\"1\" class=\"dataframe\">\n",
       "  <thead>\n",
       "    <tr style=\"text-align: right;\">\n",
       "      <th></th>\n",
       "      <th>Age</th>\n",
       "      <th>Gender</th>\n",
       "      <th>Education</th>\n",
       "      <th>Nscore</th>\n",
       "      <th>Escore</th>\n",
       "      <th>Oscore</th>\n",
       "      <th>Ascore</th>\n",
       "      <th>Cscore</th>\n",
       "      <th>Impulsive</th>\n",
       "      <th>SS</th>\n",
       "      <th>...</th>\n",
       "      <th>Legalh</th>\n",
       "      <th>LSD</th>\n",
       "      <th>Meth</th>\n",
       "      <th>Mushrooms</th>\n",
       "      <th>Nicotine</th>\n",
       "      <th>VSA</th>\n",
       "      <th>Drugs Tested</th>\n",
       "      <th>TMTO</th>\n",
       "      <th>Legal Drugs</th>\n",
       "      <th>Illegal Drugs</th>\n",
       "    </tr>\n",
       "    <tr>\n",
       "      <th>ID</th>\n",
       "      <th></th>\n",
       "      <th></th>\n",
       "      <th></th>\n",
       "      <th></th>\n",
       "      <th></th>\n",
       "      <th></th>\n",
       "      <th></th>\n",
       "      <th></th>\n",
       "      <th></th>\n",
       "      <th></th>\n",
       "      <th></th>\n",
       "      <th></th>\n",
       "      <th></th>\n",
       "      <th></th>\n",
       "      <th></th>\n",
       "      <th></th>\n",
       "      <th></th>\n",
       "      <th></th>\n",
       "      <th></th>\n",
       "      <th></th>\n",
       "      <th></th>\n",
       "    </tr>\n",
       "  </thead>\n",
       "  <tbody>\n",
       "    <tr>\n",
       "      <th>1281</th>\n",
       "      <td>0.0</td>\n",
       "      <td>0.0</td>\n",
       "      <td>6.0</td>\n",
       "      <td>0.82562</td>\n",
       "      <td>0.63779</td>\n",
       "      <td>-0.84732</td>\n",
       "      <td>-2.21844</td>\n",
       "      <td>0.93949</td>\n",
       "      <td>1.86203</td>\n",
       "      <td>1.92173</td>\n",
       "      <td>...</td>\n",
       "      <td>0.0</td>\n",
       "      <td>0.0</td>\n",
       "      <td>0.0</td>\n",
       "      <td>0.0</td>\n",
       "      <td>0.0</td>\n",
       "      <td>0.0</td>\n",
       "      <td>0</td>\n",
       "      <td>0</td>\n",
       "      <td>0</td>\n",
       "      <td>0</td>\n",
       "    </tr>\n",
       "  </tbody>\n",
       "</table>\n",
       "<p>1 rows × 32 columns</p>\n",
       "</div>"
      ],
      "text/plain": [
       "      Age  Gender  Education   Nscore   Escore   Oscore   Ascore   Cscore  \\\n",
       "ID                                                                          \n",
       "1281  0.0     0.0        6.0  0.82562  0.63779 -0.84732 -2.21844  0.93949   \n",
       "\n",
       "      Impulsive       SS  ...  Legalh  LSD  Meth  Mushrooms  Nicotine  VSA  \\\n",
       "ID                        ...                                                \n",
       "1281    1.86203  1.92173  ...     0.0  0.0   0.0        0.0       0.0  0.0   \n",
       "\n",
       "      Drugs Tested  TMTO  Legal Drugs  Illegal Drugs  \n",
       "ID                                                    \n",
       "1281             0     0            0              0  \n",
       "\n",
       "[1 rows x 32 columns]"
      ]
     },
     "execution_count": 37,
     "metadata": {},
     "output_type": "execute_result"
    }
   ],
   "source": [
    "df_ml[df_ml['TMTO'] == 0]"
   ]
  },
  {
   "cell_type": "markdown",
   "metadata": {
    "id": "J4TKHejh00Tz"
   },
   "source": [
    "We now know that each of these individuals has tested at least one drug (which is not surprising considering chocolate is a column in this df). Because the TMTO has little variance we can drop it."
   ]
  },
  {
   "cell_type": "code",
   "execution_count": 38,
   "metadata": {
    "id": "SzdCJ-RZ4Wu1"
   },
   "outputs": [],
   "source": [
    "df_ml.drop('TMTO', inplace=True, axis=1)"
   ]
  },
  {
   "cell_type": "markdown",
   "metadata": {
    "id": "GiAwn3-uqItC"
   },
   "source": [
    "For this part we make sure to work whith floats."
   ]
  },
  {
   "cell_type": "code",
   "execution_count": 39,
   "metadata": {
    "colab": {
     "base_uri": "https://localhost:8080/"
    },
    "id": "wJbjyEhivDzU",
    "outputId": "9a052f66-2e09-4783-9a36-e5040c5a87ee"
   },
   "outputs": [
    {
     "data": {
      "text/plain": [
       "Age              float64\n",
       "Gender           float64\n",
       "Education        float64\n",
       "Nscore           float64\n",
       "Escore           float64\n",
       "Oscore           float64\n",
       "Ascore           float64\n",
       "Cscore           float64\n",
       "Impulsive        float64\n",
       "SS               float64\n",
       "Alcohol          float64\n",
       "Amphet           float64\n",
       "Amyl             float64\n",
       "Benzos           float64\n",
       "Caff             float64\n",
       "Cannabis         float64\n",
       "Choc             float64\n",
       "Coke             float64\n",
       "Crack            float64\n",
       "Ecstasy          float64\n",
       "Heroin           float64\n",
       "Ketamine         float64\n",
       "Legalh           float64\n",
       "LSD              float64\n",
       "Meth             float64\n",
       "Mushrooms        float64\n",
       "Nicotine         float64\n",
       "VSA              float64\n",
       "Drugs Tested     float64\n",
       "Legal Drugs      float64\n",
       "Illegal Drugs    float64\n",
       "dtype: object"
      ]
     },
     "execution_count": 39,
     "metadata": {},
     "output_type": "execute_result"
    }
   ],
   "source": [
    "df_ml = df_ml.astype('float64')\n",
    "df_ml.dtypes"
   ]
  },
  {
   "cell_type": "markdown",
   "metadata": {
    "id": "R2hlNXm1z3nT"
   },
   "source": [
    "Making a df without the drugs"
   ]
  },
  {
   "cell_type": "code",
   "execution_count": 40,
   "metadata": {
    "colab": {
     "base_uri": "https://localhost:8080/",
     "height": 455
    },
    "id": "wYNTAoATrMAb",
    "outputId": "2ac51590-bc16-41cf-c260-d178de56392e"
   },
   "outputs": [
    {
     "data": {
      "text/html": [
       "<div>\n",
       "<style scoped>\n",
       "    .dataframe tbody tr th:only-of-type {\n",
       "        vertical-align: middle;\n",
       "    }\n",
       "\n",
       "    .dataframe tbody tr th {\n",
       "        vertical-align: top;\n",
       "    }\n",
       "\n",
       "    .dataframe thead th {\n",
       "        text-align: right;\n",
       "    }\n",
       "</style>\n",
       "<table border=\"1\" class=\"dataframe\">\n",
       "  <thead>\n",
       "    <tr style=\"text-align: right;\">\n",
       "      <th></th>\n",
       "      <th>Age</th>\n",
       "      <th>Gender</th>\n",
       "      <th>Education</th>\n",
       "      <th>Nscore</th>\n",
       "      <th>Escore</th>\n",
       "      <th>Oscore</th>\n",
       "      <th>Ascore</th>\n",
       "      <th>Cscore</th>\n",
       "      <th>Impulsive</th>\n",
       "      <th>SS</th>\n",
       "      <th>Drugs Tested</th>\n",
       "      <th>Legal Drugs</th>\n",
       "      <th>Illegal Drugs</th>\n",
       "    </tr>\n",
       "    <tr>\n",
       "      <th>ID</th>\n",
       "      <th></th>\n",
       "      <th></th>\n",
       "      <th></th>\n",
       "      <th></th>\n",
       "      <th></th>\n",
       "      <th></th>\n",
       "      <th></th>\n",
       "      <th></th>\n",
       "      <th></th>\n",
       "      <th></th>\n",
       "      <th></th>\n",
       "      <th></th>\n",
       "      <th></th>\n",
       "    </tr>\n",
       "  </thead>\n",
       "  <tbody>\n",
       "    <tr>\n",
       "      <th>1</th>\n",
       "      <td>2.0</td>\n",
       "      <td>1.0</td>\n",
       "      <td>5.0</td>\n",
       "      <td>0.31287</td>\n",
       "      <td>-0.57545</td>\n",
       "      <td>-0.58331</td>\n",
       "      <td>-0.91699</td>\n",
       "      <td>-0.00665</td>\n",
       "      <td>-0.21712</td>\n",
       "      <td>-1.18084</td>\n",
       "      <td>6.0</td>\n",
       "      <td>4.0</td>\n",
       "      <td>2.0</td>\n",
       "    </tr>\n",
       "    <tr>\n",
       "      <th>2</th>\n",
       "      <td>1.0</td>\n",
       "      <td>0.0</td>\n",
       "      <td>8.0</td>\n",
       "      <td>-0.67825</td>\n",
       "      <td>1.93886</td>\n",
       "      <td>1.43533</td>\n",
       "      <td>0.76096</td>\n",
       "      <td>-0.14277</td>\n",
       "      <td>-0.71126</td>\n",
       "      <td>-0.21575</td>\n",
       "      <td>12.0</td>\n",
       "      <td>4.0</td>\n",
       "      <td>8.0</td>\n",
       "    </tr>\n",
       "    <tr>\n",
       "      <th>3</th>\n",
       "      <td>2.0</td>\n",
       "      <td>0.0</td>\n",
       "      <td>5.0</td>\n",
       "      <td>-0.46725</td>\n",
       "      <td>0.80523</td>\n",
       "      <td>-0.84732</td>\n",
       "      <td>-1.62090</td>\n",
       "      <td>-1.01450</td>\n",
       "      <td>-1.37983</td>\n",
       "      <td>0.40148</td>\n",
       "      <td>5.0</td>\n",
       "      <td>3.0</td>\n",
       "      <td>2.0</td>\n",
       "    </tr>\n",
       "    <tr>\n",
       "      <th>4</th>\n",
       "      <td>0.0</td>\n",
       "      <td>1.0</td>\n",
       "      <td>7.0</td>\n",
       "      <td>-0.14882</td>\n",
       "      <td>-0.80615</td>\n",
       "      <td>-0.01928</td>\n",
       "      <td>0.59042</td>\n",
       "      <td>0.58489</td>\n",
       "      <td>-1.37983</td>\n",
       "      <td>-1.18084</td>\n",
       "      <td>8.0</td>\n",
       "      <td>4.0</td>\n",
       "      <td>4.0</td>\n",
       "    </tr>\n",
       "    <tr>\n",
       "      <th>5</th>\n",
       "      <td>2.0</td>\n",
       "      <td>1.0</td>\n",
       "      <td>8.0</td>\n",
       "      <td>0.73545</td>\n",
       "      <td>-1.63340</td>\n",
       "      <td>-0.45174</td>\n",
       "      <td>-0.30172</td>\n",
       "      <td>1.30612</td>\n",
       "      <td>-0.21712</td>\n",
       "      <td>-0.21575</td>\n",
       "      <td>10.0</td>\n",
       "      <td>4.0</td>\n",
       "      <td>6.0</td>\n",
       "    </tr>\n",
       "    <tr>\n",
       "      <th>...</th>\n",
       "      <td>...</td>\n",
       "      <td>...</td>\n",
       "      <td>...</td>\n",
       "      <td>...</td>\n",
       "      <td>...</td>\n",
       "      <td>...</td>\n",
       "      <td>...</td>\n",
       "      <td>...</td>\n",
       "      <td>...</td>\n",
       "      <td>...</td>\n",
       "      <td>...</td>\n",
       "      <td>...</td>\n",
       "      <td>...</td>\n",
       "    </tr>\n",
       "    <tr>\n",
       "      <th>1884</th>\n",
       "      <td>0.0</td>\n",
       "      <td>1.0</td>\n",
       "      <td>4.0</td>\n",
       "      <td>-1.19430</td>\n",
       "      <td>1.74091</td>\n",
       "      <td>1.88511</td>\n",
       "      <td>0.76096</td>\n",
       "      <td>-1.13788</td>\n",
       "      <td>0.88113</td>\n",
       "      <td>1.92173</td>\n",
       "      <td>7.0</td>\n",
       "      <td>3.0</td>\n",
       "      <td>3.0</td>\n",
       "    </tr>\n",
       "    <tr>\n",
       "      <th>1885</th>\n",
       "      <td>0.0</td>\n",
       "      <td>0.0</td>\n",
       "      <td>4.0</td>\n",
       "      <td>-0.24649</td>\n",
       "      <td>1.74091</td>\n",
       "      <td>0.58331</td>\n",
       "      <td>0.76096</td>\n",
       "      <td>-1.51840</td>\n",
       "      <td>0.88113</td>\n",
       "      <td>0.76540</td>\n",
       "      <td>10.0</td>\n",
       "      <td>4.0</td>\n",
       "      <td>6.0</td>\n",
       "    </tr>\n",
       "    <tr>\n",
       "      <th>1886</th>\n",
       "      <td>1.0</td>\n",
       "      <td>1.0</td>\n",
       "      <td>6.0</td>\n",
       "      <td>1.13281</td>\n",
       "      <td>-1.37639</td>\n",
       "      <td>-1.27553</td>\n",
       "      <td>-1.77200</td>\n",
       "      <td>-1.38502</td>\n",
       "      <td>0.52975</td>\n",
       "      <td>-0.52593</td>\n",
       "      <td>13.0</td>\n",
       "      <td>4.0</td>\n",
       "      <td>9.0</td>\n",
       "    </tr>\n",
       "    <tr>\n",
       "      <th>1887</th>\n",
       "      <td>0.0</td>\n",
       "      <td>1.0</td>\n",
       "      <td>4.0</td>\n",
       "      <td>0.91093</td>\n",
       "      <td>-1.92173</td>\n",
       "      <td>0.29338</td>\n",
       "      <td>-1.62090</td>\n",
       "      <td>-2.57309</td>\n",
       "      <td>1.29221</td>\n",
       "      <td>1.22470</td>\n",
       "      <td>9.0</td>\n",
       "      <td>4.0</td>\n",
       "      <td>5.0</td>\n",
       "    </tr>\n",
       "    <tr>\n",
       "      <th>1888</th>\n",
       "      <td>0.0</td>\n",
       "      <td>0.0</td>\n",
       "      <td>4.0</td>\n",
       "      <td>-0.46725</td>\n",
       "      <td>2.12700</td>\n",
       "      <td>1.65653</td>\n",
       "      <td>1.11406</td>\n",
       "      <td>0.41594</td>\n",
       "      <td>0.88113</td>\n",
       "      <td>1.22470</td>\n",
       "      <td>13.0</td>\n",
       "      <td>4.0</td>\n",
       "      <td>8.0</td>\n",
       "    </tr>\n",
       "  </tbody>\n",
       "</table>\n",
       "<p>1885 rows × 13 columns</p>\n",
       "</div>"
      ],
      "text/plain": [
       "      Age  Gender  Education   Nscore   Escore   Oscore   Ascore   Cscore  \\\n",
       "ID                                                                          \n",
       "1     2.0     1.0        5.0  0.31287 -0.57545 -0.58331 -0.91699 -0.00665   \n",
       "2     1.0     0.0        8.0 -0.67825  1.93886  1.43533  0.76096 -0.14277   \n",
       "3     2.0     0.0        5.0 -0.46725  0.80523 -0.84732 -1.62090 -1.01450   \n",
       "4     0.0     1.0        7.0 -0.14882 -0.80615 -0.01928  0.59042  0.58489   \n",
       "5     2.0     1.0        8.0  0.73545 -1.63340 -0.45174 -0.30172  1.30612   \n",
       "...   ...     ...        ...      ...      ...      ...      ...      ...   \n",
       "1884  0.0     1.0        4.0 -1.19430  1.74091  1.88511  0.76096 -1.13788   \n",
       "1885  0.0     0.0        4.0 -0.24649  1.74091  0.58331  0.76096 -1.51840   \n",
       "1886  1.0     1.0        6.0  1.13281 -1.37639 -1.27553 -1.77200 -1.38502   \n",
       "1887  0.0     1.0        4.0  0.91093 -1.92173  0.29338 -1.62090 -2.57309   \n",
       "1888  0.0     0.0        4.0 -0.46725  2.12700  1.65653  1.11406  0.41594   \n",
       "\n",
       "      Impulsive       SS  Drugs Tested  Legal Drugs  Illegal Drugs  \n",
       "ID                                                                  \n",
       "1      -0.21712 -1.18084           6.0          4.0            2.0  \n",
       "2      -0.71126 -0.21575          12.0          4.0            8.0  \n",
       "3      -1.37983  0.40148           5.0          3.0            2.0  \n",
       "4      -1.37983 -1.18084           8.0          4.0            4.0  \n",
       "5      -0.21712 -0.21575          10.0          4.0            6.0  \n",
       "...         ...      ...           ...          ...            ...  \n",
       "1884    0.88113  1.92173           7.0          3.0            3.0  \n",
       "1885    0.88113  0.76540          10.0          4.0            6.0  \n",
       "1886    0.52975 -0.52593          13.0          4.0            9.0  \n",
       "1887    1.29221  1.22470           9.0          4.0            5.0  \n",
       "1888    0.88113  1.22470          13.0          4.0            8.0  \n",
       "\n",
       "[1885 rows x 13 columns]"
      ]
     },
     "execution_count": 40,
     "metadata": {},
     "output_type": "execute_result"
    }
   ],
   "source": [
    "df_ml_without_drugs = df_ml.drop(drug_names, axis=1)\n",
    "df_ml_without_drugs"
   ]
  },
  {
   "cell_type": "code",
   "execution_count": 41,
   "metadata": {
    "id": "AEsrGGlM4hG6"
   },
   "outputs": [],
   "source": [
    "df_ml_without_drugs.to_csv('pda_api/kNN.csv')"
   ]
  },
  {
   "cell_type": "markdown",
   "metadata": {
    "id": "DvnItP0H4Hhf"
   },
   "source": [
    "### Making the test and train sets"
   ]
  },
  {
   "cell_type": "code",
   "execution_count": 42,
   "metadata": {
    "colab": {
     "base_uri": "https://localhost:8080/",
     "height": 455
    },
    "id": "GQL0fErpEeAp",
    "outputId": "1dc8dcec-7216-4019-85b6-0a084d0a6692"
   },
   "outputs": [
    {
     "data": {
      "text/html": [
       "<div>\n",
       "<style scoped>\n",
       "    .dataframe tbody tr th:only-of-type {\n",
       "        vertical-align: middle;\n",
       "    }\n",
       "\n",
       "    .dataframe tbody tr th {\n",
       "        vertical-align: top;\n",
       "    }\n",
       "\n",
       "    .dataframe thead th {\n",
       "        text-align: right;\n",
       "    }\n",
       "</style>\n",
       "<table border=\"1\" class=\"dataframe\">\n",
       "  <thead>\n",
       "    <tr style=\"text-align: right;\">\n",
       "      <th></th>\n",
       "      <th>Age</th>\n",
       "      <th>Gender</th>\n",
       "      <th>Education</th>\n",
       "      <th>Nscore</th>\n",
       "      <th>Escore</th>\n",
       "      <th>Oscore</th>\n",
       "      <th>Ascore</th>\n",
       "      <th>Cscore</th>\n",
       "      <th>Impulsive</th>\n",
       "      <th>SS</th>\n",
       "      <th>Drugs Tested</th>\n",
       "      <th>Legal Drugs</th>\n",
       "      <th>Illegal Drugs</th>\n",
       "    </tr>\n",
       "    <tr>\n",
       "      <th>ID</th>\n",
       "      <th></th>\n",
       "      <th></th>\n",
       "      <th></th>\n",
       "      <th></th>\n",
       "      <th></th>\n",
       "      <th></th>\n",
       "      <th></th>\n",
       "      <th></th>\n",
       "      <th></th>\n",
       "      <th></th>\n",
       "      <th></th>\n",
       "      <th></th>\n",
       "      <th></th>\n",
       "    </tr>\n",
       "  </thead>\n",
       "  <tbody>\n",
       "    <tr>\n",
       "      <th>1</th>\n",
       "      <td>2.0</td>\n",
       "      <td>1.0</td>\n",
       "      <td>5.0</td>\n",
       "      <td>0.31287</td>\n",
       "      <td>-0.57545</td>\n",
       "      <td>-0.58331</td>\n",
       "      <td>-0.91699</td>\n",
       "      <td>-0.00665</td>\n",
       "      <td>-0.21712</td>\n",
       "      <td>-1.18084</td>\n",
       "      <td>6.0</td>\n",
       "      <td>4.0</td>\n",
       "      <td>2.0</td>\n",
       "    </tr>\n",
       "    <tr>\n",
       "      <th>2</th>\n",
       "      <td>1.0</td>\n",
       "      <td>0.0</td>\n",
       "      <td>8.0</td>\n",
       "      <td>-0.67825</td>\n",
       "      <td>1.93886</td>\n",
       "      <td>1.43533</td>\n",
       "      <td>0.76096</td>\n",
       "      <td>-0.14277</td>\n",
       "      <td>-0.71126</td>\n",
       "      <td>-0.21575</td>\n",
       "      <td>12.0</td>\n",
       "      <td>4.0</td>\n",
       "      <td>8.0</td>\n",
       "    </tr>\n",
       "    <tr>\n",
       "      <th>3</th>\n",
       "      <td>2.0</td>\n",
       "      <td>0.0</td>\n",
       "      <td>5.0</td>\n",
       "      <td>-0.46725</td>\n",
       "      <td>0.80523</td>\n",
       "      <td>-0.84732</td>\n",
       "      <td>-1.62090</td>\n",
       "      <td>-1.01450</td>\n",
       "      <td>-1.37983</td>\n",
       "      <td>0.40148</td>\n",
       "      <td>5.0</td>\n",
       "      <td>3.0</td>\n",
       "      <td>2.0</td>\n",
       "    </tr>\n",
       "    <tr>\n",
       "      <th>4</th>\n",
       "      <td>0.0</td>\n",
       "      <td>1.0</td>\n",
       "      <td>7.0</td>\n",
       "      <td>-0.14882</td>\n",
       "      <td>-0.80615</td>\n",
       "      <td>-0.01928</td>\n",
       "      <td>0.59042</td>\n",
       "      <td>0.58489</td>\n",
       "      <td>-1.37983</td>\n",
       "      <td>-1.18084</td>\n",
       "      <td>8.0</td>\n",
       "      <td>4.0</td>\n",
       "      <td>4.0</td>\n",
       "    </tr>\n",
       "    <tr>\n",
       "      <th>5</th>\n",
       "      <td>2.0</td>\n",
       "      <td>1.0</td>\n",
       "      <td>8.0</td>\n",
       "      <td>0.73545</td>\n",
       "      <td>-1.63340</td>\n",
       "      <td>-0.45174</td>\n",
       "      <td>-0.30172</td>\n",
       "      <td>1.30612</td>\n",
       "      <td>-0.21712</td>\n",
       "      <td>-0.21575</td>\n",
       "      <td>10.0</td>\n",
       "      <td>4.0</td>\n",
       "      <td>6.0</td>\n",
       "    </tr>\n",
       "    <tr>\n",
       "      <th>...</th>\n",
       "      <td>...</td>\n",
       "      <td>...</td>\n",
       "      <td>...</td>\n",
       "      <td>...</td>\n",
       "      <td>...</td>\n",
       "      <td>...</td>\n",
       "      <td>...</td>\n",
       "      <td>...</td>\n",
       "      <td>...</td>\n",
       "      <td>...</td>\n",
       "      <td>...</td>\n",
       "      <td>...</td>\n",
       "      <td>...</td>\n",
       "    </tr>\n",
       "    <tr>\n",
       "      <th>1884</th>\n",
       "      <td>0.0</td>\n",
       "      <td>1.0</td>\n",
       "      <td>4.0</td>\n",
       "      <td>-1.19430</td>\n",
       "      <td>1.74091</td>\n",
       "      <td>1.88511</td>\n",
       "      <td>0.76096</td>\n",
       "      <td>-1.13788</td>\n",
       "      <td>0.88113</td>\n",
       "      <td>1.92173</td>\n",
       "      <td>7.0</td>\n",
       "      <td>3.0</td>\n",
       "      <td>3.0</td>\n",
       "    </tr>\n",
       "    <tr>\n",
       "      <th>1885</th>\n",
       "      <td>0.0</td>\n",
       "      <td>0.0</td>\n",
       "      <td>4.0</td>\n",
       "      <td>-0.24649</td>\n",
       "      <td>1.74091</td>\n",
       "      <td>0.58331</td>\n",
       "      <td>0.76096</td>\n",
       "      <td>-1.51840</td>\n",
       "      <td>0.88113</td>\n",
       "      <td>0.76540</td>\n",
       "      <td>10.0</td>\n",
       "      <td>4.0</td>\n",
       "      <td>6.0</td>\n",
       "    </tr>\n",
       "    <tr>\n",
       "      <th>1886</th>\n",
       "      <td>1.0</td>\n",
       "      <td>1.0</td>\n",
       "      <td>6.0</td>\n",
       "      <td>1.13281</td>\n",
       "      <td>-1.37639</td>\n",
       "      <td>-1.27553</td>\n",
       "      <td>-1.77200</td>\n",
       "      <td>-1.38502</td>\n",
       "      <td>0.52975</td>\n",
       "      <td>-0.52593</td>\n",
       "      <td>13.0</td>\n",
       "      <td>4.0</td>\n",
       "      <td>9.0</td>\n",
       "    </tr>\n",
       "    <tr>\n",
       "      <th>1887</th>\n",
       "      <td>0.0</td>\n",
       "      <td>1.0</td>\n",
       "      <td>4.0</td>\n",
       "      <td>0.91093</td>\n",
       "      <td>-1.92173</td>\n",
       "      <td>0.29338</td>\n",
       "      <td>-1.62090</td>\n",
       "      <td>-2.57309</td>\n",
       "      <td>1.29221</td>\n",
       "      <td>1.22470</td>\n",
       "      <td>9.0</td>\n",
       "      <td>4.0</td>\n",
       "      <td>5.0</td>\n",
       "    </tr>\n",
       "    <tr>\n",
       "      <th>1888</th>\n",
       "      <td>0.0</td>\n",
       "      <td>0.0</td>\n",
       "      <td>4.0</td>\n",
       "      <td>-0.46725</td>\n",
       "      <td>2.12700</td>\n",
       "      <td>1.65653</td>\n",
       "      <td>1.11406</td>\n",
       "      <td>0.41594</td>\n",
       "      <td>0.88113</td>\n",
       "      <td>1.22470</td>\n",
       "      <td>13.0</td>\n",
       "      <td>4.0</td>\n",
       "      <td>8.0</td>\n",
       "    </tr>\n",
       "  </tbody>\n",
       "</table>\n",
       "<p>1885 rows × 13 columns</p>\n",
       "</div>"
      ],
      "text/plain": [
       "      Age  Gender  Education   Nscore   Escore   Oscore   Ascore   Cscore  \\\n",
       "ID                                                                          \n",
       "1     2.0     1.0        5.0  0.31287 -0.57545 -0.58331 -0.91699 -0.00665   \n",
       "2     1.0     0.0        8.0 -0.67825  1.93886  1.43533  0.76096 -0.14277   \n",
       "3     2.0     0.0        5.0 -0.46725  0.80523 -0.84732 -1.62090 -1.01450   \n",
       "4     0.0     1.0        7.0 -0.14882 -0.80615 -0.01928  0.59042  0.58489   \n",
       "5     2.0     1.0        8.0  0.73545 -1.63340 -0.45174 -0.30172  1.30612   \n",
       "...   ...     ...        ...      ...      ...      ...      ...      ...   \n",
       "1884  0.0     1.0        4.0 -1.19430  1.74091  1.88511  0.76096 -1.13788   \n",
       "1885  0.0     0.0        4.0 -0.24649  1.74091  0.58331  0.76096 -1.51840   \n",
       "1886  1.0     1.0        6.0  1.13281 -1.37639 -1.27553 -1.77200 -1.38502   \n",
       "1887  0.0     1.0        4.0  0.91093 -1.92173  0.29338 -1.62090 -2.57309   \n",
       "1888  0.0     0.0        4.0 -0.46725  2.12700  1.65653  1.11406  0.41594   \n",
       "\n",
       "      Impulsive       SS  Drugs Tested  Legal Drugs  Illegal Drugs  \n",
       "ID                                                                  \n",
       "1      -0.21712 -1.18084           6.0          4.0            2.0  \n",
       "2      -0.71126 -0.21575          12.0          4.0            8.0  \n",
       "3      -1.37983  0.40148           5.0          3.0            2.0  \n",
       "4      -1.37983 -1.18084           8.0          4.0            4.0  \n",
       "5      -0.21712 -0.21575          10.0          4.0            6.0  \n",
       "...         ...      ...           ...          ...            ...  \n",
       "1884    0.88113  1.92173           7.0          3.0            3.0  \n",
       "1885    0.88113  0.76540          10.0          4.0            6.0  \n",
       "1886    0.52975 -0.52593          13.0          4.0            9.0  \n",
       "1887    1.29221  1.22470           9.0          4.0            5.0  \n",
       "1888    0.88113  1.22470          13.0          4.0            8.0  \n",
       "\n",
       "[1885 rows x 13 columns]"
      ]
     },
     "execution_count": 42,
     "metadata": {},
     "output_type": "execute_result"
    }
   ],
   "source": [
    "df_ml_without_drugs"
   ]
  },
  {
   "cell_type": "code",
   "execution_count": 43,
   "metadata": {
    "id": "YzYmeF9sz080"
   },
   "outputs": [],
   "source": [
    "x = df_ml_without_drugs.drop(['Drugs Tested','Legal Drugs','Illegal Drugs'], axis=1)\n",
    "y = df_ml_without_drugs['Illegal Drugs']"
   ]
  },
  {
   "cell_type": "code",
   "execution_count": 44,
   "metadata": {
    "id": "qQOtOD8R3hpg"
   },
   "outputs": [],
   "source": [
    "x_train, x_test, y_train, y_test = train_test_split(x,y, random_state=0)"
   ]
  },
  {
   "cell_type": "markdown",
   "metadata": {
    "id": "y0-PhLRz4OBX"
   },
   "source": [
    "### kNN predicting number"
   ]
  },
  {
   "cell_type": "markdown",
   "metadata": {
    "id": "zlK8xdEGpyH6"
   },
   "source": [
    "We are going to use the Knn algotithm for our model. The K-nearest neighbors (KNN) algorithm is a supervised machine learning algorithm that classifies a new data point based on the majority class of its K nearest neighbors in the feature space."
   ]
  },
  {
   "cell_type": "code",
   "execution_count": 45,
   "metadata": {
    "id": "ow23nrA24R5k"
   },
   "outputs": [],
   "source": [
    "model = KNeighborsRegressor(n_neighbors=5)"
   ]
  },
  {
   "cell_type": "code",
   "execution_count": 46,
   "metadata": {
    "colab": {
     "base_uri": "https://localhost:8080/",
     "height": 75
    },
    "id": "n05hhUKe5Exy",
    "outputId": "13a180c4-01cc-46f1-a576-afa145b68c37"
   },
   "outputs": [
    {
     "data": {
      "text/html": [
       "<style>#sk-container-id-3 {color: black;}#sk-container-id-3 pre{padding: 0;}#sk-container-id-3 div.sk-toggleable {background-color: white;}#sk-container-id-3 label.sk-toggleable__label {cursor: pointer;display: block;width: 100%;margin-bottom: 0;padding: 0.3em;box-sizing: border-box;text-align: center;}#sk-container-id-3 label.sk-toggleable__label-arrow:before {content: \"▸\";float: left;margin-right: 0.25em;color: #696969;}#sk-container-id-3 label.sk-toggleable__label-arrow:hover:before {color: black;}#sk-container-id-3 div.sk-estimator:hover label.sk-toggleable__label-arrow:before {color: black;}#sk-container-id-3 div.sk-toggleable__content {max-height: 0;max-width: 0;overflow: hidden;text-align: left;background-color: #f0f8ff;}#sk-container-id-3 div.sk-toggleable__content pre {margin: 0.2em;color: black;border-radius: 0.25em;background-color: #f0f8ff;}#sk-container-id-3 input.sk-toggleable__control:checked~div.sk-toggleable__content {max-height: 200px;max-width: 100%;overflow: auto;}#sk-container-id-3 input.sk-toggleable__control:checked~label.sk-toggleable__label-arrow:before {content: \"▾\";}#sk-container-id-3 div.sk-estimator input.sk-toggleable__control:checked~label.sk-toggleable__label {background-color: #d4ebff;}#sk-container-id-3 div.sk-label input.sk-toggleable__control:checked~label.sk-toggleable__label {background-color: #d4ebff;}#sk-container-id-3 input.sk-hidden--visually {border: 0;clip: rect(1px 1px 1px 1px);clip: rect(1px, 1px, 1px, 1px);height: 1px;margin: -1px;overflow: hidden;padding: 0;position: absolute;width: 1px;}#sk-container-id-3 div.sk-estimator {font-family: monospace;background-color: #f0f8ff;border: 1px dotted black;border-radius: 0.25em;box-sizing: border-box;margin-bottom: 0.5em;}#sk-container-id-3 div.sk-estimator:hover {background-color: #d4ebff;}#sk-container-id-3 div.sk-parallel-item::after {content: \"\";width: 100%;border-bottom: 1px solid gray;flex-grow: 1;}#sk-container-id-3 div.sk-label:hover label.sk-toggleable__label {background-color: #d4ebff;}#sk-container-id-3 div.sk-serial::before {content: \"\";position: absolute;border-left: 1px solid gray;box-sizing: border-box;top: 0;bottom: 0;left: 50%;z-index: 0;}#sk-container-id-3 div.sk-serial {display: flex;flex-direction: column;align-items: center;background-color: white;padding-right: 0.2em;padding-left: 0.2em;position: relative;}#sk-container-id-3 div.sk-item {position: relative;z-index: 1;}#sk-container-id-3 div.sk-parallel {display: flex;align-items: stretch;justify-content: center;background-color: white;position: relative;}#sk-container-id-3 div.sk-item::before, #sk-container-id-3 div.sk-parallel-item::before {content: \"\";position: absolute;border-left: 1px solid gray;box-sizing: border-box;top: 0;bottom: 0;left: 50%;z-index: -1;}#sk-container-id-3 div.sk-parallel-item {display: flex;flex-direction: column;z-index: 1;position: relative;background-color: white;}#sk-container-id-3 div.sk-parallel-item:first-child::after {align-self: flex-end;width: 50%;}#sk-container-id-3 div.sk-parallel-item:last-child::after {align-self: flex-start;width: 50%;}#sk-container-id-3 div.sk-parallel-item:only-child::after {width: 0;}#sk-container-id-3 div.sk-dashed-wrapped {border: 1px dashed gray;margin: 0 0.4em 0.5em 0.4em;box-sizing: border-box;padding-bottom: 0.4em;background-color: white;}#sk-container-id-3 div.sk-label label {font-family: monospace;font-weight: bold;display: inline-block;line-height: 1.2em;}#sk-container-id-3 div.sk-label-container {text-align: center;}#sk-container-id-3 div.sk-container {/* jupyter's `normalize.less` sets `[hidden] { display: none; }` but bootstrap.min.css set `[hidden] { display: none !important; }` so we also need the `!important` here to be able to override the default hidden behavior on the sphinx rendered scikit-learn.org. See: https://github.com/scikit-learn/scikit-learn/issues/21755 */display: inline-block !important;position: relative;}#sk-container-id-3 div.sk-text-repr-fallback {display: none;}</style><div id=\"sk-container-id-3\" class=\"sk-top-container\"><div class=\"sk-text-repr-fallback\"><pre>KNeighborsRegressor()</pre><b>In a Jupyter environment, please rerun this cell to show the HTML representation or trust the notebook. <br />On GitHub, the HTML representation is unable to render, please try loading this page with nbviewer.org.</b></div><div class=\"sk-container\" hidden><div class=\"sk-item\"><div class=\"sk-estimator sk-toggleable\"><input class=\"sk-toggleable__control sk-hidden--visually\" id=\"sk-estimator-id-3\" type=\"checkbox\" checked><label for=\"sk-estimator-id-3\" class=\"sk-toggleable__label sk-toggleable__label-arrow\">KNeighborsRegressor</label><div class=\"sk-toggleable__content\"><pre>KNeighborsRegressor()</pre></div></div></div></div></div>"
      ],
      "text/plain": [
       "KNeighborsRegressor()"
      ]
     },
     "execution_count": 46,
     "metadata": {},
     "output_type": "execute_result"
    }
   ],
   "source": [
    "model.fit(x_train, y_train)"
   ]
  },
  {
   "cell_type": "code",
   "execution_count": 47,
   "metadata": {
    "id": "8ML21luq5JUp"
   },
   "outputs": [],
   "source": [
    "pred = model.predict(x_test)"
   ]
  },
  {
   "cell_type": "code",
   "execution_count": 48,
   "metadata": {
    "colab": {
     "base_uri": "https://localhost:8080/"
    },
    "id": "aPBdPP2q5S47",
    "outputId": "82005086-f625-4e25-f276-d62aa3dafcf6"
   },
   "outputs": [
    {
     "data": {
      "text/plain": [
       "11.69406779661017"
      ]
     },
     "execution_count": 48,
     "metadata": {},
     "output_type": "execute_result"
    }
   ],
   "source": [
    "mean_squared_error(pred, y_test)"
   ]
  },
  {
   "cell_type": "markdown",
   "metadata": {
    "id": "kDnifXlU5zwl"
   },
   "source": [
    "We try to select the best value for k"
   ]
  },
  {
   "cell_type": "code",
   "execution_count": 49,
   "metadata": {
    "id": "cmzG_a1IKUi6"
   },
   "outputs": [],
   "source": [
    "params = {'weights':['uniform','distance'],'n_neighbors':[50,100,150]}"
   ]
  },
  {
   "cell_type": "markdown",
   "metadata": {},
   "source": [
    "WARNING : The sklearn_evaluation package has a compatibility bug that makes it read deprecated keys of the cv_results_ dict. To solve it you need to go into the source code of the package at the specified file in the error and change the \n",
    "- ```cv_results_[\"std_test_score\"] and cv_results_[\"mean_test_score\"]```  \n",
    "to  \n",
    "- ```cv_results_[\"std_test_r2\"] and cv_results_[\"mean_test_r2\"]```"
   ]
  },
  {
   "cell_type": "code",
   "execution_count": 50,
   "metadata": {},
   "outputs": [],
   "source": [
    "from sklearn_evaluation import plot as plt_eval\n",
    "\n",
    "def grid_search_report(model, params, change, figsize=(10,10), scoring=None):\n",
    "    if not scoring:\n",
    "        scoring = ['r2']\n",
    "        \n",
    "    grid_search = GridSearchCV(model, params, scoring=scoring, refit=scoring[0], n_jobs=-1, return_train_score=True)\n",
    "    grid_search.fit(x_train,y_train)\n",
    "    print(grid_search.best_params_)\n",
    "    \n",
    "    fig, ax = plt.subplots(figsize=figsize)\n",
    "    plt_eval.grid_search(grid_search.cv_results_, change=change,ax=ax)\n",
    "    plt.show()"
   ]
  },
  {
   "cell_type": "code",
   "execution_count": 51,
   "metadata": {},
   "outputs": [
    {
     "name": "stdout",
     "output_type": "stream",
     "text": [
      "{'n_neighbors': 50, 'weights': 'distance'}\n"
     ]
    },
    {
     "data": {
      "image/png": "[encoded data removed]",
      "text/plain": [
       "<Figure size 1000x1000 with 2 Axes>"
      ]
     },
     "metadata": {},
     "output_type": "display_data"
    }
   ],
   "source": [
    "grid_search_report(model, params, params.keys())"
   ]
  },
  {
   "cell_type": "code",
   "execution_count": 129,
   "metadata": {},
   "outputs": [
    {
     "data": {
      "text/plain": [
       "11.725169413343941"
      ]
     },
     "execution_count": 129,
     "metadata": {},
     "output_type": "execute_result"
    }
   ],
   "source": [
    "model = KNeighborsRegressor(n_neighbors=5, weights='distance')\n",
    "model.fit(x_train, y_train)\n",
    "pred = model.predict(x_test)\n",
    "mean_squared_error(y_test, pred)"
   ]
  },
  {
   "cell_type": "markdown",
   "metadata": {
    "id": "uwCS5tW_9_l-"
   },
   "source": [
    "### Gaussian naive Bayes"
   ]
  },
  {
   "cell_type": "markdown",
   "metadata": {
    "id": "btTbK2yy-Ncd"
   },
   "source": [
    "We can suppose the personnality of people follow a gaussian distribution, like IQ or height. Let's try to build better models with gaussian naive Bayes models."
   ]
  },
  {
   "cell_type": "code",
   "execution_count": 103,
   "metadata": {
    "id": "qw1041ek-YQU"
   },
   "outputs": [],
   "source": [
    "model = GaussianNB()"
   ]
  },
  {
   "cell_type": "code",
   "execution_count": 104,
   "metadata": {
    "colab": {
     "base_uri": "https://localhost:8080/",
     "height": 75
    },
    "id": "kP2y4TwC-MVt",
    "outputId": "e06c8582-a9e1-414b-b992-f2b3e01c7ce0"
   },
   "outputs": [
    {
     "data": {
      "text/html": [
       "<style>#sk-container-id-4 {color: black;}#sk-container-id-4 pre{padding: 0;}#sk-container-id-4 div.sk-toggleable {background-color: white;}#sk-container-id-4 label.sk-toggleable__label {cursor: pointer;display: block;width: 100%;margin-bottom: 0;padding: 0.3em;box-sizing: border-box;text-align: center;}#sk-container-id-4 label.sk-toggleable__label-arrow:before {content: \"▸\";float: left;margin-right: 0.25em;color: #696969;}#sk-container-id-4 label.sk-toggleable__label-arrow:hover:before {color: black;}#sk-container-id-4 div.sk-estimator:hover label.sk-toggleable__label-arrow:before {color: black;}#sk-container-id-4 div.sk-toggleable__content {max-height: 0;max-width: 0;overflow: hidden;text-align: left;background-color: #f0f8ff;}#sk-container-id-4 div.sk-toggleable__content pre {margin: 0.2em;color: black;border-radius: 0.25em;background-color: #f0f8ff;}#sk-container-id-4 input.sk-toggleable__control:checked~div.sk-toggleable__content {max-height: 200px;max-width: 100%;overflow: auto;}#sk-container-id-4 input.sk-toggleable__control:checked~label.sk-toggleable__label-arrow:before {content: \"▾\";}#sk-container-id-4 div.sk-estimator input.sk-toggleable__control:checked~label.sk-toggleable__label {background-color: #d4ebff;}#sk-container-id-4 div.sk-label input.sk-toggleable__control:checked~label.sk-toggleable__label {background-color: #d4ebff;}#sk-container-id-4 input.sk-hidden--visually {border: 0;clip: rect(1px 1px 1px 1px);clip: rect(1px, 1px, 1px, 1px);height: 1px;margin: -1px;overflow: hidden;padding: 0;position: absolute;width: 1px;}#sk-container-id-4 div.sk-estimator {font-family: monospace;background-color: #f0f8ff;border: 1px dotted black;border-radius: 0.25em;box-sizing: border-box;margin-bottom: 0.5em;}#sk-container-id-4 div.sk-estimator:hover {background-color: #d4ebff;}#sk-container-id-4 div.sk-parallel-item::after {content: \"\";width: 100%;border-bottom: 1px solid gray;flex-grow: 1;}#sk-container-id-4 div.sk-label:hover label.sk-toggleable__label {background-color: #d4ebff;}#sk-container-id-4 div.sk-serial::before {content: \"\";position: absolute;border-left: 1px solid gray;box-sizing: border-box;top: 0;bottom: 0;left: 50%;z-index: 0;}#sk-container-id-4 div.sk-serial {display: flex;flex-direction: column;align-items: center;background-color: white;padding-right: 0.2em;padding-left: 0.2em;position: relative;}#sk-container-id-4 div.sk-item {position: relative;z-index: 1;}#sk-container-id-4 div.sk-parallel {display: flex;align-items: stretch;justify-content: center;background-color: white;position: relative;}#sk-container-id-4 div.sk-item::before, #sk-container-id-4 div.sk-parallel-item::before {content: \"\";position: absolute;border-left: 1px solid gray;box-sizing: border-box;top: 0;bottom: 0;left: 50%;z-index: -1;}#sk-container-id-4 div.sk-parallel-item {display: flex;flex-direction: column;z-index: 1;position: relative;background-color: white;}#sk-container-id-4 div.sk-parallel-item:first-child::after {align-self: flex-end;width: 50%;}#sk-container-id-4 div.sk-parallel-item:last-child::after {align-self: flex-start;width: 50%;}#sk-container-id-4 div.sk-parallel-item:only-child::after {width: 0;}#sk-container-id-4 div.sk-dashed-wrapped {border: 1px dashed gray;margin: 0 0.4em 0.5em 0.4em;box-sizing: border-box;padding-bottom: 0.4em;background-color: white;}#sk-container-id-4 div.sk-label label {font-family: monospace;font-weight: bold;display: inline-block;line-height: 1.2em;}#sk-container-id-4 div.sk-label-container {text-align: center;}#sk-container-id-4 div.sk-container {/* jupyter's `normalize.less` sets `[hidden] { display: none; }` but bootstrap.min.css set `[hidden] { display: none !important; }` so we also need the `!important` here to be able to override the default hidden behavior on the sphinx rendered scikit-learn.org. See: https://github.com/scikit-learn/scikit-learn/issues/21755 */display: inline-block !important;position: relative;}#sk-container-id-4 div.sk-text-repr-fallback {display: none;}</style><div id=\"sk-container-id-4\" class=\"sk-top-container\"><div class=\"sk-text-repr-fallback\"><pre>GaussianNB()</pre><b>In a Jupyter environment, please rerun this cell to show the HTML representation or trust the notebook. <br />On GitHub, the HTML representation is unable to render, please try loading this page with nbviewer.org.</b></div><div class=\"sk-container\" hidden><div class=\"sk-item\"><div class=\"sk-estimator sk-toggleable\"><input class=\"sk-toggleable__control sk-hidden--visually\" id=\"sk-estimator-id-4\" type=\"checkbox\" checked><label for=\"sk-estimator-id-4\" class=\"sk-toggleable__label sk-toggleable__label-arrow\">GaussianNB</label><div class=\"sk-toggleable__content\"><pre>GaussianNB()</pre></div></div></div></div></div>"
      ],
      "text/plain": [
       "GaussianNB()"
      ]
     },
     "execution_count": 104,
     "metadata": {},
     "output_type": "execute_result"
    }
   ],
   "source": [
    "model.fit(x_train, y_train)"
   ]
  },
  {
   "cell_type": "code",
   "execution_count": 105,
   "metadata": {
    "id": "cMfuR8YM99kT"
   },
   "outputs": [],
   "source": [
    "pred = model.predict(x_test)"
   ]
  },
  {
   "cell_type": "code",
   "execution_count": 106,
   "metadata": {
    "colab": {
     "base_uri": "https://localhost:8080/"
    },
    "id": "FWQ4ZEAF_PyW",
    "outputId": "81a06856-1788-4355-8725-8815d0311780"
   },
   "outputs": [
    {
     "data": {
      "text/plain": [
       "18.61228813559322"
      ]
     },
     "execution_count": 106,
     "metadata": {},
     "output_type": "execute_result"
    }
   ],
   "source": [
    "mean_squared_error(y_test, pred)"
   ]
  },
  {
   "cell_type": "markdown",
   "metadata": {
    "id": "jbRnA3p4_c6w"
   },
   "source": [
    "Poor performance of the gaussian naive Bayes model, compared to kNN"
   ]
  },
  {
   "cell_type": "markdown",
   "metadata": {
    "id": "OsbK20cxBWjU"
   },
   "source": [
    "### Random forests"
   ]
  },
  {
   "cell_type": "code",
   "execution_count": 107,
   "metadata": {
    "colab": {
     "base_uri": "https://localhost:8080/"
    },
    "id": "RuRXIwmnBYW4",
    "outputId": "3be151f8-064e-4d7f-c4db-db40a9a83ced"
   },
   "outputs": [
    {
     "data": {
      "text/plain": [
       "10.090613347457628"
      ]
     },
     "execution_count": 107,
     "metadata": {},
     "output_type": "execute_result"
    }
   ],
   "source": [
    "model = RandomForestRegressor(random_state=0)\n",
    "model.fit(x_train, y_train)\n",
    "pred = model.predict(x_test)\n",
    "mean_squared_error(y_test, pred)"
   ]
  },
  {
   "cell_type": "markdown",
   "metadata": {
    "id": "QP86d8QGDbgz"
   },
   "source": [
    "Now we'll search for the best value of the estimators of the ensemble of the decision trees in the random forest. This can take a few minutes."
   ]
  },
  {
   "cell_type": "markdown",
   "metadata": {
    "id": "WBnGXhebDn9w"
   },
   "source": [
    "Because of the random nature of the random forest regressor the model's error never really stabilizes but on average it stops decreasing at around 60, which is near the optimal value"
   ]
  },
  {
   "cell_type": "markdown",
   "metadata": {
    "id": "6Ds0kVrOEjUv"
   },
   "source": [
    "The random forest model seems to have nearly the same performance as the kNN one. What we could do the improve that difference and discard one of the two is through cross validation. But that also adds time to model selection phase. The main advantage of kNN is that it doesn't need training, in comparison to the random forest."
   ]
  },
  {
   "cell_type": "code",
   "execution_count": 108,
   "metadata": {},
   "outputs": [],
   "source": [
    "params = {\"criterion\":[\"squared_error\",\"absolute_error\",\"friedman_mse\",\"poisson\"], \"n_estimators\":[50,100,150]}"
   ]
  },
  {
   "cell_type": "code",
   "execution_count": 109,
   "metadata": {},
   "outputs": [
    {
     "name": "stdout",
     "output_type": "stream",
     "text": [
      "{'criterion': 'absolute_error', 'n_estimators': 150}\n"
     ]
    },
    {
     "data": {
      "image/png": "[encoded data removed]",
      "text/plain": [
       "<Figure size 700x700 with 2 Axes>"
      ]
     },
     "metadata": {},
     "output_type": "display_data"
    }
   ],
   "source": [
    "grid_search_report(model, params, change=('criterion','n_estimators'), figsize=(7,7))"
   ]
  },
  {
   "cell_type": "markdown",
   "metadata": {},
   "source": [
    "Seems like the best model is the one with 100 estimators (100 random forests) with the absolute error as a criterion"
   ]
  },
  {
   "cell_type": "code",
   "execution_count": 110,
   "metadata": {},
   "outputs": [
    {
     "data": {
      "text/plain": [
       "10.283036723163844"
      ]
     },
     "execution_count": 110,
     "metadata": {},
     "output_type": "execute_result"
    }
   ],
   "source": [
    "model = RandomForestRegressor(criterion='absolute_error', n_estimators=150, random_state=0)\n",
    "model.fit(x_train, y_train)\n",
    "pred = model.predict(x_test)\n",
    "mean_squared_error(y_test, pred)"
   ]
  },
  {
   "cell_type": "markdown",
   "metadata": {},
   "source": [
    "The random forest model has less MSE than kNN, but takes more time to train."
   ]
  },
  {
   "cell_type": "markdown",
   "metadata": {
    "id": "2HZg2-7FTUHF"
   },
   "source": [
    "## Deep learning (bonus)"
   ]
  },
  {
   "cell_type": "markdown",
   "metadata": {
    "id": "6D9mJKUjF0mr"
   },
   "source": [
    "Using the keras library from tensorflow we can build a deep learning model. For this kind of regression with (supposedly) unrelated data, we can simply use dense layers. If we had an image we would have used a convolutionnal layers and if we had time-related data we would have used a recurrent layers or LSTMs."
   ]
  },
  {
   "cell_type": "markdown",
   "metadata": {},
   "source": [
    "This is to disable tensorflow for using the GPU. If you are launching that notebook from your PATH you can comment out that cell."
   ]
  },
  {
   "cell_type": "code",
   "execution_count": 161,
   "metadata": {},
   "outputs": [],
   "source": [
    "import os \n",
    "os.environ['CUDA_VISIBLE_DEVICES'] = '-1'"
   ]
  },
  {
   "cell_type": "code",
   "execution_count": 162,
   "metadata": {
    "id": "voXe0_trXrB6"
   },
   "outputs": [],
   "source": [
    "from keras import Sequential, Model\n",
    "from keras.layers import Dense, Input"
   ]
  },
  {
   "cell_type": "code",
   "execution_count": 163,
   "metadata": {
    "id": "s4u8Vo2avLgS"
   },
   "outputs": [],
   "source": [
    "def create_dense_model(n_hidden_layers, n_inputs):\n",
    "  model = Sequential()\n",
    "  model.add(Input(n_inputs))\n",
    "  for _ in range(0,n_hidden_layers):\n",
    "    model.add(Dense(n_inputs, activation='relu'))\n",
    "\n",
    "  model.add(Dense(1, activation='relu'))\n",
    "  return model"
   ]
  },
  {
   "cell_type": "code",
   "execution_count": 164,
   "metadata": {
    "id": "wy17aakLg1mG"
   },
   "outputs": [],
   "source": [
    "n_inputs = len(x.columns)\n",
    "\n",
    "model = create_dense_model(3, n_inputs)"
   ]
  },
  {
   "cell_type": "code",
   "execution_count": 165,
   "metadata": {
    "id": "s3Ub2Iamiwb3"
   },
   "outputs": [],
   "source": [
    "model.compile(optimizer='adam', loss='mean_squared_error', metrics=['mean_absolute_error'])"
   ]
  },
  {
   "cell_type": "code",
   "execution_count": 166,
   "metadata": {
    "id": "8f0tHOnVirPJ"
   },
   "outputs": [
    {
     "name": "stdout",
     "output_type": "stream",
     "text": [
      "Epoch 1/10\n",
      "45/45 [==============================] - 1s 914us/step - loss: 40.6581 - mean_absolute_error: 5.0557\n",
      "Epoch 2/10\n",
      "45/45 [==============================] - 0s 1ms/step - loss: 38.5030 - mean_absolute_error: 4.9037\n",
      "Epoch 3/10\n",
      "45/45 [==============================] - 0s 990us/step - loss: 28.8050 - mean_absolute_error: 4.2374\n",
      "Epoch 4/10\n",
      "45/45 [==============================] - 0s 968us/step - loss: 17.3844 - mean_absolute_error: 3.5307\n",
      "Epoch 5/10\n",
      "45/45 [==============================] - 0s 964us/step - loss: 14.5074 - mean_absolute_error: 3.2530\n",
      "Epoch 6/10\n",
      "45/45 [==============================] - 0s 996us/step - loss: 13.4235 - mean_absolute_error: 3.0826\n",
      "Epoch 7/10\n",
      "45/45 [==============================] - 0s 997us/step - loss: 12.8382 - mean_absolute_error: 2.9841\n",
      "Epoch 8/10\n",
      "45/45 [==============================] - 0s 1ms/step - loss: 12.4341 - mean_absolute_error: 2.9130\n",
      "Epoch 9/10\n",
      "45/45 [==============================] - 0s 994us/step - loss: 12.1161 - mean_absolute_error: 2.8798\n",
      "Epoch 10/10\n",
      "45/45 [==============================] - 0s 978us/step - loss: 11.8660 - mean_absolute_error: 2.8496\n"
     ]
    }
   ],
   "source": [
    "history = model.fit(x_train, y_train, epochs=10)"
   ]
  },
  {
   "cell_type": "code",
   "execution_count": 167,
   "metadata": {
    "id": "mtnCmKgdjJT9"
   },
   "outputs": [
    {
     "data": {
      "image/png": "[encoded data removed]",
      "text/plain": [
       "<Figure size 640x480 with 1 Axes>"
      ]
     },
     "metadata": {},
     "output_type": "display_data"
    }
   ],
   "source": [
    "loss_hist = history.history['loss']\n",
    "mae_hist = history.history['mean_absolute_error']\n",
    "plt.plot(history.epoch, loss_hist, label='Loss')\n",
    "#plt.plot(history.epoch, mae_hist, label='MAE')\n",
    "plt.xlabel('Epoch')\n",
    "plt.ylabel('Loss')\n",
    "plt.title('Loss per epoch')\n",
    "plt.legend()\n",
    "plt.show()"
   ]
  },
  {
   "cell_type": "code",
   "execution_count": 168,
   "metadata": {
    "id": "eQ7at7lIsDOo"
   },
   "outputs": [
    {
     "name": "stdout",
     "output_type": "stream",
     "text": [
      "15/15 [==============================] - 0s 860us/step\n"
     ]
    }
   ],
   "source": [
    "pred = model.predict(x_test)"
   ]
  },
  {
   "cell_type": "code",
   "execution_count": 169,
   "metadata": {
    "id": "gVHNkpr_sUdf"
   },
   "outputs": [
    {
     "data": {
      "text/plain": [
       "(2.878561076723923, 12.231545665403281)"
      ]
     },
     "execution_count": 169,
     "metadata": {},
     "output_type": "execute_result"
    }
   ],
   "source": [
    "(mean_absolute_error(pred, y_test), mean_squared_error(pred, y_test))"
   ]
  },
  {
   "cell_type": "markdown",
   "metadata": {
    "id": "N3S7kjlEHAMk"
   },
   "source": [
    "We obtained a model with around the same performance as the previous machine learning models. We could improve this model and add more layers, but that would increase training time."
   ]
  },
  {
   "cell_type": "code",
   "execution_count": 170,
   "metadata": {
    "id": "e_DSf_CXG8nx"
   },
   "outputs": [],
   "source": [
    "model = create_dense_model(12, n_inputs)"
   ]
  },
  {
   "cell_type": "code",
   "execution_count": 171,
   "metadata": {
    "id": "VO5pd1EAHUpZ"
   },
   "outputs": [],
   "source": [
    "model.compile(optimizer='adam', loss='mean_squared_error', metrics=['mean_absolute_error'])"
   ]
  },
  {
   "cell_type": "code",
   "execution_count": 172,
   "metadata": {
    "id": "PrykEJb7HXY7",
    "scrolled": true
   },
   "outputs": [
    {
     "name": "stdout",
     "output_type": "stream",
     "text": [
      "Epoch 1/50\n",
      "45/45 [==============================] - 1s 1ms/step - loss: 33.7182 - mean_absolute_error: 4.5501\n",
      "Epoch 2/50\n",
      "45/45 [==============================] - 0s 1ms/step - loss: 13.9065 - mean_absolute_error: 3.1200\n",
      "Epoch 3/50\n",
      "45/45 [==============================] - 0s 1ms/step - loss: 12.5160 - mean_absolute_error: 2.9685\n",
      "Epoch 4/50\n",
      "45/45 [==============================] - 0s 2ms/step - loss: 12.1780 - mean_absolute_error: 2.9163\n",
      "Epoch 5/50\n",
      "45/45 [==============================] - 0s 2ms/step - loss: 11.7814 - mean_absolute_error: 2.8530\n",
      "Epoch 6/50\n",
      "45/45 [==============================] - 0s 1ms/step - loss: 11.5110 - mean_absolute_error: 2.8180\n",
      "Epoch 7/50\n",
      "45/45 [==============================] - 0s 2ms/step - loss: 11.2498 - mean_absolute_error: 2.7840\n",
      "Epoch 8/50\n",
      "45/45 [==============================] - 0s 2ms/step - loss: 11.1069 - mean_absolute_error: 2.7565\n",
      "Epoch 9/50\n",
      "45/45 [==============================] - 0s 1ms/step - loss: 10.8989 - mean_absolute_error: 2.7277\n",
      "Epoch 10/50\n",
      "45/45 [==============================] - 0s 1ms/step - loss: 10.7956 - mean_absolute_error: 2.7066\n",
      "Epoch 11/50\n",
      "45/45 [==============================] - 0s 1ms/step - loss: 10.5886 - mean_absolute_error: 2.6608\n",
      "Epoch 12/50\n",
      "45/45 [==============================] - 0s 1ms/step - loss: 10.5298 - mean_absolute_error: 2.6751\n",
      "Epoch 13/50\n",
      "45/45 [==============================] - 0s 1ms/step - loss: 10.4608 - mean_absolute_error: 2.6622\n",
      "Epoch 14/50\n",
      "45/45 [==============================] - 0s 1ms/step - loss: 10.4312 - mean_absolute_error: 2.6446\n",
      "Epoch 15/50\n",
      "45/45 [==============================] - 0s 1ms/step - loss: 10.3370 - mean_absolute_error: 2.6247\n",
      "Epoch 16/50\n",
      "45/45 [==============================] - 0s 1ms/step - loss: 10.2419 - mean_absolute_error: 2.6268\n",
      "Epoch 17/50\n",
      "45/45 [==============================] - 0s 1ms/step - loss: 10.1930 - mean_absolute_error: 2.6096\n",
      "Epoch 18/50\n",
      "45/45 [==============================] - 0s 1ms/step - loss: 10.0964 - mean_absolute_error: 2.5866\n",
      "Epoch 19/50\n",
      "45/45 [==============================] - 0s 1ms/step - loss: 10.0285 - mean_absolute_error: 2.6038\n",
      "Epoch 20/50\n",
      "45/45 [==============================] - 0s 1ms/step - loss: 9.9176 - mean_absolute_error: 2.5880\n",
      "Epoch 21/50\n",
      "45/45 [==============================] - 0s 1ms/step - loss: 10.0283 - mean_absolute_error: 2.5706\n",
      "Epoch 22/50\n",
      "45/45 [==============================] - 0s 1ms/step - loss: 9.8359 - mean_absolute_error: 2.5643\n",
      "Epoch 23/50\n",
      "45/45 [==============================] - 0s 2ms/step - loss: 9.7732 - mean_absolute_error: 2.5555\n",
      "Epoch 24/50\n",
      "45/45 [==============================] - 0s 1ms/step - loss: 9.8007 - mean_absolute_error: 2.5588\n",
      "Epoch 25/50\n",
      "45/45 [==============================] - 0s 1ms/step - loss: 9.6946 - mean_absolute_error: 2.5317\n",
      "Epoch 26/50\n",
      "45/45 [==============================] - 0s 1ms/step - loss: 9.8020 - mean_absolute_error: 2.5394\n",
      "Epoch 27/50\n",
      "45/45 [==============================] - 0s 1ms/step - loss: 9.6420 - mean_absolute_error: 2.5369\n",
      "Epoch 28/50\n",
      "45/45 [==============================] - 0s 1ms/step - loss: 9.5755 - mean_absolute_error: 2.5182\n",
      "Epoch 29/50\n",
      "45/45 [==============================] - 0s 1ms/step - loss: 9.5706 - mean_absolute_error: 2.5014\n",
      "Epoch 30/50\n",
      "45/45 [==============================] - 0s 1ms/step - loss: 9.5326 - mean_absolute_error: 2.5112\n",
      "Epoch 31/50\n",
      "45/45 [==============================] - 0s 1ms/step - loss: 9.5355 - mean_absolute_error: 2.5007\n",
      "Epoch 32/50\n",
      "45/45 [==============================] - 0s 1ms/step - loss: 9.4462 - mean_absolute_error: 2.4920\n",
      "Epoch 33/50\n",
      "45/45 [==============================] - 0s 1ms/step - loss: 9.4383 - mean_absolute_error: 2.4874\n",
      "Epoch 34/50\n",
      "45/45 [==============================] - 0s 2ms/step - loss: 9.3603 - mean_absolute_error: 2.4743\n",
      "Epoch 35/50\n",
      "45/45 [==============================] - 0s 1ms/step - loss: 9.3691 - mean_absolute_error: 2.4723\n",
      "Epoch 36/50\n",
      "45/45 [==============================] - 0s 1ms/step - loss: 9.3382 - mean_absolute_error: 2.4677\n",
      "Epoch 37/50\n",
      "45/45 [==============================] - 0s 1ms/step - loss: 9.2988 - mean_absolute_error: 2.4468\n",
      "Epoch 38/50\n",
      "45/45 [==============================] - 0s 2ms/step - loss: 9.2630 - mean_absolute_error: 2.4586\n",
      "Epoch 39/50\n",
      "45/45 [==============================] - 0s 1ms/step - loss: 9.1985 - mean_absolute_error: 2.4525\n",
      "Epoch 40/50\n",
      "45/45 [==============================] - 0s 2ms/step - loss: 9.1556 - mean_absolute_error: 2.4335\n",
      "Epoch 41/50\n",
      "45/45 [==============================] - 0s 1ms/step - loss: 9.1760 - mean_absolute_error: 2.4361\n",
      "Epoch 42/50\n",
      "45/45 [==============================] - 0s 2ms/step - loss: 9.2470 - mean_absolute_error: 2.4508\n",
      "Epoch 43/50\n",
      "45/45 [==============================] - 0s 1ms/step - loss: 9.3133 - mean_absolute_error: 2.4482\n",
      "Epoch 44/50\n",
      "45/45 [==============================] - 0s 2ms/step - loss: 9.1514 - mean_absolute_error: 2.4408\n",
      "Epoch 45/50\n",
      "45/45 [==============================] - 0s 1ms/step - loss: 9.1078 - mean_absolute_error: 2.4311\n",
      "Epoch 46/50\n",
      "45/45 [==============================] - 0s 1ms/step - loss: 9.1492 - mean_absolute_error: 2.4182\n",
      "Epoch 47/50\n",
      "45/45 [==============================] - 0s 1ms/step - loss: 9.1590 - mean_absolute_error: 2.4403\n",
      "Epoch 48/50\n",
      "45/45 [==============================] - 0s 1ms/step - loss: 9.0667 - mean_absolute_error: 2.4285\n",
      "Epoch 49/50\n",
      "45/45 [==============================] - 0s 1ms/step - loss: 9.3555 - mean_absolute_error: 2.4870\n",
      "Epoch 50/50\n",
      "45/45 [==============================] - 0s 1ms/step - loss: 9.1969 - mean_absolute_error: 2.4373\n"
     ]
    }
   ],
   "source": [
    "history = model.fit(x_train, y_train, epochs=50)"
   ]
  },
  {
   "cell_type": "markdown",
   "metadata": {
    "id": "HL0zq1YAIAS9"
   },
   "source": [
    "Because the dataset we have is not that big, the training takes little time. We have improved the metric of our model, but the model could be overfitting for too many epochs"
   ]
  },
  {
   "cell_type": "code",
   "execution_count": 173,
   "metadata": {
    "id": "50Z4iCZGINit"
   },
   "outputs": [
    {
     "name": "stdout",
     "output_type": "stream",
     "text": [
      "15/15 [==============================] - 0s 976us/step\n"
     ]
    },
    {
     "data": {
      "text/plain": [
       "(2.594036429867906, 10.254967851634392)"
      ]
     },
     "execution_count": 173,
     "metadata": {},
     "output_type": "execute_result"
    }
   ],
   "source": [
    "pred = model.predict(x_test)\n",
    "(mean_absolute_error(pred, y_test), mean_squared_error(pred, y_test))"
   ]
  },
  {
   "cell_type": "markdown",
   "metadata": {
    "id": "BmheYzqBIdzi"
   },
   "source": [
    "The model we have now is not overfitting. It is now comparable to the Random Forest one. Let's see what could happen if we set the epoch to, say, 200."
   ]
  },
  {
   "cell_type": "code",
   "execution_count": 174,
   "metadata": {
    "id": "9-9uK2tDIdah",
    "scrolled": true
   },
   "outputs": [
    {
     "name": "stdout",
     "output_type": "stream",
     "text": [
      "Epoch 1/200\n",
      "45/45 [==============================] - 0s 1ms/step - loss: 9.0661 - mean_absolute_error: 2.4227\n",
      "Epoch 2/200\n",
      "45/45 [==============================] - 0s 2ms/step - loss: 9.0210 - mean_absolute_error: 2.4121\n",
      "Epoch 3/200\n",
      "45/45 [==============================] - 0s 1ms/step - loss: 8.9879 - mean_absolute_error: 2.3979\n",
      "Epoch 4/200\n",
      "45/45 [==============================] - 0s 2ms/step - loss: 8.9265 - mean_absolute_error: 2.3970\n",
      "Epoch 5/200\n",
      "45/45 [==============================] - 0s 1ms/step - loss: 8.8850 - mean_absolute_error: 2.3713\n",
      "Epoch 6/200\n",
      "45/45 [==============================] - 0s 1ms/step - loss: 8.9914 - mean_absolute_error: 2.4094\n",
      "Epoch 7/200\n",
      "45/45 [==============================] - 0s 1ms/step - loss: 9.0128 - mean_absolute_error: 2.4015\n",
      "Epoch 8/200\n",
      "45/45 [==============================] - 0s 1ms/step - loss: 8.9624 - mean_absolute_error: 2.4174\n",
      "Epoch 9/200\n",
      "45/45 [==============================] - 0s 1ms/step - loss: 8.8993 - mean_absolute_error: 2.3941\n",
      "Epoch 10/200\n",
      "45/45 [==============================] - 0s 1ms/step - loss: 8.9683 - mean_absolute_error: 2.4038\n",
      "Epoch 11/200\n",
      "45/45 [==============================] - 0s 1ms/step - loss: 8.9181 - mean_absolute_error: 2.3980\n",
      "Epoch 12/200\n",
      "45/45 [==============================] - 0s 1ms/step - loss: 8.8284 - mean_absolute_error: 2.3836\n",
      "Epoch 13/200\n",
      "45/45 [==============================] - 0s 2ms/step - loss: 8.9264 - mean_absolute_error: 2.3997\n",
      "Epoch 14/200\n",
      "45/45 [==============================] - 0s 1ms/step - loss: 8.8517 - mean_absolute_error: 2.3864\n",
      "Epoch 15/200\n",
      "45/45 [==============================] - 0s 1ms/step - loss: 8.8637 - mean_absolute_error: 2.3956\n",
      "Epoch 16/200\n",
      "45/45 [==============================] - 0s 1ms/step - loss: 8.9363 - mean_absolute_error: 2.3925\n",
      "Epoch 17/200\n",
      "45/45 [==============================] - 0s 1ms/step - loss: 8.7918 - mean_absolute_error: 2.3780\n",
      "Epoch 18/200\n",
      "45/45 [==============================] - 0s 2ms/step - loss: 8.7857 - mean_absolute_error: 2.3615\n",
      "Epoch 19/200\n",
      "45/45 [==============================] - 0s 1ms/step - loss: 8.7007 - mean_absolute_error: 2.3629\n",
      "Epoch 20/200\n",
      "45/45 [==============================] - 0s 1ms/step - loss: 8.7883 - mean_absolute_error: 2.3728\n",
      "Epoch 21/200\n",
      "45/45 [==============================] - 0s 1ms/step - loss: 8.6105 - mean_absolute_error: 2.3528\n",
      "Epoch 22/200\n",
      "45/45 [==============================] - 0s 1ms/step - loss: 8.9031 - mean_absolute_error: 2.3872\n",
      "Epoch 23/200\n",
      "45/45 [==============================] - 0s 1ms/step - loss: 8.6303 - mean_absolute_error: 2.3489\n",
      "Epoch 24/200\n",
      "45/45 [==============================] - 0s 1ms/step - loss: 8.6632 - mean_absolute_error: 2.3472\n",
      "Epoch 25/200\n",
      "45/45 [==============================] - 0s 1ms/step - loss: 8.7485 - mean_absolute_error: 2.3407\n",
      "Epoch 26/200\n",
      "45/45 [==============================] - 0s 1ms/step - loss: 8.6635 - mean_absolute_error: 2.3562\n",
      "Epoch 27/200\n",
      "45/45 [==============================] - 0s 1ms/step - loss: 8.6966 - mean_absolute_error: 2.3394\n",
      "Epoch 28/200\n",
      "45/45 [==============================] - 0s 2ms/step - loss: 8.6180 - mean_absolute_error: 2.3425\n",
      "Epoch 29/200\n",
      "45/45 [==============================] - 0s 1ms/step - loss: 8.6255 - mean_absolute_error: 2.3481\n",
      "Epoch 30/200\n",
      "45/45 [==============================] - 0s 1ms/step - loss: 8.5466 - mean_absolute_error: 2.3314\n",
      "Epoch 31/200\n",
      "45/45 [==============================] - 0s 1ms/step - loss: 8.6098 - mean_absolute_error: 2.3429\n",
      "Epoch 32/200\n",
      "45/45 [==============================] - 0s 1ms/step - loss: 8.5603 - mean_absolute_error: 2.3308\n",
      "Epoch 33/200\n",
      "45/45 [==============================] - 0s 1ms/step - loss: 8.6301 - mean_absolute_error: 2.3250\n",
      "Epoch 34/200\n",
      "45/45 [==============================] - 0s 1ms/step - loss: 8.5196 - mean_absolute_error: 2.3230\n",
      "Epoch 35/200\n",
      "45/45 [==============================] - 0s 1ms/step - loss: 8.5479 - mean_absolute_error: 2.3379\n",
      "Epoch 36/200\n",
      "45/45 [==============================] - 0s 1ms/step - loss: 8.5084 - mean_absolute_error: 2.3213\n",
      "Epoch 37/200\n",
      "45/45 [==============================] - 0s 1ms/step - loss: 8.5736 - mean_absolute_error: 2.3374\n",
      "Epoch 38/200\n",
      "45/45 [==============================] - 0s 1ms/step - loss: 8.6631 - mean_absolute_error: 2.3352\n",
      "Epoch 39/200\n",
      "45/45 [==============================] - 0s 1ms/step - loss: 8.6558 - mean_absolute_error: 2.3531\n",
      "Epoch 40/200\n",
      "45/45 [==============================] - 0s 1ms/step - loss: 8.5555 - mean_absolute_error: 2.3216\n",
      "Epoch 41/200\n",
      "45/45 [==============================] - 0s 1ms/step - loss: 8.6698 - mean_absolute_error: 2.3336\n",
      "Epoch 42/200\n",
      "45/45 [==============================] - 0s 1ms/step - loss: 8.4369 - mean_absolute_error: 2.2997\n",
      "Epoch 43/200\n",
      "45/45 [==============================] - 0s 1ms/step - loss: 8.4802 - mean_absolute_error: 2.3176\n",
      "Epoch 44/200\n",
      "45/45 [==============================] - 0s 2ms/step - loss: 8.4963 - mean_absolute_error: 2.3137\n",
      "Epoch 45/200\n",
      "45/45 [==============================] - 0s 1ms/step - loss: 8.3987 - mean_absolute_error: 2.2972\n",
      "Epoch 46/200\n",
      "45/45 [==============================] - 0s 2ms/step - loss: 8.3658 - mean_absolute_error: 2.3013\n",
      "Epoch 47/200\n",
      "45/45 [==============================] - 0s 1ms/step - loss: 8.3277 - mean_absolute_error: 2.2779\n",
      "Epoch 48/200\n",
      "45/45 [==============================] - 0s 1ms/step - loss: 8.3694 - mean_absolute_error: 2.2895\n",
      "Epoch 49/200\n",
      "45/45 [==============================] - 0s 2ms/step - loss: 8.3542 - mean_absolute_error: 2.2862\n",
      "Epoch 50/200\n",
      "45/45 [==============================] - 0s 2ms/step - loss: 8.4675 - mean_absolute_error: 2.2977\n",
      "Epoch 51/200\n",
      "45/45 [==============================] - 0s 1ms/step - loss: 8.3800 - mean_absolute_error: 2.2904\n",
      "Epoch 52/200\n",
      "45/45 [==============================] - 0s 1ms/step - loss: 8.3223 - mean_absolute_error: 2.2737\n",
      "Epoch 53/200\n",
      "45/45 [==============================] - 0s 1ms/step - loss: 8.3602 - mean_absolute_error: 2.2855\n",
      "Epoch 54/200\n",
      "45/45 [==============================] - 0s 2ms/step - loss: 8.4308 - mean_absolute_error: 2.3137\n",
      "Epoch 55/200\n",
      "45/45 [==============================] - 0s 1ms/step - loss: 8.2790 - mean_absolute_error: 2.2879\n",
      "Epoch 56/200\n",
      "45/45 [==============================] - 0s 1ms/step - loss: 8.2717 - mean_absolute_error: 2.2614\n",
      "Epoch 57/200\n",
      "45/45 [==============================] - 0s 1ms/step - loss: 8.2560 - mean_absolute_error: 2.2727\n",
      "Epoch 58/200\n",
      "45/45 [==============================] - 0s 2ms/step - loss: 8.3347 - mean_absolute_error: 2.2822\n",
      "Epoch 59/200\n",
      "45/45 [==============================] - 0s 1ms/step - loss: 8.2238 - mean_absolute_error: 2.2539\n",
      "Epoch 60/200\n",
      "45/45 [==============================] - 0s 1ms/step - loss: 8.3246 - mean_absolute_error: 2.2885\n",
      "Epoch 61/200\n",
      "45/45 [==============================] - 0s 1ms/step - loss: 8.2601 - mean_absolute_error: 2.2710\n",
      "Epoch 62/200\n",
      "45/45 [==============================] - 0s 1ms/step - loss: 8.3685 - mean_absolute_error: 2.2716\n",
      "Epoch 63/200\n",
      "45/45 [==============================] - 0s 2ms/step - loss: 8.2161 - mean_absolute_error: 2.2647\n",
      "Epoch 64/200\n",
      "45/45 [==============================] - 0s 1ms/step - loss: 8.3464 - mean_absolute_error: 2.2780\n",
      "Epoch 65/200\n",
      "45/45 [==============================] - 0s 1ms/step - loss: 8.2677 - mean_absolute_error: 2.2810\n",
      "Epoch 66/200\n",
      "45/45 [==============================] - 0s 1ms/step - loss: 8.3240 - mean_absolute_error: 2.2970\n",
      "Epoch 67/200\n",
      "45/45 [==============================] - 0s 1ms/step - loss: 8.3205 - mean_absolute_error: 2.2882\n",
      "Epoch 68/200\n",
      "45/45 [==============================] - 0s 1ms/step - loss: 8.3274 - mean_absolute_error: 2.2759\n",
      "Epoch 69/200\n",
      "45/45 [==============================] - 0s 1ms/step - loss: 8.1233 - mean_absolute_error: 2.2446\n",
      "Epoch 70/200\n",
      "45/45 [==============================] - 0s 1ms/step - loss: 8.1694 - mean_absolute_error: 2.2523\n",
      "Epoch 71/200\n",
      "45/45 [==============================] - 0s 1ms/step - loss: 8.1533 - mean_absolute_error: 2.2545\n",
      "Epoch 72/200\n",
      "45/45 [==============================] - 0s 1ms/step - loss: 8.1219 - mean_absolute_error: 2.2503\n",
      "Epoch 73/200\n",
      "45/45 [==============================] - 0s 2ms/step - loss: 8.1984 - mean_absolute_error: 2.2565\n",
      "Epoch 74/200\n",
      "45/45 [==============================] - 0s 2ms/step - loss: 8.1742 - mean_absolute_error: 2.2541\n",
      "Epoch 75/200\n",
      "45/45 [==============================] - 0s 1ms/step - loss: 8.1885 - mean_absolute_error: 2.2505\n",
      "Epoch 76/200\n",
      "45/45 [==============================] - 0s 1ms/step - loss: 8.1399 - mean_absolute_error: 2.2399\n",
      "Epoch 77/200\n",
      "45/45 [==============================] - 0s 1ms/step - loss: 8.1994 - mean_absolute_error: 2.2756\n",
      "Epoch 78/200\n",
      "45/45 [==============================] - 0s 1ms/step - loss: 8.3122 - mean_absolute_error: 2.2713\n",
      "Epoch 79/200\n",
      "45/45 [==============================] - 0s 1ms/step - loss: 8.1376 - mean_absolute_error: 2.2496\n",
      "Epoch 80/200\n",
      "45/45 [==============================] - 0s 1ms/step - loss: 8.1544 - mean_absolute_error: 2.2619\n",
      "Epoch 81/200\n",
      "45/45 [==============================] - 0s 1ms/step - loss: 8.0932 - mean_absolute_error: 2.2341\n",
      "Epoch 82/200\n",
      "45/45 [==============================] - 0s 1ms/step - loss: 8.1815 - mean_absolute_error: 2.2528\n",
      "Epoch 83/200\n",
      "45/45 [==============================] - 0s 2ms/step - loss: 8.0339 - mean_absolute_error: 2.2365\n",
      "Epoch 84/200\n",
      "45/45 [==============================] - 0s 1ms/step - loss: 8.0716 - mean_absolute_error: 2.2479\n",
      "Epoch 85/200\n",
      "45/45 [==============================] - 0s 1ms/step - loss: 8.0089 - mean_absolute_error: 2.2180\n",
      "Epoch 86/200\n",
      "45/45 [==============================] - 0s 1ms/step - loss: 8.3244 - mean_absolute_error: 2.2842\n",
      "Epoch 87/200\n",
      "45/45 [==============================] - 0s 1ms/step - loss: 8.1556 - mean_absolute_error: 2.2679\n",
      "Epoch 88/200\n",
      "45/45 [==============================] - 0s 1ms/step - loss: 8.1548 - mean_absolute_error: 2.2624\n",
      "Epoch 89/200\n",
      "45/45 [==============================] - 0s 2ms/step - loss: 8.2103 - mean_absolute_error: 2.2505\n",
      "Epoch 90/200\n",
      "45/45 [==============================] - 0s 1ms/step - loss: 8.1543 - mean_absolute_error: 2.2626\n",
      "Epoch 91/200\n",
      "45/45 [==============================] - 0s 1ms/step - loss: 8.2380 - mean_absolute_error: 2.2806\n",
      "Epoch 92/200\n",
      "45/45 [==============================] - 0s 1ms/step - loss: 8.1198 - mean_absolute_error: 2.2532\n",
      "Epoch 93/200\n",
      "45/45 [==============================] - 0s 1ms/step - loss: 8.1844 - mean_absolute_error: 2.2477\n",
      "Epoch 94/200\n",
      "45/45 [==============================] - 0s 1ms/step - loss: 8.0864 - mean_absolute_error: 2.2511\n",
      "Epoch 95/200\n",
      "45/45 [==============================] - 0s 1ms/step - loss: 7.9829 - mean_absolute_error: 2.2283\n",
      "Epoch 96/200\n",
      "45/45 [==============================] - 0s 1ms/step - loss: 8.0354 - mean_absolute_error: 2.2398\n",
      "Epoch 97/200\n",
      "45/45 [==============================] - 0s 1ms/step - loss: 8.0368 - mean_absolute_error: 2.2231\n",
      "Epoch 98/200\n",
      "45/45 [==============================] - 0s 1ms/step - loss: 7.9532 - mean_absolute_error: 2.2270\n",
      "Epoch 99/200\n",
      "45/45 [==============================] - 0s 2ms/step - loss: 7.9839 - mean_absolute_error: 2.2200\n",
      "Epoch 100/200\n",
      "45/45 [==============================] - 0s 1ms/step - loss: 7.9981 - mean_absolute_error: 2.2331\n",
      "Epoch 101/200\n",
      "45/45 [==============================] - 0s 1ms/step - loss: 8.1014 - mean_absolute_error: 2.2527\n",
      "Epoch 102/200\n",
      "45/45 [==============================] - 0s 1ms/step - loss: 7.9414 - mean_absolute_error: 2.2376\n",
      "Epoch 103/200\n",
      "45/45 [==============================] - 0s 1ms/step - loss: 7.8899 - mean_absolute_error: 2.2105\n",
      "Epoch 104/200\n",
      "45/45 [==============================] - 0s 1ms/step - loss: 7.9703 - mean_absolute_error: 2.2161\n",
      "Epoch 105/200\n",
      "45/45 [==============================] - 0s 1ms/step - loss: 7.9485 - mean_absolute_error: 2.2265\n",
      "Epoch 106/200\n",
      "45/45 [==============================] - 0s 1ms/step - loss: 7.9455 - mean_absolute_error: 2.2215\n",
      "Epoch 107/200\n",
      "45/45 [==============================] - 0s 1ms/step - loss: 7.9717 - mean_absolute_error: 2.2359\n",
      "Epoch 108/200\n",
      "45/45 [==============================] - 0s 2ms/step - loss: 7.9070 - mean_absolute_error: 2.2209\n",
      "Epoch 109/200\n",
      "45/45 [==============================] - 0s 1ms/step - loss: 7.9254 - mean_absolute_error: 2.2274\n",
      "Epoch 110/200\n",
      "45/45 [==============================] - 0s 1ms/step - loss: 7.8659 - mean_absolute_error: 2.2084\n",
      "Epoch 111/200\n",
      "45/45 [==============================] - 0s 1ms/step - loss: 7.9054 - mean_absolute_error: 2.2199\n",
      "Epoch 112/200\n",
      "45/45 [==============================] - 0s 1ms/step - loss: 7.8160 - mean_absolute_error: 2.1934\n",
      "Epoch 113/200\n",
      "45/45 [==============================] - 0s 1ms/step - loss: 8.0698 - mean_absolute_error: 2.2511\n",
      "Epoch 114/200\n",
      "45/45 [==============================] - 0s 1ms/step - loss: 7.9209 - mean_absolute_error: 2.2214\n",
      "Epoch 115/200\n",
      "45/45 [==============================] - 0s 1ms/step - loss: 7.9882 - mean_absolute_error: 2.2275\n",
      "Epoch 116/200\n",
      "45/45 [==============================] - 0s 1ms/step - loss: 7.8600 - mean_absolute_error: 2.2130\n",
      "Epoch 117/200\n",
      "45/45 [==============================] - 0s 1ms/step - loss: 7.8997 - mean_absolute_error: 2.2070\n",
      "Epoch 118/200\n",
      "45/45 [==============================] - 0s 2ms/step - loss: 7.9619 - mean_absolute_error: 2.2333\n",
      "Epoch 119/200\n",
      "45/45 [==============================] - 0s 1ms/step - loss: 7.9806 - mean_absolute_error: 2.2258\n",
      "Epoch 120/200\n",
      "45/45 [==============================] - 0s 1ms/step - loss: 8.0017 - mean_absolute_error: 2.2434\n",
      "Epoch 121/200\n",
      "45/45 [==============================] - 0s 1ms/step - loss: 7.9101 - mean_absolute_error: 2.2262\n",
      "Epoch 122/200\n",
      "45/45 [==============================] - 0s 1ms/step - loss: 7.8614 - mean_absolute_error: 2.2133\n",
      "Epoch 123/200\n",
      "45/45 [==============================] - 0s 2ms/step - loss: 7.8294 - mean_absolute_error: 2.2109\n",
      "Epoch 124/200\n",
      "45/45 [==============================] - 0s 1ms/step - loss: 7.7847 - mean_absolute_error: 2.2067\n",
      "Epoch 125/200\n",
      "45/45 [==============================] - 0s 1ms/step - loss: 7.7974 - mean_absolute_error: 2.2136\n",
      "Epoch 126/200\n",
      "45/45 [==============================] - 0s 1ms/step - loss: 8.2391 - mean_absolute_error: 2.2437\n",
      "Epoch 127/200\n",
      "45/45 [==============================] - 0s 1ms/step - loss: 7.8689 - mean_absolute_error: 2.2265\n",
      "Epoch 128/200\n",
      "45/45 [==============================] - 0s 1ms/step - loss: 7.8596 - mean_absolute_error: 2.2240\n",
      "Epoch 129/200\n",
      "45/45 [==============================] - 0s 1ms/step - loss: 7.7224 - mean_absolute_error: 2.1915\n",
      "Epoch 130/200\n",
      "45/45 [==============================] - 0s 1ms/step - loss: 7.8527 - mean_absolute_error: 2.2099\n",
      "Epoch 131/200\n",
      "45/45 [==============================] - 0s 1ms/step - loss: 7.8287 - mean_absolute_error: 2.2081\n",
      "Epoch 132/200\n",
      "45/45 [==============================] - 0s 1ms/step - loss: 8.0774 - mean_absolute_error: 2.2411\n",
      "Epoch 133/200\n",
      "45/45 [==============================] - 0s 2ms/step - loss: 7.7759 - mean_absolute_error: 2.2099\n",
      "Epoch 134/200\n",
      "45/45 [==============================] - 0s 2ms/step - loss: 7.7737 - mean_absolute_error: 2.2082\n",
      "Epoch 135/200\n",
      "45/45 [==============================] - 0s 1ms/step - loss: 7.7437 - mean_absolute_error: 2.1965\n",
      "Epoch 136/200\n",
      "45/45 [==============================] - 0s 2ms/step - loss: 7.7721 - mean_absolute_error: 2.1930\n",
      "Epoch 137/200\n",
      "45/45 [==============================] - 0s 1ms/step - loss: 7.9416 - mean_absolute_error: 2.2397\n",
      "Epoch 138/200\n",
      "45/45 [==============================] - 0s 1ms/step - loss: 7.7958 - mean_absolute_error: 2.1966\n",
      "Epoch 139/200\n",
      "45/45 [==============================] - 0s 1ms/step - loss: 7.7025 - mean_absolute_error: 2.1905\n",
      "Epoch 140/200\n",
      "45/45 [==============================] - 0s 2ms/step - loss: 7.6426 - mean_absolute_error: 2.1815\n",
      "Epoch 141/200\n",
      "45/45 [==============================] - 0s 1ms/step - loss: 7.6191 - mean_absolute_error: 2.1782\n",
      "Epoch 142/200\n",
      "45/45 [==============================] - 0s 1ms/step - loss: 7.6496 - mean_absolute_error: 2.1802\n",
      "Epoch 143/200\n",
      "45/45 [==============================] - 0s 1ms/step - loss: 7.9899 - mean_absolute_error: 2.2221\n",
      "Epoch 144/200\n",
      "45/45 [==============================] - 0s 1ms/step - loss: 7.8384 - mean_absolute_error: 2.2097\n",
      "Epoch 145/200\n",
      "45/45 [==============================] - 0s 1ms/step - loss: 7.6994 - mean_absolute_error: 2.1943\n",
      "Epoch 146/200\n",
      "45/45 [==============================] - 0s 1ms/step - loss: 7.7205 - mean_absolute_error: 2.1996\n",
      "Epoch 147/200\n",
      "45/45 [==============================] - 0s 1ms/step - loss: 7.6664 - mean_absolute_error: 2.1812\n",
      "Epoch 148/200\n",
      "45/45 [==============================] - 0s 1ms/step - loss: 7.6543 - mean_absolute_error: 2.1723\n",
      "Epoch 149/200\n",
      "45/45 [==============================] - 0s 1ms/step - loss: 8.0176 - mean_absolute_error: 2.2504\n",
      "Epoch 150/200\n",
      "45/45 [==============================] - 0s 1ms/step - loss: 7.6580 - mean_absolute_error: 2.1921\n",
      "Epoch 151/200\n",
      "45/45 [==============================] - 0s 1ms/step - loss: 7.7842 - mean_absolute_error: 2.2022\n",
      "Epoch 152/200\n",
      "45/45 [==============================] - 0s 2ms/step - loss: 7.6713 - mean_absolute_error: 2.1986\n",
      "Epoch 153/200\n",
      "45/45 [==============================] - 0s 2ms/step - loss: 7.7295 - mean_absolute_error: 2.2026\n",
      "Epoch 154/200\n",
      "45/45 [==============================] - 0s 1ms/step - loss: 7.6548 - mean_absolute_error: 2.1836\n",
      "Epoch 155/200\n",
      "45/45 [==============================] - 0s 1ms/step - loss: 7.7142 - mean_absolute_error: 2.1862\n",
      "Epoch 156/200\n",
      "45/45 [==============================] - 0s 1ms/step - loss: 7.6467 - mean_absolute_error: 2.1863\n",
      "Epoch 157/200\n",
      "45/45 [==============================] - 0s 1ms/step - loss: 7.5715 - mean_absolute_error: 2.1625\n",
      "Epoch 158/200\n",
      "45/45 [==============================] - 0s 1ms/step - loss: 7.6101 - mean_absolute_error: 2.1842\n",
      "Epoch 159/200\n",
      "45/45 [==============================] - 0s 1ms/step - loss: 7.8499 - mean_absolute_error: 2.2154\n",
      "Epoch 160/200\n",
      "45/45 [==============================] - 0s 1ms/step - loss: 7.7282 - mean_absolute_error: 2.1939\n",
      "Epoch 161/200\n",
      "45/45 [==============================] - 0s 1ms/step - loss: 7.4696 - mean_absolute_error: 2.1538\n",
      "Epoch 162/200\n",
      "45/45 [==============================] - 0s 1ms/step - loss: 7.5094 - mean_absolute_error: 2.1493\n",
      "Epoch 163/200\n",
      "45/45 [==============================] - 0s 1ms/step - loss: 7.5415 - mean_absolute_error: 2.1713\n",
      "Epoch 164/200\n",
      "45/45 [==============================] - 0s 2ms/step - loss: 7.5305 - mean_absolute_error: 2.1556\n",
      "Epoch 165/200\n",
      "45/45 [==============================] - 0s 1ms/step - loss: 7.6588 - mean_absolute_error: 2.1881\n",
      "Epoch 166/200\n",
      "45/45 [==============================] - 0s 1ms/step - loss: 7.8166 - mean_absolute_error: 2.2003\n",
      "Epoch 167/200\n",
      "45/45 [==============================] - 0s 1ms/step - loss: 7.5862 - mean_absolute_error: 2.1764\n",
      "Epoch 168/200\n",
      "45/45 [==============================] - 0s 1ms/step - loss: 7.8182 - mean_absolute_error: 2.2020\n",
      "Epoch 169/200\n",
      "45/45 [==============================] - 0s 1ms/step - loss: 7.9198 - mean_absolute_error: 2.2226\n",
      "Epoch 170/200\n",
      "45/45 [==============================] - 0s 1ms/step - loss: 7.7401 - mean_absolute_error: 2.1904\n",
      "Epoch 171/200\n",
      "45/45 [==============================] - 0s 1ms/step - loss: 7.5381 - mean_absolute_error: 2.1592\n",
      "Epoch 172/200\n",
      "45/45 [==============================] - 0s 1ms/step - loss: 7.5832 - mean_absolute_error: 2.1566\n",
      "Epoch 173/200\n",
      "45/45 [==============================] - 0s 1ms/step - loss: 7.5044 - mean_absolute_error: 2.1491\n",
      "Epoch 174/200\n",
      "45/45 [==============================] - 0s 1ms/step - loss: 7.4309 - mean_absolute_error: 2.1375\n",
      "Epoch 175/200\n",
      "45/45 [==============================] - 0s 2ms/step - loss: 7.5944 - mean_absolute_error: 2.1701\n",
      "Epoch 176/200\n",
      "45/45 [==============================] - 0s 1ms/step - loss: 7.7712 - mean_absolute_error: 2.1915\n",
      "Epoch 177/200\n",
      "45/45 [==============================] - 0s 1ms/step - loss: 7.5307 - mean_absolute_error: 2.1611\n",
      "Epoch 178/200\n",
      "45/45 [==============================] - 0s 1ms/step - loss: 7.4251 - mean_absolute_error: 2.1436\n",
      "Epoch 179/200\n",
      "45/45 [==============================] - 0s 1ms/step - loss: 7.5325 - mean_absolute_error: 2.1810\n",
      "Epoch 180/200\n",
      "45/45 [==============================] - 0s 1ms/step - loss: 7.4413 - mean_absolute_error: 2.1539\n",
      "Epoch 181/200\n",
      "45/45 [==============================] - 0s 1ms/step - loss: 7.5701 - mean_absolute_error: 2.1604\n",
      "Epoch 182/200\n",
      "45/45 [==============================] - 0s 1ms/step - loss: 7.4598 - mean_absolute_error: 2.1424\n",
      "Epoch 183/200\n",
      "45/45 [==============================] - 0s 1ms/step - loss: 7.5842 - mean_absolute_error: 2.1638\n",
      "Epoch 184/200\n",
      "45/45 [==============================] - 0s 1ms/step - loss: 7.4653 - mean_absolute_error: 2.1492\n",
      "Epoch 185/200\n",
      "45/45 [==============================] - 0s 1ms/step - loss: 7.5288 - mean_absolute_error: 2.1587\n",
      "Epoch 186/200\n",
      "45/45 [==============================] - 0s 1ms/step - loss: 7.2436 - mean_absolute_error: 2.1095\n",
      "Epoch 187/200\n",
      "45/45 [==============================] - 0s 1ms/step - loss: 7.3959 - mean_absolute_error: 2.1300\n",
      "Epoch 188/200\n",
      "45/45 [==============================] - 0s 1ms/step - loss: 7.4964 - mean_absolute_error: 2.1410\n",
      "Epoch 189/200\n",
      "45/45 [==============================] - 0s 1ms/step - loss: 7.4059 - mean_absolute_error: 2.1310\n",
      "Epoch 190/200\n",
      "45/45 [==============================] - 0s 1ms/step - loss: 7.3794 - mean_absolute_error: 2.1392\n",
      "Epoch 191/200\n",
      "45/45 [==============================] - 0s 1ms/step - loss: 7.5019 - mean_absolute_error: 2.1464\n",
      "Epoch 192/200\n",
      "45/45 [==============================] - 0s 1ms/step - loss: 7.3986 - mean_absolute_error: 2.1301\n",
      "Epoch 193/200\n",
      "45/45 [==============================] - 0s 1ms/step - loss: 7.4661 - mean_absolute_error: 2.1329\n",
      "Epoch 194/200\n",
      "45/45 [==============================] - 0s 2ms/step - loss: 7.4943 - mean_absolute_error: 2.1455\n",
      "Epoch 195/200\n",
      "45/45 [==============================] - 0s 1ms/step - loss: 7.3884 - mean_absolute_error: 2.1365\n",
      "Epoch 196/200\n",
      "45/45 [==============================] - 0s 1ms/step - loss: 7.6002 - mean_absolute_error: 2.1639\n",
      "Epoch 197/200\n",
      "45/45 [==============================] - 0s 1ms/step - loss: 7.3867 - mean_absolute_error: 2.1394\n",
      "Epoch 198/200\n",
      "45/45 [==============================] - 0s 2ms/step - loss: 7.3870 - mean_absolute_error: 2.1243\n",
      "Epoch 199/200\n",
      "45/45 [==============================] - 0s 1ms/step - loss: 7.3901 - mean_absolute_error: 2.1172\n",
      "Epoch 200/200\n",
      "45/45 [==============================] - 0s 1ms/step - loss: 7.4938 - mean_absolute_error: 2.1550\n"
     ]
    }
   ],
   "source": [
    "history = model.fit(x_train, y_train, epochs=200)"
   ]
  },
  {
   "cell_type": "code",
   "execution_count": 175,
   "metadata": {
    "id": "9wX2ikmgIq1Z"
   },
   "outputs": [
    {
     "data": {
      "image/png": "[encoded data removed]",
      "text/plain": [
       "<Figure size 640x480 with 1 Axes>"
      ]
     },
     "metadata": {},
     "output_type": "display_data"
    }
   ],
   "source": [
    "loss_hist = history.history['loss']\n",
    "mae_hist = history.history['mean_absolute_error']\n",
    "plt.plot(history.epoch, loss_hist, label='Loss')\n",
    "plt.xlabel('Epoch')\n",
    "plt.ylabel('Loss')\n",
    "plt.title('Loss per epoch')\n",
    "plt.legend()\n",
    "plt.show()"
   ]
  },
  {
   "cell_type": "code",
   "execution_count": 158,
   "metadata": {
    "id": "jL8u8vEJJHkL",
    "scrolled": true
   },
   "outputs": [
    {
     "name": "stdout",
     "output_type": "stream",
     "text": [
      "Epoch 1/200\n",
      "45/45 [==============================] - 0s 2ms/step - loss: 7.4781 - mean_absolute_error: 2.1326\n",
      "Epoch 2/200\n",
      "45/45 [==============================] - 0s 2ms/step - loss: 7.8391 - mean_absolute_error: 2.1977\n",
      "Epoch 3/200\n",
      "45/45 [==============================] - 0s 1ms/step - loss: 7.5147 - mean_absolute_error: 2.1200\n",
      "Epoch 4/200\n",
      "45/45 [==============================] - 0s 2ms/step - loss: 7.7171 - mean_absolute_error: 2.1666\n",
      "Epoch 5/200\n",
      "45/45 [==============================] - 0s 2ms/step - loss: 7.4223 - mean_absolute_error: 2.1399\n",
      "Epoch 6/200\n",
      "45/45 [==============================] - 0s 2ms/step - loss: 7.5771 - mean_absolute_error: 2.1473\n",
      "Epoch 7/200\n",
      "45/45 [==============================] - 0s 2ms/step - loss: 7.3640 - mean_absolute_error: 2.1124\n",
      "Epoch 8/200\n",
      "45/45 [==============================] - 0s 1ms/step - loss: 7.3397 - mean_absolute_error: 2.1107\n",
      "Epoch 9/200\n",
      "45/45 [==============================] - 0s 1ms/step - loss: 7.4328 - mean_absolute_error: 2.1229\n",
      "Epoch 10/200\n",
      "45/45 [==============================] - 0s 1ms/step - loss: 7.4046 - mean_absolute_error: 2.1164\n",
      "Epoch 11/200\n",
      "45/45 [==============================] - 0s 1ms/step - loss: 7.7409 - mean_absolute_error: 2.1909\n",
      "Epoch 12/200\n",
      "45/45 [==============================] - 0s 1ms/step - loss: 7.4502 - mean_absolute_error: 2.1350\n",
      "Epoch 13/200\n",
      "45/45 [==============================] - 0s 1ms/step - loss: 7.4172 - mean_absolute_error: 2.1153\n",
      "Epoch 14/200\n",
      "45/45 [==============================] - 0s 1ms/step - loss: 7.4089 - mean_absolute_error: 2.1357\n",
      "Epoch 15/200\n",
      "45/45 [==============================] - 0s 1ms/step - loss: 7.3482 - mean_absolute_error: 2.1051\n",
      "Epoch 16/200\n",
      "45/45 [==============================] - 0s 1ms/step - loss: 7.3054 - mean_absolute_error: 2.1051\n",
      "Epoch 17/200\n",
      "45/45 [==============================] - 0s 1ms/step - loss: 7.3402 - mean_absolute_error: 2.1027\n",
      "Epoch 18/200\n",
      "45/45 [==============================] - 0s 1ms/step - loss: 7.3205 - mean_absolute_error: 2.1039\n",
      "Epoch 19/200\n",
      "45/45 [==============================] - 0s 1ms/step - loss: 7.7634 - mean_absolute_error: 2.1978\n",
      "Epoch 20/200\n",
      "45/45 [==============================] - 0s 1ms/step - loss: 7.4789 - mean_absolute_error: 2.1310\n",
      "Epoch 21/200\n",
      "45/45 [==============================] - 0s 1ms/step - loss: 7.4020 - mean_absolute_error: 2.1238\n",
      "Epoch 22/200\n",
      "45/45 [==============================] - 0s 2ms/step - loss: 7.3633 - mean_absolute_error: 2.1091\n",
      "Epoch 23/200\n",
      "45/45 [==============================] - 0s 2ms/step - loss: 7.3711 - mean_absolute_error: 2.1142\n",
      "Epoch 24/200\n",
      "45/45 [==============================] - 0s 2ms/step - loss: 7.3895 - mean_absolute_error: 2.1026\n",
      "Epoch 25/200\n",
      "45/45 [==============================] - 0s 2ms/step - loss: 7.3236 - mean_absolute_error: 2.0963\n",
      "Epoch 26/200\n",
      "45/45 [==============================] - 0s 2ms/step - loss: 7.4945 - mean_absolute_error: 2.1359\n",
      "Epoch 27/200\n",
      "45/45 [==============================] - 0s 2ms/step - loss: 7.3537 - mean_absolute_error: 2.1118\n",
      "Epoch 28/200\n",
      "45/45 [==============================] - 0s 2ms/step - loss: 7.4840 - mean_absolute_error: 2.1421\n",
      "Epoch 29/200\n",
      "45/45 [==============================] - 0s 2ms/step - loss: 7.6213 - mean_absolute_error: 2.1494\n",
      "Epoch 30/200\n",
      "45/45 [==============================] - 0s 2ms/step - loss: 7.3286 - mean_absolute_error: 2.1087\n",
      "Epoch 31/200\n",
      "45/45 [==============================] - 0s 2ms/step - loss: 7.2908 - mean_absolute_error: 2.0901\n",
      "Epoch 32/200\n",
      "45/45 [==============================] - 0s 2ms/step - loss: 7.3203 - mean_absolute_error: 2.1024\n",
      "Epoch 33/200\n",
      "45/45 [==============================] - 0s 1ms/step - loss: 7.5119 - mean_absolute_error: 2.1508\n",
      "Epoch 34/200\n",
      "45/45 [==============================] - 0s 1ms/step - loss: 7.4869 - mean_absolute_error: 2.1491\n",
      "Epoch 35/200\n",
      "45/45 [==============================] - 0s 2ms/step - loss: 7.7009 - mean_absolute_error: 2.1680\n",
      "Epoch 36/200\n",
      "45/45 [==============================] - 0s 1ms/step - loss: 7.3204 - mean_absolute_error: 2.1178\n",
      "Epoch 37/200\n",
      "45/45 [==============================] - 0s 2ms/step - loss: 7.4779 - mean_absolute_error: 2.1330\n",
      "Epoch 38/200\n",
      "45/45 [==============================] - 0s 1ms/step - loss: 7.3629 - mean_absolute_error: 2.1080\n",
      "Epoch 39/200\n",
      "45/45 [==============================] - 0s 2ms/step - loss: 7.3299 - mean_absolute_error: 2.0895\n",
      "Epoch 40/200\n",
      "45/45 [==============================] - 0s 2ms/step - loss: 7.3470 - mean_absolute_error: 2.1191\n",
      "Epoch 41/200\n",
      "45/45 [==============================] - 0s 2ms/step - loss: 7.3481 - mean_absolute_error: 2.1138\n",
      "Epoch 42/200\n",
      "45/45 [==============================] - 0s 2ms/step - loss: 7.2525 - mean_absolute_error: 2.1057\n",
      "Epoch 43/200\n",
      "45/45 [==============================] - 0s 2ms/step - loss: 7.1887 - mean_absolute_error: 2.0734\n",
      "Epoch 44/200\n",
      "45/45 [==============================] - 0s 1ms/step - loss: 7.2545 - mean_absolute_error: 2.0952\n",
      "Epoch 45/200\n",
      "45/45 [==============================] - 0s 1ms/step - loss: 7.5764 - mean_absolute_error: 2.1409\n",
      "Epoch 46/200\n",
      "45/45 [==============================] - 0s 1ms/step - loss: 7.3928 - mean_absolute_error: 2.1164\n",
      "Epoch 47/200\n",
      "45/45 [==============================] - 0s 1ms/step - loss: 7.3921 - mean_absolute_error: 2.1230\n",
      "Epoch 48/200\n",
      "45/45 [==============================] - 0s 1ms/step - loss: 7.4472 - mean_absolute_error: 2.1203\n",
      "Epoch 49/200\n",
      "45/45 [==============================] - 0s 1ms/step - loss: 7.4632 - mean_absolute_error: 2.1321\n",
      "Epoch 50/200\n",
      "45/45 [==============================] - 0s 1ms/step - loss: 7.2766 - mean_absolute_error: 2.0956\n",
      "Epoch 51/200\n",
      "45/45 [==============================] - 0s 2ms/step - loss: 7.2935 - mean_absolute_error: 2.1001\n",
      "Epoch 52/200\n",
      "45/45 [==============================] - 0s 2ms/step - loss: 7.3411 - mean_absolute_error: 2.1015\n",
      "Epoch 53/200\n",
      "45/45 [==============================] - 0s 1ms/step - loss: 7.2663 - mean_absolute_error: 2.0906\n",
      "Epoch 54/200\n",
      "45/45 [==============================] - 0s 1ms/step - loss: 7.5517 - mean_absolute_error: 2.1507\n",
      "Epoch 55/200\n",
      "45/45 [==============================] - 0s 2ms/step - loss: 7.3949 - mean_absolute_error: 2.1175\n",
      "Epoch 56/200\n",
      "45/45 [==============================] - 0s 1ms/step - loss: 7.3748 - mean_absolute_error: 2.1149\n",
      "Epoch 57/200\n",
      "45/45 [==============================] - 0s 2ms/step - loss: 7.2303 - mean_absolute_error: 2.0840\n",
      "Epoch 58/200\n",
      "45/45 [==============================] - 0s 2ms/step - loss: 7.1608 - mean_absolute_error: 2.0851\n",
      "Epoch 59/200\n",
      "45/45 [==============================] - 0s 2ms/step - loss: 7.1375 - mean_absolute_error: 2.0861\n",
      "Epoch 60/200\n",
      "45/45 [==============================] - 0s 2ms/step - loss: 7.1566 - mean_absolute_error: 2.0735\n",
      "Epoch 61/200\n",
      "45/45 [==============================] - 0s 2ms/step - loss: 7.3447 - mean_absolute_error: 2.1180\n",
      "Epoch 62/200\n",
      "45/45 [==============================] - 0s 2ms/step - loss: 7.1851 - mean_absolute_error: 2.0884\n",
      "Epoch 63/200\n",
      "45/45 [==============================] - 0s 2ms/step - loss: 7.2213 - mean_absolute_error: 2.0813\n",
      "Epoch 64/200\n",
      "45/45 [==============================] - 0s 2ms/step - loss: 7.8204 - mean_absolute_error: 2.2133\n",
      "Epoch 65/200\n",
      "45/45 [==============================] - 0s 1ms/step - loss: 7.5311 - mean_absolute_error: 2.1286\n",
      "Epoch 66/200\n",
      "45/45 [==============================] - 0s 2ms/step - loss: 7.7365 - mean_absolute_error: 2.2074\n",
      "Epoch 67/200\n",
      "45/45 [==============================] - 0s 2ms/step - loss: 7.6069 - mean_absolute_error: 2.1793\n",
      "Epoch 68/200\n",
      "45/45 [==============================] - 0s 2ms/step - loss: 7.3930 - mean_absolute_error: 2.1371\n",
      "Epoch 69/200\n",
      "45/45 [==============================] - 0s 2ms/step - loss: 7.4207 - mean_absolute_error: 2.1306\n",
      "Epoch 70/200\n",
      "45/45 [==============================] - 0s 2ms/step - loss: 7.3199 - mean_absolute_error: 2.1276\n",
      "Epoch 71/200\n",
      "45/45 [==============================] - 0s 2ms/step - loss: 7.3158 - mean_absolute_error: 2.1352\n",
      "Epoch 72/200\n",
      "45/45 [==============================] - 0s 2ms/step - loss: 7.3874 - mean_absolute_error: 2.1320\n",
      "Epoch 73/200\n",
      "45/45 [==============================] - 0s 2ms/step - loss: 7.3531 - mean_absolute_error: 2.1201\n",
      "Epoch 74/200\n",
      "45/45 [==============================] - 0s 2ms/step - loss: 7.3140 - mean_absolute_error: 2.1196\n",
      "Epoch 75/200\n",
      "45/45 [==============================] - 0s 1ms/step - loss: 7.3114 - mean_absolute_error: 2.1278\n",
      "Epoch 76/200\n",
      "45/45 [==============================] - 0s 1ms/step - loss: 7.2349 - mean_absolute_error: 2.0995\n",
      "Epoch 77/200\n",
      "45/45 [==============================] - 0s 2ms/step - loss: 7.1744 - mean_absolute_error: 2.0893\n",
      "Epoch 78/200\n",
      "45/45 [==============================] - 0s 1ms/step - loss: 7.2594 - mean_absolute_error: 2.1099\n",
      "Epoch 79/200\n",
      "45/45 [==============================] - 0s 2ms/step - loss: 7.2928 - mean_absolute_error: 2.1090\n",
      "Epoch 80/200\n",
      "45/45 [==============================] - 0s 1ms/step - loss: 7.1589 - mean_absolute_error: 2.0898\n",
      "Epoch 81/200\n",
      "45/45 [==============================] - 0s 1ms/step - loss: 7.3640 - mean_absolute_error: 2.1166\n",
      "Epoch 82/200\n",
      "45/45 [==============================] - 0s 2ms/step - loss: 7.2570 - mean_absolute_error: 2.1037\n",
      "Epoch 83/200\n",
      "45/45 [==============================] - 0s 1ms/step - loss: 7.3860 - mean_absolute_error: 2.1228\n",
      "Epoch 84/200\n",
      "45/45 [==============================] - 0s 1ms/step - loss: 7.2027 - mean_absolute_error: 2.1196\n",
      "Epoch 85/200\n",
      "45/45 [==============================] - 0s 2ms/step - loss: 7.2099 - mean_absolute_error: 2.0932\n",
      "Epoch 86/200\n",
      "45/45 [==============================] - 0s 1ms/step - loss: 7.1582 - mean_absolute_error: 2.0873\n",
      "Epoch 87/200\n",
      "45/45 [==============================] - 0s 1ms/step - loss: 7.4178 - mean_absolute_error: 2.1372\n",
      "Epoch 88/200\n",
      "45/45 [==============================] - 0s 1ms/step - loss: 7.4230 - mean_absolute_error: 2.1317\n",
      "Epoch 89/200\n",
      "45/45 [==============================] - 0s 1ms/step - loss: 7.1582 - mean_absolute_error: 2.0837\n",
      "Epoch 90/200\n",
      "45/45 [==============================] - 0s 1ms/step - loss: 7.1005 - mean_absolute_error: 2.0736\n",
      "Epoch 91/200\n",
      "45/45 [==============================] - 0s 2ms/step - loss: 7.1086 - mean_absolute_error: 2.0820\n",
      "Epoch 92/200\n",
      "45/45 [==============================] - 0s 1ms/step - loss: 7.1311 - mean_absolute_error: 2.0842\n",
      "Epoch 93/200\n",
      "45/45 [==============================] - 0s 1ms/step - loss: 7.2841 - mean_absolute_error: 2.1071\n",
      "Epoch 94/200\n",
      "45/45 [==============================] - 0s 1ms/step - loss: 7.1070 - mean_absolute_error: 2.0746\n",
      "Epoch 95/200\n",
      "45/45 [==============================] - 0s 1ms/step - loss: 7.1045 - mean_absolute_error: 2.0659\n",
      "Epoch 96/200\n",
      "45/45 [==============================] - 0s 2ms/step - loss: 7.1915 - mean_absolute_error: 2.1042\n",
      "Epoch 97/200\n",
      "45/45 [==============================] - 0s 1ms/step - loss: 7.2090 - mean_absolute_error: 2.1168\n",
      "Epoch 98/200\n",
      "45/45 [==============================] - 0s 1ms/step - loss: 7.3647 - mean_absolute_error: 2.1050\n",
      "Epoch 99/200\n",
      "45/45 [==============================] - 0s 1ms/step - loss: 7.1373 - mean_absolute_error: 2.0967\n",
      "Epoch 100/200\n",
      "45/45 [==============================] - 0s 2ms/step - loss: 7.2422 - mean_absolute_error: 2.1047\n",
      "Epoch 101/200\n",
      "45/45 [==============================] - 0s 1ms/step - loss: 7.3262 - mean_absolute_error: 2.1161\n",
      "Epoch 102/200\n",
      "45/45 [==============================] - 0s 1ms/step - loss: 7.1877 - mean_absolute_error: 2.0984\n",
      "Epoch 103/200\n",
      "45/45 [==============================] - 0s 2ms/step - loss: 7.1357 - mean_absolute_error: 2.0981\n",
      "Epoch 104/200\n",
      "45/45 [==============================] - 0s 1ms/step - loss: 7.2147 - mean_absolute_error: 2.1118\n",
      "Epoch 105/200\n",
      "45/45 [==============================] - 0s 2ms/step - loss: 7.1259 - mean_absolute_error: 2.0840\n",
      "Epoch 106/200\n",
      "45/45 [==============================] - 0s 1ms/step - loss: 6.9981 - mean_absolute_error: 2.0637\n",
      "Epoch 107/200\n",
      "45/45 [==============================] - 0s 1ms/step - loss: 7.1392 - mean_absolute_error: 2.0870\n",
      "Epoch 108/200\n",
      "45/45 [==============================] - 0s 1ms/step - loss: 7.1177 - mean_absolute_error: 2.0841\n",
      "Epoch 109/200\n",
      "45/45 [==============================] - 0s 1ms/step - loss: 7.1048 - mean_absolute_error: 2.0742\n",
      "Epoch 110/200\n",
      "45/45 [==============================] - 0s 1ms/step - loss: 6.9041 - mean_absolute_error: 2.0378\n",
      "Epoch 111/200\n",
      "45/45 [==============================] - 0s 1ms/step - loss: 7.0360 - mean_absolute_error: 2.0629\n",
      "Epoch 112/200\n",
      "45/45 [==============================] - 0s 1ms/step - loss: 7.2356 - mean_absolute_error: 2.1044\n",
      "Epoch 113/200\n",
      "45/45 [==============================] - 0s 1ms/step - loss: 7.0831 - mean_absolute_error: 2.0646\n",
      "Epoch 114/200\n",
      "45/45 [==============================] - 0s 1ms/step - loss: 6.9692 - mean_absolute_error: 2.0607\n",
      "Epoch 115/200\n",
      "45/45 [==============================] - 0s 1ms/step - loss: 6.9712 - mean_absolute_error: 2.0613\n",
      "Epoch 116/200\n",
      "45/45 [==============================] - 0s 1ms/step - loss: 7.1637 - mean_absolute_error: 2.0927\n",
      "Epoch 117/200\n",
      "45/45 [==============================] - 0s 1ms/step - loss: 7.0317 - mean_absolute_error: 2.0634\n",
      "Epoch 118/200\n",
      "45/45 [==============================] - 0s 1ms/step - loss: 7.1325 - mean_absolute_error: 2.0841\n",
      "Epoch 119/200\n",
      "45/45 [==============================] - 0s 1ms/step - loss: 6.9981 - mean_absolute_error: 2.0496\n",
      "Epoch 120/200\n",
      "45/45 [==============================] - 0s 1ms/step - loss: 6.9931 - mean_absolute_error: 2.0661\n",
      "Epoch 121/200\n",
      "45/45 [==============================] - 0s 1ms/step - loss: 6.9005 - mean_absolute_error: 2.0453\n",
      "Epoch 122/200\n",
      "45/45 [==============================] - 0s 1ms/step - loss: 6.9726 - mean_absolute_error: 2.0621\n",
      "Epoch 123/200\n",
      "45/45 [==============================] - 0s 1ms/step - loss: 7.3853 - mean_absolute_error: 2.1193\n",
      "Epoch 124/200\n",
      "45/45 [==============================] - 0s 1ms/step - loss: 7.0914 - mean_absolute_error: 2.0846\n",
      "Epoch 125/200\n",
      "45/45 [==============================] - 0s 1ms/step - loss: 7.1308 - mean_absolute_error: 2.0957\n",
      "Epoch 126/200\n",
      "45/45 [==============================] - 0s 1ms/step - loss: 6.9387 - mean_absolute_error: 2.0390\n",
      "Epoch 127/200\n",
      "45/45 [==============================] - 0s 1ms/step - loss: 7.0148 - mean_absolute_error: 2.0683\n",
      "Epoch 128/200\n",
      "45/45 [==============================] - 0s 1ms/step - loss: 7.0142 - mean_absolute_error: 2.0629\n",
      "Epoch 129/200\n",
      "45/45 [==============================] - 0s 1ms/step - loss: 7.0769 - mean_absolute_error: 2.0756\n",
      "Epoch 130/200\n",
      "45/45 [==============================] - 0s 2ms/step - loss: 6.9932 - mean_absolute_error: 2.0600\n",
      "Epoch 131/200\n",
      "45/45 [==============================] - 0s 1ms/step - loss: 6.9300 - mean_absolute_error: 2.0481\n",
      "Epoch 132/200\n",
      "45/45 [==============================] - 0s 1ms/step - loss: 6.8858 - mean_absolute_error: 2.0439\n",
      "Epoch 133/200\n",
      "45/45 [==============================] - 0s 1ms/step - loss: 6.9983 - mean_absolute_error: 2.0526\n",
      "Epoch 134/200\n",
      "45/45 [==============================] - 0s 1ms/step - loss: 6.8362 - mean_absolute_error: 2.0317\n",
      "Epoch 135/200\n",
      "45/45 [==============================] - 0s 1ms/step - loss: 7.0104 - mean_absolute_error: 2.0560\n",
      "Epoch 136/200\n",
      "45/45 [==============================] - 0s 1ms/step - loss: 7.1722 - mean_absolute_error: 2.0857\n",
      "Epoch 137/200\n",
      "45/45 [==============================] - 0s 1ms/step - loss: 7.2676 - mean_absolute_error: 2.1122\n",
      "Epoch 138/200\n",
      "45/45 [==============================] - 0s 1ms/step - loss: 7.1046 - mean_absolute_error: 2.0855\n",
      "Epoch 139/200\n",
      "45/45 [==============================] - 0s 1ms/step - loss: 7.1193 - mean_absolute_error: 2.0821\n",
      "Epoch 140/200\n",
      "45/45 [==============================] - 0s 1ms/step - loss: 7.0929 - mean_absolute_error: 2.0848\n",
      "Epoch 141/200\n",
      "45/45 [==============================] - 0s 1ms/step - loss: 6.9966 - mean_absolute_error: 2.0752\n",
      "Epoch 142/200\n",
      "45/45 [==============================] - 0s 1ms/step - loss: 6.8731 - mean_absolute_error: 2.0324\n",
      "Epoch 143/200\n",
      "45/45 [==============================] - 0s 1ms/step - loss: 7.1976 - mean_absolute_error: 2.0992\n",
      "Epoch 144/200\n",
      "45/45 [==============================] - 0s 1ms/step - loss: 6.9182 - mean_absolute_error: 2.0626\n",
      "Epoch 145/200\n",
      "45/45 [==============================] - 0s 1ms/step - loss: 6.9297 - mean_absolute_error: 2.0561\n",
      "Epoch 146/200\n",
      "45/45 [==============================] - 0s 2ms/step - loss: 7.0470 - mean_absolute_error: 2.0691\n",
      "Epoch 147/200\n",
      "45/45 [==============================] - 0s 1ms/step - loss: 6.8748 - mean_absolute_error: 2.0351\n",
      "Epoch 148/200\n",
      "45/45 [==============================] - 0s 1ms/step - loss: 6.9704 - mean_absolute_error: 2.0423\n",
      "Epoch 149/200\n",
      "45/45 [==============================] - 0s 1ms/step - loss: 6.8351 - mean_absolute_error: 2.0341\n",
      "Epoch 150/200\n",
      "45/45 [==============================] - 0s 1ms/step - loss: 6.8065 - mean_absolute_error: 2.0282\n",
      "Epoch 151/200\n",
      "45/45 [==============================] - 0s 1ms/step - loss: 6.8385 - mean_absolute_error: 2.0397\n",
      "Epoch 152/200\n",
      "45/45 [==============================] - 0s 1ms/step - loss: 6.8742 - mean_absolute_error: 2.0537\n",
      "Epoch 153/200\n",
      "45/45 [==============================] - 0s 1ms/step - loss: 7.0522 - mean_absolute_error: 2.0588\n",
      "Epoch 154/200\n",
      "45/45 [==============================] - 0s 1ms/step - loss: 6.7939 - mean_absolute_error: 2.0209\n",
      "Epoch 155/200\n",
      "45/45 [==============================] - 0s 1ms/step - loss: 6.9311 - mean_absolute_error: 2.0507\n",
      "Epoch 156/200\n",
      "45/45 [==============================] - 0s 1ms/step - loss: 6.9237 - mean_absolute_error: 2.0561\n",
      "Epoch 157/200\n",
      "45/45 [==============================] - 0s 1ms/step - loss: 6.7580 - mean_absolute_error: 2.0261\n",
      "Epoch 158/200\n",
      "45/45 [==============================] - 0s 1ms/step - loss: 7.2915 - mean_absolute_error: 2.1040\n",
      "Epoch 159/200\n",
      "45/45 [==============================] - 0s 1ms/step - loss: 7.0703 - mean_absolute_error: 2.0767\n",
      "Epoch 160/200\n",
      "45/45 [==============================] - 0s 1ms/step - loss: 6.8268 - mean_absolute_error: 2.0224\n",
      "Epoch 161/200\n",
      "45/45 [==============================] - 0s 2ms/step - loss: 6.7455 - mean_absolute_error: 2.0085\n",
      "Epoch 162/200\n",
      "45/45 [==============================] - 0s 1ms/step - loss: 7.1718 - mean_absolute_error: 2.1027\n",
      "Epoch 163/200\n",
      "45/45 [==============================] - 0s 1ms/step - loss: 6.9016 - mean_absolute_error: 2.0490\n",
      "Epoch 164/200\n",
      "45/45 [==============================] - 0s 1ms/step - loss: 6.9059 - mean_absolute_error: 2.0432\n",
      "Epoch 165/200\n",
      "45/45 [==============================] - 0s 1ms/step - loss: 6.8389 - mean_absolute_error: 2.0324\n",
      "Epoch 166/200\n",
      "45/45 [==============================] - 0s 1ms/step - loss: 6.7721 - mean_absolute_error: 2.0196\n",
      "Epoch 167/200\n",
      "45/45 [==============================] - 0s 1ms/step - loss: 6.8269 - mean_absolute_error: 2.0266\n",
      "Epoch 168/200\n",
      "45/45 [==============================] - 0s 1ms/step - loss: 6.9096 - mean_absolute_error: 2.0430\n",
      "Epoch 169/200\n",
      "45/45 [==============================] - 0s 1ms/step - loss: 7.1254 - mean_absolute_error: 2.0791\n",
      "Epoch 170/200\n",
      "45/45 [==============================] - 0s 1ms/step - loss: 6.9515 - mean_absolute_error: 2.0672\n",
      "Epoch 171/200\n",
      "45/45 [==============================] - 0s 1ms/step - loss: 6.8310 - mean_absolute_error: 2.0293\n",
      "Epoch 172/200\n",
      "45/45 [==============================] - 0s 1ms/step - loss: 6.7837 - mean_absolute_error: 2.0280\n",
      "Epoch 173/200\n",
      "45/45 [==============================] - 0s 2ms/step - loss: 6.7638 - mean_absolute_error: 2.0173\n",
      "Epoch 174/200\n",
      "45/45 [==============================] - 0s 1ms/step - loss: 6.6716 - mean_absolute_error: 1.9997\n",
      "Epoch 175/200\n",
      "45/45 [==============================] - 0s 1ms/step - loss: 6.8223 - mean_absolute_error: 2.0298\n",
      "Epoch 176/200\n",
      "45/45 [==============================] - 0s 1ms/step - loss: 6.9176 - mean_absolute_error: 2.0536\n",
      "Epoch 177/200\n",
      "45/45 [==============================] - 0s 2ms/step - loss: 6.9727 - mean_absolute_error: 2.0468\n",
      "Epoch 178/200\n",
      "45/45 [==============================] - 0s 1ms/step - loss: 6.7437 - mean_absolute_error: 2.0301\n",
      "Epoch 179/200\n",
      "45/45 [==============================] - 0s 1ms/step - loss: 6.9339 - mean_absolute_error: 2.0525\n",
      "Epoch 180/200\n",
      "45/45 [==============================] - 0s 1ms/step - loss: 7.0919 - mean_absolute_error: 2.0864\n",
      "Epoch 181/200\n",
      "45/45 [==============================] - 0s 1ms/step - loss: 7.2073 - mean_absolute_error: 2.0801\n",
      "Epoch 182/200\n",
      "45/45 [==============================] - 0s 1ms/step - loss: 6.8145 - mean_absolute_error: 2.0327\n",
      "Epoch 183/200\n",
      "45/45 [==============================] - 0s 1ms/step - loss: 6.8049 - mean_absolute_error: 2.0156\n",
      "Epoch 184/200\n",
      "45/45 [==============================] - 0s 1ms/step - loss: 6.8805 - mean_absolute_error: 2.0278\n",
      "Epoch 185/200\n",
      "45/45 [==============================] - 0s 1ms/step - loss: 6.8649 - mean_absolute_error: 2.0433\n",
      "Epoch 186/200\n",
      "45/45 [==============================] - 0s 1ms/step - loss: 6.8146 - mean_absolute_error: 2.0270\n",
      "Epoch 187/200\n",
      "45/45 [==============================] - 0s 1ms/step - loss: 6.8658 - mean_absolute_error: 2.0451\n",
      "Epoch 188/200\n",
      "45/45 [==============================] - 0s 1ms/step - loss: 6.7240 - mean_absolute_error: 2.0108\n",
      "Epoch 189/200\n",
      "45/45 [==============================] - 0s 1ms/step - loss: 6.7652 - mean_absolute_error: 2.0106\n",
      "Epoch 190/200\n",
      "45/45 [==============================] - 0s 1ms/step - loss: 6.7932 - mean_absolute_error: 2.0149\n",
      "Epoch 191/200\n",
      "45/45 [==============================] - 0s 1ms/step - loss: 6.9439 - mean_absolute_error: 2.0561\n",
      "Epoch 192/200\n",
      "45/45 [==============================] - 0s 2ms/step - loss: 6.7678 - mean_absolute_error: 2.0241\n",
      "Epoch 193/200\n",
      "45/45 [==============================] - 0s 1ms/step - loss: 6.7545 - mean_absolute_error: 2.0262\n",
      "Epoch 194/200\n",
      "45/45 [==============================] - 0s 1ms/step - loss: 6.6701 - mean_absolute_error: 1.9967\n",
      "Epoch 195/200\n",
      "45/45 [==============================] - 0s 1ms/step - loss: 6.6899 - mean_absolute_error: 2.0125\n",
      "Epoch 196/200\n",
      "45/45 [==============================] - 0s 1ms/step - loss: 6.7184 - mean_absolute_error: 2.0127\n",
      "Epoch 197/200\n",
      "45/45 [==============================] - 0s 2ms/step - loss: 6.8506 - mean_absolute_error: 2.0236\n",
      "Epoch 198/200\n",
      "45/45 [==============================] - 0s 1ms/step - loss: 6.8459 - mean_absolute_error: 2.0371\n",
      "Epoch 199/200\n",
      "45/45 [==============================] - 0s 1ms/step - loss: 6.7224 - mean_absolute_error: 2.0272\n",
      "Epoch 200/200\n",
      "45/45 [==============================] - 0s 1ms/step - loss: 6.7713 - mean_absolute_error: 2.0154\n"
     ]
    }
   ],
   "source": [
    "# rerun this cell multiple times if necessary\n",
    "\n",
    "history = model.fit(x_train, y_train, epochs=200)"
   ]
  },
  {
   "cell_type": "code",
   "execution_count": 177,
   "metadata": {
    "id": "uZ0hMA0KJK0B"
   },
   "outputs": [
    {
     "name": "stdout",
     "output_type": "stream",
     "text": [
      "15/15 [==============================] - 0s 778us/step\n"
     ]
    },
    {
     "data": {
      "text/plain": [
       "(2.7460096354706813, 11.760190840568812)"
      ]
     },
     "execution_count": 177,
     "metadata": {},
     "output_type": "execute_result"
    }
   ],
   "source": [
    "pred = model.predict(x_test)\n",
    "(mean_absolute_error(pred, y_test), mean_squared_error(pred, y_test))"
   ]
  },
  {
   "cell_type": "markdown",
   "metadata": {
    "id": "nMbvOIcVJa2X"
   },
   "source": [
    "Now we see that the mean absolute error is increasing, this is due to the fact that the model is overfitting to the dataset. It cannot properly predict values from features values outside this dataset.  \n",
    "Solution to this problem at that point is to either increase the number of features per sample, or increase the number of samples in the dataset."
   ]
  },
  {
   "cell_type": "markdown",
   "metadata": {
    "id": "ufZFb0JKz8XQ"
   },
   "source": [
    "The limits of this model is that first it is not cross validated. Second, it is ²really energy inefficient, we had to wait some time and build the whole model. It's also memory intensive, and uses power. All that to obtain a performance that is in 5% of the kNN model performance. So while the neural network is more precise, it can also be less convenient."
   ]
  },
  {
   "cell_type": "markdown",
   "metadata": {
    "id": "l9stPvTIztOW"
   },
   "source": [
    "For our dataset, there is no point in training a whole network to have the same performance as a kNN, that is less greedy in training, time and energy. So for now we will use the kNN as the model for the API."
   ]
  }
 ],
 "metadata": {
  "colab": {
   "collapsed_sections": [
    "P_vdITHEsaqf",
    "QsSb6x1w4cVp",
    "zQ6Y8HgmL8pB",
    "247RUgU6xwpI",
    "nD1tGwW05aWX",
    "dFp1z1UVBmYH",
    "REOc3VVs03LQ",
    "YKXwEnA1zlJl",
    "xWvIpFdIz-uQ",
    "bRYDWzsd1mqP",
    "PR7K7azP1_YH",
    "3i98e6OQ2g3t",
    "Q_akKE_F3nl-",
    "eR2QPmQi4kap",
    "umQvpE6-48BQ",
    "442ba_MI5krl",
    "l3nt1JP075v5",
    "W-Rp6N478HiE",
    "56Z-D-iE9qhi",
    "ZcJKdmLa-uKo",
    "zi9MUmwX_6rR",
    "GzPbQFG9BFm9",
    "5CuO4v95BdW7",
    "SLFk0Yi_B0-N",
    "aHcWLx69DFat",
    "vxFD1RfRDVxv",
    "U5voaBlhEbSv",
    "RzUi8EupEmDE",
    "AuCGX1xgBncp",
    "0MrafL6zB1uu"
   ],
   "provenance": []
  },
  "kernelspec": {
   "display_name": "Python 3 (ipykernel)",
   "language": "python",
   "name": "python3"
  },
  "language_info": {
   "codemirror_mode": {
    "name": "ipython",
    "version": 3
   },
   "file_extension": ".py",
   "mimetype": "text/x-python",
   "name": "python",
   "nbconvert_exporter": "python",
   "pygments_lexer": "ipython3",
   "version": "3.11.5"
  }
 },
 "nbformat": 4,
 "nbformat_minor": 4
}
